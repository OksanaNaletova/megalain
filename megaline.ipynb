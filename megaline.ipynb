{
 "cells": [
  {
   "cell_type": "markdown",
   "metadata": {},
   "source": [
    "# Определение перспективного тарифа для телеком компании\n"
   ]
  },
  {
   "cell_type": "markdown",
   "metadata": {},
   "source": [
    "**Цель**: Определить выгодный тарифный план для корректировки рекламного бюджета.\n",
    "\n",
    "**Выборка**. Данные 500 пользователей тарифных планов «Смарт» и «Ультра»: кто они, откуда, каким тарифом пользуются, сколько звонков и сообщений каждый отправил за 2018 год.\n",
    "\n",
    "**Описание тарифов**\n",
    "   \n",
    "   * **Тариф «Смарт»**\n",
    "1. Ежемесячная плата: 550 рублей\n",
    "2. Включено 500 минут разговора, 50 сообщений и 15 Гб интернет-трафика\n",
    "3. Стоимость услуг сверх тарифного пакета:\n",
    "      - минута разговора: 3 рубля\n",
    "      - сообщение: 3 рубля\n",
    "      - 1 Гб интернет-трафика: 200 рублей\n",
    "   \n",
    "   \n",
    "   * **Тариф «Ультра»**\n",
    "1. Ежемесячная плата: 1950 рублей\n",
    "2. Включено 3000 минут разговора, 1000 сообщений и 30 Гб интернет-трафика\n",
    "3. Стоимость услуг сверх тарифного пакета:\n",
    "      - минута разговора: 1 рубль\n",
    "      - сообщение: 1 рубль\n",
    "      - 1 Гб интернет-трафика: 150 рублей\n",
    "\n",
    "**Примечание**: «Мегалайн» всегда округляет секунды до минут, а мегабайты — до гигабайт:\n",
    "\n",
    "* Каждый звонок округляется отдельно: даже если он длился всего 1 секунду, будет засчитан как 1 минута. \n",
    "* Для веб-трафика отдельные сессии не считаются. Вместо этого общая сумма за месяц округляется в бо́льшую сторону. Если абонент использует 1025 мегабайт в этом месяце, с него возьмут плату за 2 гигабайта."
   ]
  },
  {
   "cell_type": "markdown",
   "metadata": {},
   "source": [
    "## Изучение данных"
   ]
  },
  {
   "cell_type": "code",
   "execution_count": 1,
   "metadata": {},
   "outputs": [],
   "source": [
    "# импортируем библиотеки\n",
    "import pandas as pd\n",
    "import numpy as np \n",
    "import matplotlib.pyplot as plt \n",
    "from scipy import stats as st"
   ]
  },
  {
   "cell_type": "code",
   "execution_count": 2,
   "metadata": {},
   "outputs": [],
   "source": [
    "# код для отображения 200 столбцов в датасетах\n",
    "pd.options.display.max_columns = 200"
   ]
  },
  {
   "cell_type": "code",
   "execution_count": 3,
   "metadata": {},
   "outputs": [],
   "source": [
    "# прочтем датасеты\n",
    "calls = pd.read_csv('/datasets/calls.csv')\n",
    "internet = pd.read_csv('/datasets/internet.csv', index_col=[0])\n",
    "messages = pd.read_csv('/datasets/messages.csv')\n",
    "tariffs = pd.read_csv('/datasets/tariffs.csv')\n",
    "users = pd.read_csv('/datasets/users.csv')"
   ]
  },
  {
   "cell_type": "code",
   "execution_count": 4,
   "metadata": {},
   "outputs": [
    {
     "name": "stdout",
     "output_type": "stream",
     "text": [
      "<class 'pandas.core.frame.DataFrame'>\n",
      "RangeIndex: 202607 entries, 0 to 202606\n",
      "Data columns (total 4 columns):\n",
      " #   Column     Non-Null Count   Dtype  \n",
      "---  ------     --------------   -----  \n",
      " 0   id         202607 non-null  object \n",
      " 1   call_date  202607 non-null  object \n",
      " 2   duration   202607 non-null  float64\n",
      " 3   user_id    202607 non-null  int64  \n",
      "dtypes: float64(1), int64(1), object(2)\n",
      "memory usage: 6.2+ MB\n",
      "\n",
      "<class 'pandas.core.frame.DataFrame'>\n",
      "Int64Index: 149396 entries, 0 to 149395\n",
      "Data columns (total 4 columns):\n",
      " #   Column        Non-Null Count   Dtype  \n",
      "---  ------        --------------   -----  \n",
      " 0   id            149396 non-null  object \n",
      " 1   mb_used       149396 non-null  float64\n",
      " 2   session_date  149396 non-null  object \n",
      " 3   user_id       149396 non-null  int64  \n",
      "dtypes: float64(1), int64(1), object(2)\n",
      "memory usage: 5.7+ MB\n",
      "\n",
      "<class 'pandas.core.frame.DataFrame'>\n",
      "RangeIndex: 123036 entries, 0 to 123035\n",
      "Data columns (total 3 columns):\n",
      " #   Column        Non-Null Count   Dtype \n",
      "---  ------        --------------   ----- \n",
      " 0   id            123036 non-null  object\n",
      " 1   message_date  123036 non-null  object\n",
      " 2   user_id       123036 non-null  int64 \n",
      "dtypes: int64(1), object(2)\n",
      "memory usage: 2.8+ MB\n",
      "\n",
      "<class 'pandas.core.frame.DataFrame'>\n",
      "RangeIndex: 2 entries, 0 to 1\n",
      "Data columns (total 8 columns):\n",
      " #   Column                 Non-Null Count  Dtype \n",
      "---  ------                 --------------  ----- \n",
      " 0   messages_included      2 non-null      int64 \n",
      " 1   mb_per_month_included  2 non-null      int64 \n",
      " 2   minutes_included       2 non-null      int64 \n",
      " 3   rub_monthly_fee        2 non-null      int64 \n",
      " 4   rub_per_gb             2 non-null      int64 \n",
      " 5   rub_per_message        2 non-null      int64 \n",
      " 6   rub_per_minute         2 non-null      int64 \n",
      " 7   tariff_name            2 non-null      object\n",
      "dtypes: int64(7), object(1)\n",
      "memory usage: 256.0+ bytes\n",
      "\n",
      "<class 'pandas.core.frame.DataFrame'>\n",
      "RangeIndex: 500 entries, 0 to 499\n",
      "Data columns (total 8 columns):\n",
      " #   Column      Non-Null Count  Dtype \n",
      "---  ------      --------------  ----- \n",
      " 0   user_id     500 non-null    int64 \n",
      " 1   age         500 non-null    int64 \n",
      " 2   churn_date  38 non-null     object\n",
      " 3   city        500 non-null    object\n",
      " 4   first_name  500 non-null    object\n",
      " 5   last_name   500 non-null    object\n",
      " 6   reg_date    500 non-null    object\n",
      " 7   tariff      500 non-null    object\n",
      "dtypes: int64(2), object(6)\n",
      "memory usage: 31.4+ KB\n",
      "\n"
     ]
    }
   ],
   "source": [
    "# просмотрим информацию о данных\n",
    "for element in (calls, internet, messages, tariffs, users):\n",
    "    element.info()\n",
    "    print()\n",
    "   "
   ]
  },
  {
   "cell_type": "code",
   "execution_count": 5,
   "metadata": {},
   "outputs": [
    {
     "data": {
      "text/html": [
       "<div>\n",
       "<style scoped>\n",
       "    .dataframe tbody tr th:only-of-type {\n",
       "        vertical-align: middle;\n",
       "    }\n",
       "\n",
       "    .dataframe tbody tr th {\n",
       "        vertical-align: top;\n",
       "    }\n",
       "\n",
       "    .dataframe thead th {\n",
       "        text-align: right;\n",
       "    }\n",
       "</style>\n",
       "<table border=\"1\" class=\"dataframe\">\n",
       "  <thead>\n",
       "    <tr style=\"text-align: right;\">\n",
       "      <th></th>\n",
       "      <th>id</th>\n",
       "      <th>call_date</th>\n",
       "      <th>duration</th>\n",
       "      <th>user_id</th>\n",
       "    </tr>\n",
       "  </thead>\n",
       "  <tbody>\n",
       "    <tr>\n",
       "      <th>0</th>\n",
       "      <td>1000_0</td>\n",
       "      <td>2018-07-25</td>\n",
       "      <td>0.00</td>\n",
       "      <td>1000</td>\n",
       "    </tr>\n",
       "    <tr>\n",
       "      <th>1</th>\n",
       "      <td>1000_1</td>\n",
       "      <td>2018-08-17</td>\n",
       "      <td>0.00</td>\n",
       "      <td>1000</td>\n",
       "    </tr>\n",
       "    <tr>\n",
       "      <th>2</th>\n",
       "      <td>1000_2</td>\n",
       "      <td>2018-06-11</td>\n",
       "      <td>2.85</td>\n",
       "      <td>1000</td>\n",
       "    </tr>\n",
       "    <tr>\n",
       "      <th>3</th>\n",
       "      <td>1000_3</td>\n",
       "      <td>2018-09-21</td>\n",
       "      <td>13.80</td>\n",
       "      <td>1000</td>\n",
       "    </tr>\n",
       "    <tr>\n",
       "      <th>4</th>\n",
       "      <td>1000_4</td>\n",
       "      <td>2018-12-15</td>\n",
       "      <td>5.18</td>\n",
       "      <td>1000</td>\n",
       "    </tr>\n",
       "  </tbody>\n",
       "</table>\n",
       "</div>"
      ],
      "text/plain": [
       "       id   call_date  duration  user_id\n",
       "0  1000_0  2018-07-25      0.00     1000\n",
       "1  1000_1  2018-08-17      0.00     1000\n",
       "2  1000_2  2018-06-11      2.85     1000\n",
       "3  1000_3  2018-09-21     13.80     1000\n",
       "4  1000_4  2018-12-15      5.18     1000"
      ]
     },
     "execution_count": 5,
     "metadata": {},
     "output_type": "execute_result"
    }
   ],
   "source": [
    "# выведем первые 5 строк\n",
    "calls.head() "
   ]
  },
  {
   "cell_type": "code",
   "execution_count": 6,
   "metadata": {},
   "outputs": [
    {
     "data": {
      "text/html": [
       "<div>\n",
       "<style scoped>\n",
       "    .dataframe tbody tr th:only-of-type {\n",
       "        vertical-align: middle;\n",
       "    }\n",
       "\n",
       "    .dataframe tbody tr th {\n",
       "        vertical-align: top;\n",
       "    }\n",
       "\n",
       "    .dataframe thead th {\n",
       "        text-align: right;\n",
       "    }\n",
       "</style>\n",
       "<table border=\"1\" class=\"dataframe\">\n",
       "  <thead>\n",
       "    <tr style=\"text-align: right;\">\n",
       "      <th></th>\n",
       "      <th>id</th>\n",
       "      <th>mb_used</th>\n",
       "      <th>session_date</th>\n",
       "      <th>user_id</th>\n",
       "    </tr>\n",
       "  </thead>\n",
       "  <tbody>\n",
       "    <tr>\n",
       "      <th>0</th>\n",
       "      <td>1000_0</td>\n",
       "      <td>112.95</td>\n",
       "      <td>2018-11-25</td>\n",
       "      <td>1000</td>\n",
       "    </tr>\n",
       "    <tr>\n",
       "      <th>1</th>\n",
       "      <td>1000_1</td>\n",
       "      <td>1052.81</td>\n",
       "      <td>2018-09-07</td>\n",
       "      <td>1000</td>\n",
       "    </tr>\n",
       "    <tr>\n",
       "      <th>2</th>\n",
       "      <td>1000_2</td>\n",
       "      <td>1197.26</td>\n",
       "      <td>2018-06-25</td>\n",
       "      <td>1000</td>\n",
       "    </tr>\n",
       "    <tr>\n",
       "      <th>3</th>\n",
       "      <td>1000_3</td>\n",
       "      <td>550.27</td>\n",
       "      <td>2018-08-22</td>\n",
       "      <td>1000</td>\n",
       "    </tr>\n",
       "    <tr>\n",
       "      <th>4</th>\n",
       "      <td>1000_4</td>\n",
       "      <td>302.56</td>\n",
       "      <td>2018-09-24</td>\n",
       "      <td>1000</td>\n",
       "    </tr>\n",
       "  </tbody>\n",
       "</table>\n",
       "</div>"
      ],
      "text/plain": [
       "       id  mb_used session_date  user_id\n",
       "0  1000_0   112.95   2018-11-25     1000\n",
       "1  1000_1  1052.81   2018-09-07     1000\n",
       "2  1000_2  1197.26   2018-06-25     1000\n",
       "3  1000_3   550.27   2018-08-22     1000\n",
       "4  1000_4   302.56   2018-09-24     1000"
      ]
     },
     "execution_count": 6,
     "metadata": {},
     "output_type": "execute_result"
    }
   ],
   "source": [
    "internet.head()"
   ]
  },
  {
   "cell_type": "code",
   "execution_count": 7,
   "metadata": {},
   "outputs": [
    {
     "data": {
      "text/html": [
       "<div>\n",
       "<style scoped>\n",
       "    .dataframe tbody tr th:only-of-type {\n",
       "        vertical-align: middle;\n",
       "    }\n",
       "\n",
       "    .dataframe tbody tr th {\n",
       "        vertical-align: top;\n",
       "    }\n",
       "\n",
       "    .dataframe thead th {\n",
       "        text-align: right;\n",
       "    }\n",
       "</style>\n",
       "<table border=\"1\" class=\"dataframe\">\n",
       "  <thead>\n",
       "    <tr style=\"text-align: right;\">\n",
       "      <th></th>\n",
       "      <th>id</th>\n",
       "      <th>message_date</th>\n",
       "      <th>user_id</th>\n",
       "    </tr>\n",
       "  </thead>\n",
       "  <tbody>\n",
       "    <tr>\n",
       "      <th>0</th>\n",
       "      <td>1000_0</td>\n",
       "      <td>2018-06-27</td>\n",
       "      <td>1000</td>\n",
       "    </tr>\n",
       "    <tr>\n",
       "      <th>1</th>\n",
       "      <td>1000_1</td>\n",
       "      <td>2018-10-08</td>\n",
       "      <td>1000</td>\n",
       "    </tr>\n",
       "    <tr>\n",
       "      <th>2</th>\n",
       "      <td>1000_2</td>\n",
       "      <td>2018-08-04</td>\n",
       "      <td>1000</td>\n",
       "    </tr>\n",
       "    <tr>\n",
       "      <th>3</th>\n",
       "      <td>1000_3</td>\n",
       "      <td>2018-06-16</td>\n",
       "      <td>1000</td>\n",
       "    </tr>\n",
       "    <tr>\n",
       "      <th>4</th>\n",
       "      <td>1000_4</td>\n",
       "      <td>2018-12-05</td>\n",
       "      <td>1000</td>\n",
       "    </tr>\n",
       "  </tbody>\n",
       "</table>\n",
       "</div>"
      ],
      "text/plain": [
       "       id message_date  user_id\n",
       "0  1000_0   2018-06-27     1000\n",
       "1  1000_1   2018-10-08     1000\n",
       "2  1000_2   2018-08-04     1000\n",
       "3  1000_3   2018-06-16     1000\n",
       "4  1000_4   2018-12-05     1000"
      ]
     },
     "execution_count": 7,
     "metadata": {},
     "output_type": "execute_result"
    }
   ],
   "source": [
    "messages.head()"
   ]
  },
  {
   "cell_type": "code",
   "execution_count": 8,
   "metadata": {},
   "outputs": [
    {
     "data": {
      "text/html": [
       "<div>\n",
       "<style scoped>\n",
       "    .dataframe tbody tr th:only-of-type {\n",
       "        vertical-align: middle;\n",
       "    }\n",
       "\n",
       "    .dataframe tbody tr th {\n",
       "        vertical-align: top;\n",
       "    }\n",
       "\n",
       "    .dataframe thead th {\n",
       "        text-align: right;\n",
       "    }\n",
       "</style>\n",
       "<table border=\"1\" class=\"dataframe\">\n",
       "  <thead>\n",
       "    <tr style=\"text-align: right;\">\n",
       "      <th></th>\n",
       "      <th>messages_included</th>\n",
       "      <th>mb_per_month_included</th>\n",
       "      <th>minutes_included</th>\n",
       "      <th>rub_monthly_fee</th>\n",
       "      <th>rub_per_gb</th>\n",
       "      <th>rub_per_message</th>\n",
       "      <th>rub_per_minute</th>\n",
       "      <th>tariff_name</th>\n",
       "    </tr>\n",
       "  </thead>\n",
       "  <tbody>\n",
       "    <tr>\n",
       "      <th>0</th>\n",
       "      <td>50</td>\n",
       "      <td>15360</td>\n",
       "      <td>500</td>\n",
       "      <td>550</td>\n",
       "      <td>200</td>\n",
       "      <td>3</td>\n",
       "      <td>3</td>\n",
       "      <td>smart</td>\n",
       "    </tr>\n",
       "    <tr>\n",
       "      <th>1</th>\n",
       "      <td>1000</td>\n",
       "      <td>30720</td>\n",
       "      <td>3000</td>\n",
       "      <td>1950</td>\n",
       "      <td>150</td>\n",
       "      <td>1</td>\n",
       "      <td>1</td>\n",
       "      <td>ultra</td>\n",
       "    </tr>\n",
       "  </tbody>\n",
       "</table>\n",
       "</div>"
      ],
      "text/plain": [
       "   messages_included  mb_per_month_included  minutes_included  \\\n",
       "0                 50                  15360               500   \n",
       "1               1000                  30720              3000   \n",
       "\n",
       "   rub_monthly_fee  rub_per_gb  rub_per_message  rub_per_minute tariff_name  \n",
       "0              550         200                3               3       smart  \n",
       "1             1950         150                1               1       ultra  "
      ]
     },
     "execution_count": 8,
     "metadata": {},
     "output_type": "execute_result"
    }
   ],
   "source": [
    "tariffs.head()"
   ]
  },
  {
   "cell_type": "code",
   "execution_count": 9,
   "metadata": {},
   "outputs": [
    {
     "data": {
      "text/html": [
       "<div>\n",
       "<style scoped>\n",
       "    .dataframe tbody tr th:only-of-type {\n",
       "        vertical-align: middle;\n",
       "    }\n",
       "\n",
       "    .dataframe tbody tr th {\n",
       "        vertical-align: top;\n",
       "    }\n",
       "\n",
       "    .dataframe thead th {\n",
       "        text-align: right;\n",
       "    }\n",
       "</style>\n",
       "<table border=\"1\" class=\"dataframe\">\n",
       "  <thead>\n",
       "    <tr style=\"text-align: right;\">\n",
       "      <th></th>\n",
       "      <th>user_id</th>\n",
       "      <th>age</th>\n",
       "      <th>churn_date</th>\n",
       "      <th>city</th>\n",
       "      <th>first_name</th>\n",
       "      <th>last_name</th>\n",
       "      <th>reg_date</th>\n",
       "      <th>tariff</th>\n",
       "    </tr>\n",
       "  </thead>\n",
       "  <tbody>\n",
       "    <tr>\n",
       "      <th>0</th>\n",
       "      <td>1000</td>\n",
       "      <td>52</td>\n",
       "      <td>NaN</td>\n",
       "      <td>Краснодар</td>\n",
       "      <td>Рафаил</td>\n",
       "      <td>Верещагин</td>\n",
       "      <td>2018-05-25</td>\n",
       "      <td>ultra</td>\n",
       "    </tr>\n",
       "    <tr>\n",
       "      <th>1</th>\n",
       "      <td>1001</td>\n",
       "      <td>41</td>\n",
       "      <td>NaN</td>\n",
       "      <td>Москва</td>\n",
       "      <td>Иван</td>\n",
       "      <td>Ежов</td>\n",
       "      <td>2018-11-01</td>\n",
       "      <td>smart</td>\n",
       "    </tr>\n",
       "    <tr>\n",
       "      <th>2</th>\n",
       "      <td>1002</td>\n",
       "      <td>59</td>\n",
       "      <td>NaN</td>\n",
       "      <td>Стерлитамак</td>\n",
       "      <td>Евгений</td>\n",
       "      <td>Абрамович</td>\n",
       "      <td>2018-06-17</td>\n",
       "      <td>smart</td>\n",
       "    </tr>\n",
       "    <tr>\n",
       "      <th>3</th>\n",
       "      <td>1003</td>\n",
       "      <td>23</td>\n",
       "      <td>NaN</td>\n",
       "      <td>Москва</td>\n",
       "      <td>Белла</td>\n",
       "      <td>Белякова</td>\n",
       "      <td>2018-08-17</td>\n",
       "      <td>ultra</td>\n",
       "    </tr>\n",
       "    <tr>\n",
       "      <th>4</th>\n",
       "      <td>1004</td>\n",
       "      <td>68</td>\n",
       "      <td>NaN</td>\n",
       "      <td>Новокузнецк</td>\n",
       "      <td>Татьяна</td>\n",
       "      <td>Авдеенко</td>\n",
       "      <td>2018-05-14</td>\n",
       "      <td>ultra</td>\n",
       "    </tr>\n",
       "  </tbody>\n",
       "</table>\n",
       "</div>"
      ],
      "text/plain": [
       "   user_id  age churn_date         city first_name  last_name    reg_date  \\\n",
       "0     1000   52        NaN    Краснодар     Рафаил  Верещагин  2018-05-25   \n",
       "1     1001   41        NaN       Москва       Иван       Ежов  2018-11-01   \n",
       "2     1002   59        NaN  Стерлитамак    Евгений  Абрамович  2018-06-17   \n",
       "3     1003   23        NaN       Москва      Белла   Белякова  2018-08-17   \n",
       "4     1004   68        NaN  Новокузнецк    Татьяна   Авдеенко  2018-05-14   \n",
       "\n",
       "  tariff  \n",
       "0  ultra  \n",
       "1  smart  \n",
       "2  smart  \n",
       "3  ultra  \n",
       "4  ultra  "
      ]
     },
     "execution_count": 9,
     "metadata": {},
     "output_type": "execute_result"
    }
   ],
   "source": [
    "users.head()"
   ]
  },
  {
   "cell_type": "markdown",
   "metadata": {},
   "source": [
    "С данными особо никаких проблем на первом этапе не очень заметно. Точно необходимо будет поработать с типом данным, объедением таблиц и некоторыми пропусками после объедения, так как рзмеры таблиц разныею В датасетах пропусков нетб кроме даты прекращения пользования тарифом. Пропуски в данном столбце объяснимы тем, что  что тариф еще действует на данный момент. \n",
    "\n",
    "Так же из документации нам известно описание данных: \n",
    "\n",
    "* **Описание данных**\n",
    "\n",
    "**Таблица users (информация о пользователях):**\n",
    "- *first_name* — имя пользователя\n",
    "- *last_name* — фамилия пользователя\n",
    "- *age* — возраст пользователя (годы)\n",
    "- *reg_date* — дата подключения тарифа (день, месяц, год)\n",
    "- *churn_date* — дата прекращения пользования тарифом (если значение пропущено, то тариф ещё действовал на момент выгрузки данных)\n",
    "- *city* — город проживания пользователя\n",
    "- *tariff* — название тарифного плана\n",
    "\n",
    "**Таблица calls (информация о звонках):**\n",
    "- *id* — уникальный номер звонка\n",
    "- *call_date* — дата звонка\n",
    "- *duration* — длительность звонка в минутах\n",
    "- *user_id* — идентификатор пользователя, сделавшего звонок\n",
    "\n",
    "**Таблица messages (информация о сообщениях):**\n",
    "- *id* — уникальный номер сообщения\n",
    "- *message_date* — дата сообщения\n",
    "- *user_id* — идентификатор пользователя, отправившего сообщение\n",
    "\n",
    "**Таблица internet (информация об интернет-сессиях):**\n",
    "- *id* — уникальный номер сессии\n",
    "- *mb_used* — объём потраченного за сессию интернет-трафика (в мегабайтах)\n",
    "- *session_date* — дата интернет-сессии\n",
    "- *user_id* — идентификатор пользователя\n",
    "\n",
    "**Таблица tariffs (информация о тарифах):**\n",
    "- *tariff_name* — название тарифа\n",
    "- *rub_monthly_fee* — ежемесячная абонентская плата в рублях\n",
    "- *minutes_included* — количество минут разговора в месяц, включённых в абонентскую плату\n",
    "- *messages_included* — количество сообщений в месяц, включённых в абонентскую плату\n",
    "- *mb_per_month_included* — объём интернет-трафика, включённого в абонентскую плату (в мегабайтах)\n",
    "- *rub_per_minute* — стоимость минуты разговора сверх тарифного пакета (например, если в тарифе 100 минут разговора в месяц, то со 101 минуты будет взиматься плата)\n",
    "- *rub_per_message* — стоимость отправки сообщения сверх тарифного пакета\n",
    "- *rub_per_gb* — стоимость дополнительного гигабайта интернет-трафика сверх тарифного пакета (1 гигабайт = 1024 мегабайта)\n"
   ]
  },
  {
   "cell_type": "markdown",
   "metadata": {},
   "source": [
    "## Предобработка данных\n"
   ]
  },
  {
   "cell_type": "markdown",
   "metadata": {},
   "source": [
    "### Предобработка каждой таблицы(изменение типов данных, добавление столбцов, проверка на аномалии)"
   ]
  },
  {
   "cell_type": "markdown",
   "metadata": {},
   "source": [
    "**Звонки**"
   ]
  },
  {
   "cell_type": "code",
   "execution_count": 10,
   "metadata": {},
   "outputs": [],
   "source": [
    "# Перевод даты из объектного типа в тип datetime64\n",
    "calls['call_date'] = pd.to_datetime(calls['call_date'], format='%Y-%m-%d')"
   ]
  },
  {
   "cell_type": "code",
   "execution_count": 11,
   "metadata": {},
   "outputs": [],
   "source": [
    "# Добавляем столбец с категорией месяца: Январь - 1, Февраль - 2, ..., Декабрь - 12\n",
    "calls['month'] = pd.DatetimeIndex(calls['call_date']).month"
   ]
  },
  {
   "cell_type": "code",
   "execution_count": 12,
   "metadata": {},
   "outputs": [],
   "source": [
    "# Округляем длительность звонков к большому числу и меняем тип данных на целочисленный\n",
    "calls['duration'] = np.ceil(calls['duration']).astype('int')"
   ]
  },
  {
   "cell_type": "code",
   "execution_count": 13,
   "metadata": {},
   "outputs": [
    {
     "data": {
      "text/html": [
       "<div>\n",
       "<style scoped>\n",
       "    .dataframe tbody tr th:only-of-type {\n",
       "        vertical-align: middle;\n",
       "    }\n",
       "\n",
       "    .dataframe tbody tr th {\n",
       "        vertical-align: top;\n",
       "    }\n",
       "\n",
       "    .dataframe thead th {\n",
       "        text-align: right;\n",
       "    }\n",
       "</style>\n",
       "<table border=\"1\" class=\"dataframe\">\n",
       "  <thead>\n",
       "    <tr style=\"text-align: right;\">\n",
       "      <th></th>\n",
       "      <th>id</th>\n",
       "      <th>call_date</th>\n",
       "      <th>duration</th>\n",
       "      <th>user_id</th>\n",
       "      <th>month</th>\n",
       "    </tr>\n",
       "  </thead>\n",
       "  <tbody>\n",
       "    <tr>\n",
       "      <th>0</th>\n",
       "      <td>1000_0</td>\n",
       "      <td>2018-07-25</td>\n",
       "      <td>0</td>\n",
       "      <td>1000</td>\n",
       "      <td>7</td>\n",
       "    </tr>\n",
       "    <tr>\n",
       "      <th>1</th>\n",
       "      <td>1000_1</td>\n",
       "      <td>2018-08-17</td>\n",
       "      <td>0</td>\n",
       "      <td>1000</td>\n",
       "      <td>8</td>\n",
       "    </tr>\n",
       "    <tr>\n",
       "      <th>2</th>\n",
       "      <td>1000_2</td>\n",
       "      <td>2018-06-11</td>\n",
       "      <td>3</td>\n",
       "      <td>1000</td>\n",
       "      <td>6</td>\n",
       "    </tr>\n",
       "    <tr>\n",
       "      <th>3</th>\n",
       "      <td>1000_3</td>\n",
       "      <td>2018-09-21</td>\n",
       "      <td>14</td>\n",
       "      <td>1000</td>\n",
       "      <td>9</td>\n",
       "    </tr>\n",
       "    <tr>\n",
       "      <th>4</th>\n",
       "      <td>1000_4</td>\n",
       "      <td>2018-12-15</td>\n",
       "      <td>6</td>\n",
       "      <td>1000</td>\n",
       "      <td>12</td>\n",
       "    </tr>\n",
       "  </tbody>\n",
       "</table>\n",
       "</div>"
      ],
      "text/plain": [
       "       id  call_date  duration  user_id  month\n",
       "0  1000_0 2018-07-25         0     1000      7\n",
       "1  1000_1 2018-08-17         0     1000      8\n",
       "2  1000_2 2018-06-11         3     1000      6\n",
       "3  1000_3 2018-09-21        14     1000      9\n",
       "4  1000_4 2018-12-15         6     1000     12"
      ]
     },
     "execution_count": 13,
     "metadata": {},
     "output_type": "execute_result"
    }
   ],
   "source": [
    "# выведем первые 5 строк \n",
    "calls.head()"
   ]
  },
  {
   "cell_type": "code",
   "execution_count": 14,
   "metadata": {},
   "outputs": [
    {
     "data": {
      "text/plain": [
       "count    202607.000000\n",
       "mean          7.158198\n",
       "std           5.959173\n",
       "min           0.000000\n",
       "25%           2.000000\n",
       "50%           6.000000\n",
       "75%          11.000000\n",
       "max          38.000000\n",
       "Name: duration, dtype: float64"
      ]
     },
     "execution_count": 14,
     "metadata": {},
     "output_type": "execute_result"
    }
   ],
   "source": [
    "# проверим есть ли здесь аномалии в длительности звонка\n",
    "calls['duration'].describe()"
   ]
  },
  {
   "cell_type": "code",
   "execution_count": 15,
   "metadata": {},
   "outputs": [
    {
     "data": {
      "text/plain": [
       "array([[<AxesSubplot:title={'center':'duration'}>]], dtype=object)"
      ]
     },
     "execution_count": 15,
     "metadata": {},
     "output_type": "execute_result"
    },
    {
     "data": {
      "image/png": "[encoded data removed]",
      "text/plain": [
       "<Figure size 432x288 with 1 Axes>"
      ]
     },
     "metadata": {
      "needs_background": "light"
     },
     "output_type": "display_data"
    }
   ],
   "source": [
    "# построим гистограмму по столбцам для наглядности\n",
    "calls.hist('duration', bins=30)"
   ]
  },
  {
   "cell_type": "markdown",
   "metadata": {},
   "source": [
    "**Интернет**"
   ]
  },
  {
   "cell_type": "code",
   "execution_count": 16,
   "metadata": {},
   "outputs": [],
   "source": [
    "# Перевод даты из объектного типа в тип datetime64\n",
    "internet['session_date'] = pd.to_datetime(internet['session_date'], format='%Y-%m-%d')"
   ]
  },
  {
   "cell_type": "code",
   "execution_count": 17,
   "metadata": {},
   "outputs": [],
   "source": [
    "# Добавляем столбец с категорией месяца: Январь - 1, Февраль - 2, ..., Декабрь - 12\n",
    "internet['month'] = pd.DatetimeIndex(internet['session_date']).month"
   ]
  },
  {
   "cell_type": "code",
   "execution_count": 18,
   "metadata": {},
   "outputs": [
    {
     "data": {
      "text/html": [
       "<div>\n",
       "<style scoped>\n",
       "    .dataframe tbody tr th:only-of-type {\n",
       "        vertical-align: middle;\n",
       "    }\n",
       "\n",
       "    .dataframe tbody tr th {\n",
       "        vertical-align: top;\n",
       "    }\n",
       "\n",
       "    .dataframe thead th {\n",
       "        text-align: right;\n",
       "    }\n",
       "</style>\n",
       "<table border=\"1\" class=\"dataframe\">\n",
       "  <thead>\n",
       "    <tr style=\"text-align: right;\">\n",
       "      <th></th>\n",
       "      <th>id</th>\n",
       "      <th>mb_used</th>\n",
       "      <th>session_date</th>\n",
       "      <th>user_id</th>\n",
       "      <th>month</th>\n",
       "    </tr>\n",
       "  </thead>\n",
       "  <tbody>\n",
       "    <tr>\n",
       "      <th>0</th>\n",
       "      <td>1000_0</td>\n",
       "      <td>112.95</td>\n",
       "      <td>2018-11-25</td>\n",
       "      <td>1000</td>\n",
       "      <td>11</td>\n",
       "    </tr>\n",
       "    <tr>\n",
       "      <th>1</th>\n",
       "      <td>1000_1</td>\n",
       "      <td>1052.81</td>\n",
       "      <td>2018-09-07</td>\n",
       "      <td>1000</td>\n",
       "      <td>9</td>\n",
       "    </tr>\n",
       "    <tr>\n",
       "      <th>2</th>\n",
       "      <td>1000_2</td>\n",
       "      <td>1197.26</td>\n",
       "      <td>2018-06-25</td>\n",
       "      <td>1000</td>\n",
       "      <td>6</td>\n",
       "    </tr>\n",
       "    <tr>\n",
       "      <th>3</th>\n",
       "      <td>1000_3</td>\n",
       "      <td>550.27</td>\n",
       "      <td>2018-08-22</td>\n",
       "      <td>1000</td>\n",
       "      <td>8</td>\n",
       "    </tr>\n",
       "    <tr>\n",
       "      <th>4</th>\n",
       "      <td>1000_4</td>\n",
       "      <td>302.56</td>\n",
       "      <td>2018-09-24</td>\n",
       "      <td>1000</td>\n",
       "      <td>9</td>\n",
       "    </tr>\n",
       "  </tbody>\n",
       "</table>\n",
       "</div>"
      ],
      "text/plain": [
       "       id  mb_used session_date  user_id  month\n",
       "0  1000_0   112.95   2018-11-25     1000     11\n",
       "1  1000_1  1052.81   2018-09-07     1000      9\n",
       "2  1000_2  1197.26   2018-06-25     1000      6\n",
       "3  1000_3   550.27   2018-08-22     1000      8\n",
       "4  1000_4   302.56   2018-09-24     1000      9"
      ]
     },
     "execution_count": 18,
     "metadata": {},
     "output_type": "execute_result"
    }
   ],
   "source": [
    "#выведем первые 5 строк \n",
    "internet.head()"
   ]
  },
  {
   "cell_type": "code",
   "execution_count": 19,
   "metadata": {},
   "outputs": [
    {
     "data": {
      "text/plain": [
       "count    149396.000000\n",
       "mean        370.192426\n",
       "std         278.300951\n",
       "min           0.000000\n",
       "25%         138.187500\n",
       "50%         348.015000\n",
       "75%         559.552500\n",
       "max        1724.830000\n",
       "Name: mb_used, dtype: float64"
      ]
     },
     "execution_count": 19,
     "metadata": {},
     "output_type": "execute_result"
    }
   ],
   "source": [
    "# проверим есть ли здесь аномалии \n",
    "internet['mb_used'].describe()"
   ]
  },
  {
   "cell_type": "code",
   "execution_count": 20,
   "metadata": {},
   "outputs": [
    {
     "data": {
      "text/plain": [
       "array([[<AxesSubplot:title={'center':'mb_used'}>]], dtype=object)"
      ]
     },
     "execution_count": 20,
     "metadata": {},
     "output_type": "execute_result"
    },
    {
     "data": {
      "image/png": "[encoded data removed]",
      "text/plain": [
       "<Figure size 432x288 with 1 Axes>"
      ]
     },
     "metadata": {
      "needs_background": "light"
     },
     "output_type": "display_data"
    }
   ],
   "source": [
    "# строим гистограмму\n",
    "internet.hist('mb_used', bins=30)"
   ]
  },
  {
   "cell_type": "code",
   "execution_count": 21,
   "metadata": {},
   "outputs": [
    {
     "data": {
      "text/html": [
       "<div>\n",
       "<style scoped>\n",
       "    .dataframe tbody tr th:only-of-type {\n",
       "        vertical-align: middle;\n",
       "    }\n",
       "\n",
       "    .dataframe tbody tr th {\n",
       "        vertical-align: top;\n",
       "    }\n",
       "\n",
       "    .dataframe thead th {\n",
       "        text-align: right;\n",
       "    }\n",
       "</style>\n",
       "<table border=\"1\" class=\"dataframe\">\n",
       "  <thead>\n",
       "    <tr style=\"text-align: right;\">\n",
       "      <th></th>\n",
       "      <th>id</th>\n",
       "      <th>mb_used</th>\n",
       "      <th>session_date</th>\n",
       "      <th>user_id</th>\n",
       "      <th>month</th>\n",
       "    </tr>\n",
       "  </thead>\n",
       "  <tbody>\n",
       "    <tr>\n",
       "      <th>11</th>\n",
       "      <td>1000_11</td>\n",
       "      <td>0.0</td>\n",
       "      <td>2018-08-28</td>\n",
       "      <td>1000</td>\n",
       "      <td>8</td>\n",
       "    </tr>\n",
       "    <tr>\n",
       "      <th>38</th>\n",
       "      <td>1000_38</td>\n",
       "      <td>0.0</td>\n",
       "      <td>2018-11-27</td>\n",
       "      <td>1000</td>\n",
       "      <td>11</td>\n",
       "    </tr>\n",
       "    <tr>\n",
       "      <th>46</th>\n",
       "      <td>1000_46</td>\n",
       "      <td>0.0</td>\n",
       "      <td>2018-06-30</td>\n",
       "      <td>1000</td>\n",
       "      <td>6</td>\n",
       "    </tr>\n",
       "    <tr>\n",
       "      <th>67</th>\n",
       "      <td>1000_67</td>\n",
       "      <td>0.0</td>\n",
       "      <td>2018-06-16</td>\n",
       "      <td>1000</td>\n",
       "      <td>6</td>\n",
       "    </tr>\n",
       "    <tr>\n",
       "      <th>72</th>\n",
       "      <td>1000_72</td>\n",
       "      <td>0.0</td>\n",
       "      <td>2018-06-15</td>\n",
       "      <td>1000</td>\n",
       "      <td>6</td>\n",
       "    </tr>\n",
       "    <tr>\n",
       "      <th>...</th>\n",
       "      <td>...</td>\n",
       "      <td>...</td>\n",
       "      <td>...</td>\n",
       "      <td>...</td>\n",
       "      <td>...</td>\n",
       "    </tr>\n",
       "    <tr>\n",
       "      <th>149380</th>\n",
       "      <td>1499_141</td>\n",
       "      <td>0.0</td>\n",
       "      <td>2018-12-11</td>\n",
       "      <td>1499</td>\n",
       "      <td>12</td>\n",
       "    </tr>\n",
       "    <tr>\n",
       "      <th>149381</th>\n",
       "      <td>1499_142</td>\n",
       "      <td>0.0</td>\n",
       "      <td>2018-11-01</td>\n",
       "      <td>1499</td>\n",
       "      <td>11</td>\n",
       "    </tr>\n",
       "    <tr>\n",
       "      <th>149383</th>\n",
       "      <td>1499_144</td>\n",
       "      <td>0.0</td>\n",
       "      <td>2018-11-27</td>\n",
       "      <td>1499</td>\n",
       "      <td>11</td>\n",
       "    </tr>\n",
       "    <tr>\n",
       "      <th>149386</th>\n",
       "      <td>1499_147</td>\n",
       "      <td>0.0</td>\n",
       "      <td>2018-10-21</td>\n",
       "      <td>1499</td>\n",
       "      <td>10</td>\n",
       "    </tr>\n",
       "    <tr>\n",
       "      <th>149393</th>\n",
       "      <td>1499_154</td>\n",
       "      <td>0.0</td>\n",
       "      <td>2018-10-27</td>\n",
       "      <td>1499</td>\n",
       "      <td>10</td>\n",
       "    </tr>\n",
       "  </tbody>\n",
       "</table>\n",
       "<p>19598 rows × 5 columns</p>\n",
       "</div>"
      ],
      "text/plain": [
       "              id  mb_used session_date  user_id  month\n",
       "11       1000_11      0.0   2018-08-28     1000      8\n",
       "38       1000_38      0.0   2018-11-27     1000     11\n",
       "46       1000_46      0.0   2018-06-30     1000      6\n",
       "67       1000_67      0.0   2018-06-16     1000      6\n",
       "72       1000_72      0.0   2018-06-15     1000      6\n",
       "...          ...      ...          ...      ...    ...\n",
       "149380  1499_141      0.0   2018-12-11     1499     12\n",
       "149381  1499_142      0.0   2018-11-01     1499     11\n",
       "149383  1499_144      0.0   2018-11-27     1499     11\n",
       "149386  1499_147      0.0   2018-10-21     1499     10\n",
       "149393  1499_154      0.0   2018-10-27     1499     10\n",
       "\n",
       "[19598 rows x 5 columns]"
      ]
     },
     "execution_count": 21,
     "metadata": {},
     "output_type": "execute_result"
    }
   ],
   "source": [
    "internet[internet['mb_used'] == 0]"
   ]
  },
  {
   "cell_type": "markdown",
   "metadata": {},
   "source": [
    "**Сообщения**"
   ]
  },
  {
   "cell_type": "code",
   "execution_count": 22,
   "metadata": {},
   "outputs": [],
   "source": [
    "# Перевод даты из объектного типа в тип datetime64\n",
    "messages['message_date'] = pd.to_datetime(messages['message_date'] , format='%Y-%m-%d')\n",
    "\n",
    "# Добавляем столбец с категорией месяца: Январь - 1, Февраль - 2, ..., Декабрь - 12\n",
    "messages['month'] = pd.DatetimeIndex(messages['message_date']).month"
   ]
  },
  {
   "cell_type": "code",
   "execution_count": 23,
   "metadata": {},
   "outputs": [
    {
     "data": {
      "text/html": [
       "<div>\n",
       "<style scoped>\n",
       "    .dataframe tbody tr th:only-of-type {\n",
       "        vertical-align: middle;\n",
       "    }\n",
       "\n",
       "    .dataframe tbody tr th {\n",
       "        vertical-align: top;\n",
       "    }\n",
       "\n",
       "    .dataframe thead th {\n",
       "        text-align: right;\n",
       "    }\n",
       "</style>\n",
       "<table border=\"1\" class=\"dataframe\">\n",
       "  <thead>\n",
       "    <tr style=\"text-align: right;\">\n",
       "      <th></th>\n",
       "      <th>id</th>\n",
       "      <th>message_date</th>\n",
       "      <th>user_id</th>\n",
       "      <th>month</th>\n",
       "    </tr>\n",
       "  </thead>\n",
       "  <tbody>\n",
       "    <tr>\n",
       "      <th>0</th>\n",
       "      <td>1000_0</td>\n",
       "      <td>2018-06-27</td>\n",
       "      <td>1000</td>\n",
       "      <td>6</td>\n",
       "    </tr>\n",
       "    <tr>\n",
       "      <th>1</th>\n",
       "      <td>1000_1</td>\n",
       "      <td>2018-10-08</td>\n",
       "      <td>1000</td>\n",
       "      <td>10</td>\n",
       "    </tr>\n",
       "    <tr>\n",
       "      <th>2</th>\n",
       "      <td>1000_2</td>\n",
       "      <td>2018-08-04</td>\n",
       "      <td>1000</td>\n",
       "      <td>8</td>\n",
       "    </tr>\n",
       "    <tr>\n",
       "      <th>3</th>\n",
       "      <td>1000_3</td>\n",
       "      <td>2018-06-16</td>\n",
       "      <td>1000</td>\n",
       "      <td>6</td>\n",
       "    </tr>\n",
       "    <tr>\n",
       "      <th>4</th>\n",
       "      <td>1000_4</td>\n",
       "      <td>2018-12-05</td>\n",
       "      <td>1000</td>\n",
       "      <td>12</td>\n",
       "    </tr>\n",
       "  </tbody>\n",
       "</table>\n",
       "</div>"
      ],
      "text/plain": [
       "       id message_date  user_id  month\n",
       "0  1000_0   2018-06-27     1000      6\n",
       "1  1000_1   2018-10-08     1000     10\n",
       "2  1000_2   2018-08-04     1000      8\n",
       "3  1000_3   2018-06-16     1000      6\n",
       "4  1000_4   2018-12-05     1000     12"
      ]
     },
     "execution_count": 23,
     "metadata": {},
     "output_type": "execute_result"
    }
   ],
   "source": [
    "# выведем таблицу для проверки\n",
    "messages.head()"
   ]
  },
  {
   "cell_type": "code",
   "execution_count": 24,
   "metadata": {},
   "outputs": [],
   "source": [
    "# сформируем таблицу что бы посчитать кол-во сообщений по пользователям и месяцам\n",
    "messages_count = messages.groupby(['user_id','month']).agg(\n",
    "    messages_used = ('id', 'count')\n",
    ").reset_index()"
   ]
  },
  {
   "cell_type": "code",
   "execution_count": 25,
   "metadata": {},
   "outputs": [
    {
     "data": {
      "text/html": [
       "<div>\n",
       "<style scoped>\n",
       "    .dataframe tbody tr th:only-of-type {\n",
       "        vertical-align: middle;\n",
       "    }\n",
       "\n",
       "    .dataframe tbody tr th {\n",
       "        vertical-align: top;\n",
       "    }\n",
       "\n",
       "    .dataframe thead th {\n",
       "        text-align: right;\n",
       "    }\n",
       "</style>\n",
       "<table border=\"1\" class=\"dataframe\">\n",
       "  <thead>\n",
       "    <tr style=\"text-align: right;\">\n",
       "      <th></th>\n",
       "      <th>user_id</th>\n",
       "      <th>month</th>\n",
       "      <th>messages_used</th>\n",
       "    </tr>\n",
       "  </thead>\n",
       "  <tbody>\n",
       "    <tr>\n",
       "      <th>0</th>\n",
       "      <td>1000</td>\n",
       "      <td>5</td>\n",
       "      <td>22</td>\n",
       "    </tr>\n",
       "    <tr>\n",
       "      <th>1</th>\n",
       "      <td>1000</td>\n",
       "      <td>6</td>\n",
       "      <td>60</td>\n",
       "    </tr>\n",
       "    <tr>\n",
       "      <th>2</th>\n",
       "      <td>1000</td>\n",
       "      <td>7</td>\n",
       "      <td>75</td>\n",
       "    </tr>\n",
       "    <tr>\n",
       "      <th>3</th>\n",
       "      <td>1000</td>\n",
       "      <td>8</td>\n",
       "      <td>81</td>\n",
       "    </tr>\n",
       "    <tr>\n",
       "      <th>4</th>\n",
       "      <td>1000</td>\n",
       "      <td>9</td>\n",
       "      <td>57</td>\n",
       "    </tr>\n",
       "    <tr>\n",
       "      <th>...</th>\n",
       "      <td>...</td>\n",
       "      <td>...</td>\n",
       "      <td>...</td>\n",
       "    </tr>\n",
       "    <tr>\n",
       "      <th>2712</th>\n",
       "      <td>1498</td>\n",
       "      <td>10</td>\n",
       "      <td>42</td>\n",
       "    </tr>\n",
       "    <tr>\n",
       "      <th>2713</th>\n",
       "      <td>1499</td>\n",
       "      <td>9</td>\n",
       "      <td>11</td>\n",
       "    </tr>\n",
       "    <tr>\n",
       "      <th>2714</th>\n",
       "      <td>1499</td>\n",
       "      <td>10</td>\n",
       "      <td>48</td>\n",
       "    </tr>\n",
       "    <tr>\n",
       "      <th>2715</th>\n",
       "      <td>1499</td>\n",
       "      <td>11</td>\n",
       "      <td>59</td>\n",
       "    </tr>\n",
       "    <tr>\n",
       "      <th>2716</th>\n",
       "      <td>1499</td>\n",
       "      <td>12</td>\n",
       "      <td>66</td>\n",
       "    </tr>\n",
       "  </tbody>\n",
       "</table>\n",
       "<p>2717 rows × 3 columns</p>\n",
       "</div>"
      ],
      "text/plain": [
       "      user_id  month  messages_used\n",
       "0        1000      5             22\n",
       "1        1000      6             60\n",
       "2        1000      7             75\n",
       "3        1000      8             81\n",
       "4        1000      9             57\n",
       "...       ...    ...            ...\n",
       "2712     1498     10             42\n",
       "2713     1499      9             11\n",
       "2714     1499     10             48\n",
       "2715     1499     11             59\n",
       "2716     1499     12             66\n",
       "\n",
       "[2717 rows x 3 columns]"
      ]
     },
     "execution_count": 25,
     "metadata": {},
     "output_type": "execute_result"
    }
   ],
   "source": [
    "messages_count"
   ]
  },
  {
   "cell_type": "code",
   "execution_count": 26,
   "metadata": {},
   "outputs": [
    {
     "data": {
      "text/plain": [
       "count    2717.000000\n",
       "mean       45.283769\n",
       "std        35.051363\n",
       "min         1.000000\n",
       "25%        19.000000\n",
       "50%        38.000000\n",
       "75%        63.000000\n",
       "max       224.000000\n",
       "Name: messages_used, dtype: float64"
      ]
     },
     "execution_count": 26,
     "metadata": {},
     "output_type": "execute_result"
    }
   ],
   "source": [
    "# посмотрим на описание таблицы\n",
    "messages_count['messages_used'].describe()"
   ]
  },
  {
   "cell_type": "code",
   "execution_count": 27,
   "metadata": {},
   "outputs": [
    {
     "data": {
      "text/plain": [
       "array([[<AxesSubplot:title={'center':'messages_used'}>]], dtype=object)"
      ]
     },
     "execution_count": 27,
     "metadata": {},
     "output_type": "execute_result"
    },
    {
     "data": {
      "image/png": "[encoded data removed]",
      "text/plain": [
       "<Figure size 432x288 with 1 Axes>"
      ]
     },
     "metadata": {
      "needs_background": "light"
     },
     "output_type": "display_data"
    }
   ],
   "source": [
    "# построим гистограмму\n",
    "messages_count.hist('messages_used', bins=30)"
   ]
  },
  {
   "cell_type": "markdown",
   "metadata": {},
   "source": [
    "**Пользователи**"
   ]
  },
  {
   "cell_type": "code",
   "execution_count": 28,
   "metadata": {},
   "outputs": [],
   "source": [
    "# Перевод даты из объектного типа в тип datetime64\n",
    "users['churn_date'] = pd.to_datetime(users['churn_date'] , format='%Y-%m-%d')\n",
    "users['reg_date'] = pd.to_datetime(users['reg_date'] , format='%Y-%m-%d')\n",
    "# Добавляем столбец с категорией месяца: Январь - 1, Февраль - 2, ..., Декабрь - 12\n",
    "users['month'] = pd.DatetimeIndex(users['reg_date']).month"
   ]
  },
  {
   "cell_type": "code",
   "execution_count": 29,
   "metadata": {},
   "outputs": [
    {
     "data": {
      "text/html": [
       "<div>\n",
       "<style scoped>\n",
       "    .dataframe tbody tr th:only-of-type {\n",
       "        vertical-align: middle;\n",
       "    }\n",
       "\n",
       "    .dataframe tbody tr th {\n",
       "        vertical-align: top;\n",
       "    }\n",
       "\n",
       "    .dataframe thead th {\n",
       "        text-align: right;\n",
       "    }\n",
       "</style>\n",
       "<table border=\"1\" class=\"dataframe\">\n",
       "  <thead>\n",
       "    <tr style=\"text-align: right;\">\n",
       "      <th></th>\n",
       "      <th>user_id</th>\n",
       "      <th>age</th>\n",
       "      <th>churn_date</th>\n",
       "      <th>city</th>\n",
       "      <th>first_name</th>\n",
       "      <th>last_name</th>\n",
       "      <th>reg_date</th>\n",
       "      <th>tariff</th>\n",
       "      <th>month</th>\n",
       "    </tr>\n",
       "  </thead>\n",
       "  <tbody>\n",
       "    <tr>\n",
       "      <th>0</th>\n",
       "      <td>1000</td>\n",
       "      <td>52</td>\n",
       "      <td>NaT</td>\n",
       "      <td>Краснодар</td>\n",
       "      <td>Рафаил</td>\n",
       "      <td>Верещагин</td>\n",
       "      <td>2018-05-25</td>\n",
       "      <td>ultra</td>\n",
       "      <td>5</td>\n",
       "    </tr>\n",
       "    <tr>\n",
       "      <th>1</th>\n",
       "      <td>1001</td>\n",
       "      <td>41</td>\n",
       "      <td>NaT</td>\n",
       "      <td>Москва</td>\n",
       "      <td>Иван</td>\n",
       "      <td>Ежов</td>\n",
       "      <td>2018-11-01</td>\n",
       "      <td>smart</td>\n",
       "      <td>11</td>\n",
       "    </tr>\n",
       "    <tr>\n",
       "      <th>2</th>\n",
       "      <td>1002</td>\n",
       "      <td>59</td>\n",
       "      <td>NaT</td>\n",
       "      <td>Стерлитамак</td>\n",
       "      <td>Евгений</td>\n",
       "      <td>Абрамович</td>\n",
       "      <td>2018-06-17</td>\n",
       "      <td>smart</td>\n",
       "      <td>6</td>\n",
       "    </tr>\n",
       "    <tr>\n",
       "      <th>3</th>\n",
       "      <td>1003</td>\n",
       "      <td>23</td>\n",
       "      <td>NaT</td>\n",
       "      <td>Москва</td>\n",
       "      <td>Белла</td>\n",
       "      <td>Белякова</td>\n",
       "      <td>2018-08-17</td>\n",
       "      <td>ultra</td>\n",
       "      <td>8</td>\n",
       "    </tr>\n",
       "    <tr>\n",
       "      <th>4</th>\n",
       "      <td>1004</td>\n",
       "      <td>68</td>\n",
       "      <td>NaT</td>\n",
       "      <td>Новокузнецк</td>\n",
       "      <td>Татьяна</td>\n",
       "      <td>Авдеенко</td>\n",
       "      <td>2018-05-14</td>\n",
       "      <td>ultra</td>\n",
       "      <td>5</td>\n",
       "    </tr>\n",
       "  </tbody>\n",
       "</table>\n",
       "</div>"
      ],
      "text/plain": [
       "   user_id  age churn_date         city first_name  last_name   reg_date  \\\n",
       "0     1000   52        NaT    Краснодар     Рафаил  Верещагин 2018-05-25   \n",
       "1     1001   41        NaT       Москва       Иван       Ежов 2018-11-01   \n",
       "2     1002   59        NaT  Стерлитамак    Евгений  Абрамович 2018-06-17   \n",
       "3     1003   23        NaT       Москва      Белла   Белякова 2018-08-17   \n",
       "4     1004   68        NaT  Новокузнецк    Татьяна   Авдеенко 2018-05-14   \n",
       "\n",
       "  tariff  month  \n",
       "0  ultra      5  \n",
       "1  smart     11  \n",
       "2  smart      6  \n",
       "3  ultra      8  \n",
       "4  ultra      5  "
      ]
     },
     "execution_count": 29,
     "metadata": {},
     "output_type": "execute_result"
    }
   ],
   "source": [
    "# кпроверим таблицу\n",
    "users.head()"
   ]
  },
  {
   "cell_type": "code",
   "execution_count": 30,
   "metadata": {},
   "outputs": [
    {
     "data": {
      "text/plain": [
       "count    500.00000\n",
       "mean      46.58800\n",
       "std       16.66763\n",
       "min       18.00000\n",
       "25%       32.00000\n",
       "50%       46.00000\n",
       "75%       62.00000\n",
       "max       75.00000\n",
       "Name: age, dtype: float64"
      ]
     },
     "execution_count": 30,
     "metadata": {},
     "output_type": "execute_result"
    }
   ],
   "source": [
    "# выведем описание\n",
    "users['age'].describe()"
   ]
  },
  {
   "cell_type": "code",
   "execution_count": 31,
   "metadata": {},
   "outputs": [
    {
     "data": {
      "text/plain": [
       "smart    351\n",
       "ultra    149\n",
       "Name: tariff, dtype: int64"
      ]
     },
     "execution_count": 31,
     "metadata": {},
     "output_type": "execute_result"
    }
   ],
   "source": [
    "# посмотрим уникальные значения в столбце с тарифами\n",
    "users['tariff'].value_counts()"
   ]
  },
  {
   "cell_type": "code",
   "execution_count": 32,
   "metadata": {},
   "outputs": [
    {
     "data": {
      "text/plain": [
       "array(['Архангельск', 'Астрахань', 'Балашиха', 'Барнаул', 'Белгород',\n",
       "       'Брянск', 'Владивосток', 'Владикавказ', 'Владимир', 'Волгоград',\n",
       "       'Волжский', 'Вологда', 'Воронеж', 'Грозный', 'Екатеринбург',\n",
       "       'Иваново', 'Ижевск', 'Иркутск', 'Казань', 'Калининград', 'Калуга',\n",
       "       'Кемерово', 'Киров', 'Кострома', 'Краснодар', 'Красноярск',\n",
       "       'Курган', 'Курск', 'Липецк', 'Магнитогорск', 'Махачкала', 'Москва',\n",
       "       'Мурманск', 'Набережные Челны', 'Нижневартовск', 'Нижний Новгород',\n",
       "       'Нижний Тагил', 'Новокузнецк', 'Новороссийск', 'Новосибирск',\n",
       "       'Омск', 'Оренбург', 'Орёл', 'Пенза', 'Пермь', 'Петрозаводск',\n",
       "       'Подольск', 'Ростов-на-Дону', 'Рязань', 'Самара',\n",
       "       'Санкт-Петербург', 'Саранск', 'Саратов', 'Севастополь', 'Смоленск',\n",
       "       'Сочи', 'Ставрополь', 'Стерлитамак', 'Сургут', 'Тамбов', 'Тверь',\n",
       "       'Тольятти', 'Томск', 'Тула', 'Тюмень', 'Улан-Удэ', 'Ульяновск',\n",
       "       'Уфа', 'Хабаровск', 'Химки', 'Чебоксары', 'Челябинск', 'Череповец',\n",
       "       'Чита', 'Якутск', 'Ярославль'], dtype=object)"
      ]
     },
     "execution_count": 32,
     "metadata": {},
     "output_type": "execute_result"
    }
   ],
   "source": [
    "# посмотрим уникальные значения в столбце с городами\n",
    "users.sort_values('city')['city'].unique()"
   ]
  },
  {
   "cell_type": "code",
   "execution_count": 33,
   "metadata": {},
   "outputs": [
    {
     "data": {
      "text/plain": [
       "0"
      ]
     },
     "execution_count": 33,
     "metadata": {},
     "output_type": "execute_result"
    }
   ],
   "source": [
    "# проверим на на наличие дубликатов\n",
    "users.duplicated().sum()"
   ]
  },
  {
   "cell_type": "markdown",
   "metadata": {},
   "source": [
    "На данном этапе мы просмотрели каждую таблицу в отдельности, изменили тип данных. Добавили столбцы с месяцами для удобства расчетов, округлили данные согласно условиям оператора, проверили на дубликаты явные и неявные. \n",
    "Из явных выбивающихся значений это звонки продолжительностью 0, что объяснимо тем, что здесь просто зафискированы входящие звонки.\n",
    "\n",
    "Так же зафиксировано почти 20 000 сессий в интернете из 150 000 с нулевыми значениями, так как в таблице взаимосвязи ни с чем не обнаружено, это совсем у разных пользователей и в разные даты, то скорей всего это входящие уведомления или человек зашел и сразу вышел. Так же, есть пропуски в датах прекращения пользования тарифом, эти пропуски объяснимы тем, что тариф еще действует, поэтому их убирать не надо."
   ]
  },
  {
   "cell_type": "markdown",
   "metadata": {},
   "source": [
    "### Расчет аггрегированных данных "
   ]
  },
  {
   "cell_type": "code",
   "execution_count": 34,
   "metadata": {},
   "outputs": [
    {
     "data": {
      "text/html": [
       "<div>\n",
       "<style scoped>\n",
       "    .dataframe tbody tr th:only-of-type {\n",
       "        vertical-align: middle;\n",
       "    }\n",
       "\n",
       "    .dataframe tbody tr th {\n",
       "        vertical-align: top;\n",
       "    }\n",
       "\n",
       "    .dataframe thead th {\n",
       "        text-align: right;\n",
       "    }\n",
       "</style>\n",
       "<table border=\"1\" class=\"dataframe\">\n",
       "  <thead>\n",
       "    <tr style=\"text-align: right;\">\n",
       "      <th></th>\n",
       "      <th>user_id</th>\n",
       "      <th>month</th>\n",
       "      <th>calls_duration</th>\n",
       "      <th>calls_number</th>\n",
       "    </tr>\n",
       "  </thead>\n",
       "  <tbody>\n",
       "    <tr>\n",
       "      <th>2832</th>\n",
       "      <td>1446</td>\n",
       "      <td>11</td>\n",
       "      <td>642</td>\n",
       "      <td>84</td>\n",
       "    </tr>\n",
       "    <tr>\n",
       "      <th>2064</th>\n",
       "      <td>1330</td>\n",
       "      <td>6</td>\n",
       "      <td>760</td>\n",
       "      <td>96</td>\n",
       "    </tr>\n",
       "    <tr>\n",
       "      <th>348</th>\n",
       "      <td>1055</td>\n",
       "      <td>8</td>\n",
       "      <td>380</td>\n",
       "      <td>55</td>\n",
       "    </tr>\n",
       "    <tr>\n",
       "      <th>112</th>\n",
       "      <td>1015</td>\n",
       "      <td>8</td>\n",
       "      <td>394</td>\n",
       "      <td>54</td>\n",
       "    </tr>\n",
       "    <tr>\n",
       "      <th>1797</th>\n",
       "      <td>1287</td>\n",
       "      <td>12</td>\n",
       "      <td>576</td>\n",
       "      <td>72</td>\n",
       "    </tr>\n",
       "    <tr>\n",
       "      <th>1938</th>\n",
       "      <td>1310</td>\n",
       "      <td>3</td>\n",
       "      <td>106</td>\n",
       "      <td>15</td>\n",
       "    </tr>\n",
       "    <tr>\n",
       "      <th>2979</th>\n",
       "      <td>1468</td>\n",
       "      <td>8</td>\n",
       "      <td>406</td>\n",
       "      <td>49</td>\n",
       "    </tr>\n",
       "    <tr>\n",
       "      <th>352</th>\n",
       "      <td>1055</td>\n",
       "      <td>12</td>\n",
       "      <td>597</td>\n",
       "      <td>83</td>\n",
       "    </tr>\n",
       "    <tr>\n",
       "      <th>682</th>\n",
       "      <td>1110</td>\n",
       "      <td>5</td>\n",
       "      <td>366</td>\n",
       "      <td>50</td>\n",
       "    </tr>\n",
       "    <tr>\n",
       "      <th>1884</th>\n",
       "      <td>1300</td>\n",
       "      <td>11</td>\n",
       "      <td>658</td>\n",
       "      <td>88</td>\n",
       "    </tr>\n",
       "  </tbody>\n",
       "</table>\n",
       "</div>"
      ],
      "text/plain": [
       "      user_id  month  calls_duration  calls_number\n",
       "2832     1446     11             642            84\n",
       "2064     1330      6             760            96\n",
       "348      1055      8             380            55\n",
       "112      1015      8             394            54\n",
       "1797     1287     12             576            72\n",
       "1938     1310      3             106            15\n",
       "2979     1468      8             406            49\n",
       "352      1055     12             597            83\n",
       "682      1110      5             366            50\n",
       "1884     1300     11             658            88"
      ]
     },
     "execution_count": 34,
     "metadata": {},
     "output_type": "execute_result"
    }
   ],
   "source": [
    "# посчитаем и добавим в таблицу количество и продолжительность звонков по каждому пользователю и месяцу\n",
    "calls = calls.groupby(['user_id','month']).agg(\n",
    "        calls_duration = pd.NamedAgg(column = 'duration', aggfunc = 'sum'),\n",
    "        calls_number = ( 'id', 'count'),\n",
    "    ).reset_index()\n",
    "calls.sample(10)"
   ]
  },
  {
   "cell_type": "code",
   "execution_count": 35,
   "metadata": {},
   "outputs": [
    {
     "data": {
      "text/html": [
       "<div>\n",
       "<style scoped>\n",
       "    .dataframe tbody tr th:only-of-type {\n",
       "        vertical-align: middle;\n",
       "    }\n",
       "\n",
       "    .dataframe tbody tr th {\n",
       "        vertical-align: top;\n",
       "    }\n",
       "\n",
       "    .dataframe thead th {\n",
       "        text-align: right;\n",
       "    }\n",
       "</style>\n",
       "<table border=\"1\" class=\"dataframe\">\n",
       "  <thead>\n",
       "    <tr style=\"text-align: right;\">\n",
       "      <th></th>\n",
       "      <th>user_id</th>\n",
       "      <th>month</th>\n",
       "      <th>msgs_number</th>\n",
       "    </tr>\n",
       "  </thead>\n",
       "  <tbody>\n",
       "    <tr>\n",
       "      <th>0</th>\n",
       "      <td>1000</td>\n",
       "      <td>5</td>\n",
       "      <td>22</td>\n",
       "    </tr>\n",
       "    <tr>\n",
       "      <th>1</th>\n",
       "      <td>1000</td>\n",
       "      <td>6</td>\n",
       "      <td>60</td>\n",
       "    </tr>\n",
       "    <tr>\n",
       "      <th>2</th>\n",
       "      <td>1000</td>\n",
       "      <td>7</td>\n",
       "      <td>75</td>\n",
       "    </tr>\n",
       "    <tr>\n",
       "      <th>3</th>\n",
       "      <td>1000</td>\n",
       "      <td>8</td>\n",
       "      <td>81</td>\n",
       "    </tr>\n",
       "    <tr>\n",
       "      <th>4</th>\n",
       "      <td>1000</td>\n",
       "      <td>9</td>\n",
       "      <td>57</td>\n",
       "    </tr>\n",
       "    <tr>\n",
       "      <th>...</th>\n",
       "      <td>...</td>\n",
       "      <td>...</td>\n",
       "      <td>...</td>\n",
       "    </tr>\n",
       "    <tr>\n",
       "      <th>2712</th>\n",
       "      <td>1498</td>\n",
       "      <td>10</td>\n",
       "      <td>42</td>\n",
       "    </tr>\n",
       "    <tr>\n",
       "      <th>2713</th>\n",
       "      <td>1499</td>\n",
       "      <td>9</td>\n",
       "      <td>11</td>\n",
       "    </tr>\n",
       "    <tr>\n",
       "      <th>2714</th>\n",
       "      <td>1499</td>\n",
       "      <td>10</td>\n",
       "      <td>48</td>\n",
       "    </tr>\n",
       "    <tr>\n",
       "      <th>2715</th>\n",
       "      <td>1499</td>\n",
       "      <td>11</td>\n",
       "      <td>59</td>\n",
       "    </tr>\n",
       "    <tr>\n",
       "      <th>2716</th>\n",
       "      <td>1499</td>\n",
       "      <td>12</td>\n",
       "      <td>66</td>\n",
       "    </tr>\n",
       "  </tbody>\n",
       "</table>\n",
       "<p>2717 rows × 3 columns</p>\n",
       "</div>"
      ],
      "text/plain": [
       "      user_id  month  msgs_number\n",
       "0        1000      5           22\n",
       "1        1000      6           60\n",
       "2        1000      7           75\n",
       "3        1000      8           81\n",
       "4        1000      9           57\n",
       "...       ...    ...          ...\n",
       "2712     1498     10           42\n",
       "2713     1499      9           11\n",
       "2714     1499     10           48\n",
       "2715     1499     11           59\n",
       "2716     1499     12           66\n",
       "\n",
       "[2717 rows x 3 columns]"
      ]
     },
     "execution_count": 35,
     "metadata": {},
     "output_type": "execute_result"
    }
   ],
   "source": [
    "# посчитаем и добавим в таблицу количество сообщений по каждому пользователю и месяцу\n",
    "messages = messages.groupby(['user_id','month']).agg(\n",
    "        msgs_number = pd.NamedAgg(column = 'id', aggfunc = 'count'),\n",
    "    ).reset_index()\n",
    "messages"
   ]
  },
  {
   "cell_type": "code",
   "execution_count": 36,
   "metadata": {},
   "outputs": [],
   "source": [
    "# посчитаем и добавим в таблицу количество используемых мегабайт по каждому пользователю в месяц\n",
    "internet = internet.groupby(['user_id','month']).agg(\n",
    "        traffic = pd.NamedAgg(column = 'mb_used', aggfunc = 'sum'),\n",
    "    ).reset_index()\n"
   ]
  },
  {
   "cell_type": "code",
   "execution_count": 37,
   "metadata": {},
   "outputs": [
    {
     "data": {
      "text/html": [
       "<div>\n",
       "<style scoped>\n",
       "    .dataframe tbody tr th:only-of-type {\n",
       "        vertical-align: middle;\n",
       "    }\n",
       "\n",
       "    .dataframe tbody tr th {\n",
       "        vertical-align: top;\n",
       "    }\n",
       "\n",
       "    .dataframe thead th {\n",
       "        text-align: right;\n",
       "    }\n",
       "</style>\n",
       "<table border=\"1\" class=\"dataframe\">\n",
       "  <thead>\n",
       "    <tr style=\"text-align: right;\">\n",
       "      <th></th>\n",
       "      <th>user_id</th>\n",
       "      <th>month</th>\n",
       "      <th>traffic</th>\n",
       "    </tr>\n",
       "  </thead>\n",
       "  <tbody>\n",
       "    <tr>\n",
       "      <th>0</th>\n",
       "      <td>1000</td>\n",
       "      <td>5</td>\n",
       "      <td>3</td>\n",
       "    </tr>\n",
       "    <tr>\n",
       "      <th>1</th>\n",
       "      <td>1000</td>\n",
       "      <td>6</td>\n",
       "      <td>23</td>\n",
       "    </tr>\n",
       "    <tr>\n",
       "      <th>2</th>\n",
       "      <td>1000</td>\n",
       "      <td>7</td>\n",
       "      <td>14</td>\n",
       "    </tr>\n",
       "    <tr>\n",
       "      <th>3</th>\n",
       "      <td>1000</td>\n",
       "      <td>8</td>\n",
       "      <td>14</td>\n",
       "    </tr>\n",
       "    <tr>\n",
       "      <th>4</th>\n",
       "      <td>1000</td>\n",
       "      <td>9</td>\n",
       "      <td>15</td>\n",
       "    </tr>\n",
       "    <tr>\n",
       "      <th>...</th>\n",
       "      <td>...</td>\n",
       "      <td>...</td>\n",
       "      <td>...</td>\n",
       "    </tr>\n",
       "    <tr>\n",
       "      <th>3198</th>\n",
       "      <td>1498</td>\n",
       "      <td>10</td>\n",
       "      <td>21</td>\n",
       "    </tr>\n",
       "    <tr>\n",
       "      <th>3199</th>\n",
       "      <td>1499</td>\n",
       "      <td>9</td>\n",
       "      <td>2</td>\n",
       "    </tr>\n",
       "    <tr>\n",
       "      <th>3200</th>\n",
       "      <td>1499</td>\n",
       "      <td>10</td>\n",
       "      <td>18</td>\n",
       "    </tr>\n",
       "    <tr>\n",
       "      <th>3201</th>\n",
       "      <td>1499</td>\n",
       "      <td>11</td>\n",
       "      <td>18</td>\n",
       "    </tr>\n",
       "    <tr>\n",
       "      <th>3202</th>\n",
       "      <td>1499</td>\n",
       "      <td>12</td>\n",
       "      <td>13</td>\n",
       "    </tr>\n",
       "  </tbody>\n",
       "</table>\n",
       "<p>3203 rows × 3 columns</p>\n",
       "</div>"
      ],
      "text/plain": [
       "      user_id  month  traffic\n",
       "0        1000      5        3\n",
       "1        1000      6       23\n",
       "2        1000      7       14\n",
       "3        1000      8       14\n",
       "4        1000      9       15\n",
       "...       ...    ...      ...\n",
       "3198     1498     10       21\n",
       "3199     1499      9        2\n",
       "3200     1499     10       18\n",
       "3201     1499     11       18\n",
       "3202     1499     12       13\n",
       "\n",
       "[3203 rows x 3 columns]"
      ]
     },
     "execution_count": 37,
     "metadata": {},
     "output_type": "execute_result"
    }
   ],
   "source": [
    "# переводим количество мегабайт в гигабайты и округляем в большую сторону, согласно условиям оператора \n",
    "internet['traffic'] = np.ceil((internet['traffic']/1024)).astype('int')\n",
    "internet"
   ]
  },
  {
   "cell_type": "markdown",
   "metadata": {},
   "source": [
    "На данном этапе мы расчитали и добавили в таблицы: \n",
    "* количество сделанных звонков и израсходованных минут разговора по месяцам;\n",
    "* количество отправленных сообщений по месяцам;\n",
    "* объем израсходованного интернет-трафика по месяцам."
   ]
  },
  {
   "cell_type": "markdown",
   "metadata": {},
   "source": [
    "### Объедение таблиц и взгляд на общую таблицу."
   ]
  },
  {
   "cell_type": "code",
   "execution_count": 38,
   "metadata": {},
   "outputs": [
    {
     "data": {
      "text/html": [
       "<div>\n",
       "<style scoped>\n",
       "    .dataframe tbody tr th:only-of-type {\n",
       "        vertical-align: middle;\n",
       "    }\n",
       "\n",
       "    .dataframe tbody tr th {\n",
       "        vertical-align: top;\n",
       "    }\n",
       "\n",
       "    .dataframe thead th {\n",
       "        text-align: right;\n",
       "    }\n",
       "</style>\n",
       "<table border=\"1\" class=\"dataframe\">\n",
       "  <thead>\n",
       "    <tr style=\"text-align: right;\">\n",
       "      <th></th>\n",
       "      <th>user_id</th>\n",
       "      <th>month_x</th>\n",
       "      <th>calls_duration</th>\n",
       "      <th>calls_number</th>\n",
       "      <th>msgs_number</th>\n",
       "      <th>traffic</th>\n",
       "      <th>age</th>\n",
       "      <th>churn_date</th>\n",
       "      <th>city</th>\n",
       "      <th>first_name</th>\n",
       "      <th>last_name</th>\n",
       "      <th>reg_date</th>\n",
       "      <th>tariff</th>\n",
       "      <th>month_y</th>\n",
       "    </tr>\n",
       "  </thead>\n",
       "  <tbody>\n",
       "    <tr>\n",
       "      <th>0</th>\n",
       "      <td>1000</td>\n",
       "      <td>5.0</td>\n",
       "      <td>159.0</td>\n",
       "      <td>22.0</td>\n",
       "      <td>22.0</td>\n",
       "      <td>3.0</td>\n",
       "      <td>52</td>\n",
       "      <td>NaT</td>\n",
       "      <td>Краснодар</td>\n",
       "      <td>Рафаил</td>\n",
       "      <td>Верещагин</td>\n",
       "      <td>2018-05-25</td>\n",
       "      <td>ultra</td>\n",
       "      <td>5</td>\n",
       "    </tr>\n",
       "    <tr>\n",
       "      <th>1</th>\n",
       "      <td>1000</td>\n",
       "      <td>6.0</td>\n",
       "      <td>172.0</td>\n",
       "      <td>43.0</td>\n",
       "      <td>60.0</td>\n",
       "      <td>23.0</td>\n",
       "      <td>52</td>\n",
       "      <td>NaT</td>\n",
       "      <td>Краснодар</td>\n",
       "      <td>Рафаил</td>\n",
       "      <td>Верещагин</td>\n",
       "      <td>2018-05-25</td>\n",
       "      <td>ultra</td>\n",
       "      <td>5</td>\n",
       "    </tr>\n",
       "    <tr>\n",
       "      <th>2</th>\n",
       "      <td>1000</td>\n",
       "      <td>7.0</td>\n",
       "      <td>340.0</td>\n",
       "      <td>47.0</td>\n",
       "      <td>75.0</td>\n",
       "      <td>14.0</td>\n",
       "      <td>52</td>\n",
       "      <td>NaT</td>\n",
       "      <td>Краснодар</td>\n",
       "      <td>Рафаил</td>\n",
       "      <td>Верещагин</td>\n",
       "      <td>2018-05-25</td>\n",
       "      <td>ultra</td>\n",
       "      <td>5</td>\n",
       "    </tr>\n",
       "    <tr>\n",
       "      <th>3</th>\n",
       "      <td>1000</td>\n",
       "      <td>8.0</td>\n",
       "      <td>408.0</td>\n",
       "      <td>52.0</td>\n",
       "      <td>81.0</td>\n",
       "      <td>14.0</td>\n",
       "      <td>52</td>\n",
       "      <td>NaT</td>\n",
       "      <td>Краснодар</td>\n",
       "      <td>Рафаил</td>\n",
       "      <td>Верещагин</td>\n",
       "      <td>2018-05-25</td>\n",
       "      <td>ultra</td>\n",
       "      <td>5</td>\n",
       "    </tr>\n",
       "    <tr>\n",
       "      <th>4</th>\n",
       "      <td>1000</td>\n",
       "      <td>9.0</td>\n",
       "      <td>466.0</td>\n",
       "      <td>58.0</td>\n",
       "      <td>57.0</td>\n",
       "      <td>15.0</td>\n",
       "      <td>52</td>\n",
       "      <td>NaT</td>\n",
       "      <td>Краснодар</td>\n",
       "      <td>Рафаил</td>\n",
       "      <td>Верещагин</td>\n",
       "      <td>2018-05-25</td>\n",
       "      <td>ultra</td>\n",
       "      <td>5</td>\n",
       "    </tr>\n",
       "    <tr>\n",
       "      <th>...</th>\n",
       "      <td>...</td>\n",
       "      <td>...</td>\n",
       "      <td>...</td>\n",
       "      <td>...</td>\n",
       "      <td>...</td>\n",
       "      <td>...</td>\n",
       "      <td>...</td>\n",
       "      <td>...</td>\n",
       "      <td>...</td>\n",
       "      <td>...</td>\n",
       "      <td>...</td>\n",
       "      <td>...</td>\n",
       "      <td>...</td>\n",
       "      <td>...</td>\n",
       "    </tr>\n",
       "    <tr>\n",
       "      <th>3211</th>\n",
       "      <td>1489</td>\n",
       "      <td>10.0</td>\n",
       "      <td>NaN</td>\n",
       "      <td>NaN</td>\n",
       "      <td>21.0</td>\n",
       "      <td>20.0</td>\n",
       "      <td>35</td>\n",
       "      <td>NaT</td>\n",
       "      <td>Санкт-Петербург</td>\n",
       "      <td>Павел</td>\n",
       "      <td>Гончаров</td>\n",
       "      <td>2018-08-15</td>\n",
       "      <td>smart</td>\n",
       "      <td>8</td>\n",
       "    </tr>\n",
       "    <tr>\n",
       "      <th>3212</th>\n",
       "      <td>1489</td>\n",
       "      <td>11.0</td>\n",
       "      <td>NaN</td>\n",
       "      <td>NaN</td>\n",
       "      <td>20.0</td>\n",
       "      <td>18.0</td>\n",
       "      <td>35</td>\n",
       "      <td>NaT</td>\n",
       "      <td>Санкт-Петербург</td>\n",
       "      <td>Павел</td>\n",
       "      <td>Гончаров</td>\n",
       "      <td>2018-08-15</td>\n",
       "      <td>smart</td>\n",
       "      <td>8</td>\n",
       "    </tr>\n",
       "    <tr>\n",
       "      <th>3213</th>\n",
       "      <td>1489</td>\n",
       "      <td>12.0</td>\n",
       "      <td>NaN</td>\n",
       "      <td>NaN</td>\n",
       "      <td>35.0</td>\n",
       "      <td>17.0</td>\n",
       "      <td>35</td>\n",
       "      <td>NaT</td>\n",
       "      <td>Санкт-Петербург</td>\n",
       "      <td>Павел</td>\n",
       "      <td>Гончаров</td>\n",
       "      <td>2018-08-15</td>\n",
       "      <td>smart</td>\n",
       "      <td>8</td>\n",
       "    </tr>\n",
       "    <tr>\n",
       "      <th>3214</th>\n",
       "      <td>1128</td>\n",
       "      <td>NaN</td>\n",
       "      <td>NaN</td>\n",
       "      <td>NaN</td>\n",
       "      <td>NaN</td>\n",
       "      <td>NaN</td>\n",
       "      <td>51</td>\n",
       "      <td>2018-12-23</td>\n",
       "      <td>Волжский</td>\n",
       "      <td>Ксения</td>\n",
       "      <td>Агаева</td>\n",
       "      <td>2018-12-15</td>\n",
       "      <td>ultra</td>\n",
       "      <td>12</td>\n",
       "    </tr>\n",
       "    <tr>\n",
       "      <th>3215</th>\n",
       "      <td>1371</td>\n",
       "      <td>NaN</td>\n",
       "      <td>NaN</td>\n",
       "      <td>NaN</td>\n",
       "      <td>NaN</td>\n",
       "      <td>NaN</td>\n",
       "      <td>50</td>\n",
       "      <td>2018-12-30</td>\n",
       "      <td>Омск</td>\n",
       "      <td>Ириней</td>\n",
       "      <td>Трофимов</td>\n",
       "      <td>2018-12-25</td>\n",
       "      <td>smart</td>\n",
       "      <td>12</td>\n",
       "    </tr>\n",
       "  </tbody>\n",
       "</table>\n",
       "<p>3216 rows × 14 columns</p>\n",
       "</div>"
      ],
      "text/plain": [
       "      user_id  month_x  calls_duration  calls_number  msgs_number  traffic  \\\n",
       "0        1000      5.0           159.0          22.0         22.0      3.0   \n",
       "1        1000      6.0           172.0          43.0         60.0     23.0   \n",
       "2        1000      7.0           340.0          47.0         75.0     14.0   \n",
       "3        1000      8.0           408.0          52.0         81.0     14.0   \n",
       "4        1000      9.0           466.0          58.0         57.0     15.0   \n",
       "...       ...      ...             ...           ...          ...      ...   \n",
       "3211     1489     10.0             NaN           NaN         21.0     20.0   \n",
       "3212     1489     11.0             NaN           NaN         20.0     18.0   \n",
       "3213     1489     12.0             NaN           NaN         35.0     17.0   \n",
       "3214     1128      NaN             NaN           NaN          NaN      NaN   \n",
       "3215     1371      NaN             NaN           NaN          NaN      NaN   \n",
       "\n",
       "      age churn_date             city first_name  last_name   reg_date tariff  \\\n",
       "0      52        NaT        Краснодар     Рафаил  Верещагин 2018-05-25  ultra   \n",
       "1      52        NaT        Краснодар     Рафаил  Верещагин 2018-05-25  ultra   \n",
       "2      52        NaT        Краснодар     Рафаил  Верещагин 2018-05-25  ultra   \n",
       "3      52        NaT        Краснодар     Рафаил  Верещагин 2018-05-25  ultra   \n",
       "4      52        NaT        Краснодар     Рафаил  Верещагин 2018-05-25  ultra   \n",
       "...   ...        ...              ...        ...        ...        ...    ...   \n",
       "3211   35        NaT  Санкт-Петербург      Павел   Гончаров 2018-08-15  smart   \n",
       "3212   35        NaT  Санкт-Петербург      Павел   Гончаров 2018-08-15  smart   \n",
       "3213   35        NaT  Санкт-Петербург      Павел   Гончаров 2018-08-15  smart   \n",
       "3214   51 2018-12-23         Волжский     Ксения     Агаева 2018-12-15  ultra   \n",
       "3215   50 2018-12-30             Омск     Ириней   Трофимов 2018-12-25  smart   \n",
       "\n",
       "      month_y  \n",
       "0           5  \n",
       "1           5  \n",
       "2           5  \n",
       "3           5  \n",
       "4           5  \n",
       "...       ...  \n",
       "3211        8  \n",
       "3212        8  \n",
       "3213        8  \n",
       "3214       12  \n",
       "3215       12  \n",
       "\n",
       "[3216 rows x 14 columns]"
      ]
     },
     "execution_count": 38,
     "metadata": {},
     "output_type": "execute_result"
    }
   ],
   "source": [
    "# объеденим все таблицы в одну и выведем на экран\n",
    "data = calls.merge(\n",
    "    messages, how='outer', on=['user_id', 'month'])\n",
    "data = data.merge(\n",
    "    internet, how='outer', on=['user_id', 'month'])\n",
    "data = data.merge(\n",
    "    users, how='outer', on=['user_id'])\n",
    "data"
   ]
  },
  {
   "cell_type": "code",
   "execution_count": 39,
   "metadata": {},
   "outputs": [
    {
     "name": "stdout",
     "output_type": "stream",
     "text": [
      "<class 'pandas.core.frame.DataFrame'>\n",
      "Int64Index: 3216 entries, 0 to 3215\n",
      "Data columns (total 14 columns):\n",
      " #   Column          Non-Null Count  Dtype         \n",
      "---  ------          --------------  -----         \n",
      " 0   user_id         3216 non-null   int64         \n",
      " 1   month_x         3214 non-null   float64       \n",
      " 2   calls_duration  3174 non-null   float64       \n",
      " 3   calls_number    3174 non-null   float64       \n",
      " 4   msgs_number     2717 non-null   float64       \n",
      " 5   traffic         3203 non-null   float64       \n",
      " 6   age             3216 non-null   int64         \n",
      " 7   churn_date      189 non-null    datetime64[ns]\n",
      " 8   city            3216 non-null   object        \n",
      " 9   first_name      3216 non-null   object        \n",
      " 10  last_name       3216 non-null   object        \n",
      " 11  reg_date        3216 non-null   datetime64[ns]\n",
      " 12  tariff          3216 non-null   object        \n",
      " 13  month_y         3216 non-null   int64         \n",
      "dtypes: datetime64[ns](2), float64(5), int64(3), object(4)\n",
      "memory usage: 376.9+ KB\n"
     ]
    }
   ],
   "source": [
    "# информация об общей таблице\n",
    "data.info()"
   ]
  },
  {
   "cell_type": "markdown",
   "metadata": {},
   "source": [
    "После объеденения таблиц, у нас появилось много пропусков, скорей всего это из-за того что пользователь в какой-то месяц не пользовался интернетом, не отправлял сообщения или не звонил. Поэтому логично заменить эти пропуски нулями."
   ]
  },
  {
   "cell_type": "code",
   "execution_count": 40,
   "metadata": {},
   "outputs": [
    {
     "data": {
      "text/html": [
       "<div>\n",
       "<style scoped>\n",
       "    .dataframe tbody tr th:only-of-type {\n",
       "        vertical-align: middle;\n",
       "    }\n",
       "\n",
       "    .dataframe tbody tr th {\n",
       "        vertical-align: top;\n",
       "    }\n",
       "\n",
       "    .dataframe thead th {\n",
       "        text-align: right;\n",
       "    }\n",
       "</style>\n",
       "<table border=\"1\" class=\"dataframe\">\n",
       "  <thead>\n",
       "    <tr style=\"text-align: right;\">\n",
       "      <th></th>\n",
       "      <th>user_id</th>\n",
       "      <th>month_x</th>\n",
       "      <th>calls_duration</th>\n",
       "      <th>calls_number</th>\n",
       "      <th>msgs_number</th>\n",
       "      <th>traffic</th>\n",
       "      <th>age</th>\n",
       "      <th>churn_date</th>\n",
       "      <th>city</th>\n",
       "      <th>first_name</th>\n",
       "      <th>last_name</th>\n",
       "      <th>reg_date</th>\n",
       "      <th>tariff</th>\n",
       "      <th>month_y</th>\n",
       "    </tr>\n",
       "  </thead>\n",
       "  <tbody>\n",
       "    <tr>\n",
       "      <th>0</th>\n",
       "      <td>1000</td>\n",
       "      <td>5.0</td>\n",
       "      <td>159.0</td>\n",
       "      <td>22.0</td>\n",
       "      <td>22.0</td>\n",
       "      <td>3.0</td>\n",
       "      <td>52</td>\n",
       "      <td>NaT</td>\n",
       "      <td>Краснодар</td>\n",
       "      <td>Рафаил</td>\n",
       "      <td>Верещагин</td>\n",
       "      <td>2018-05-25</td>\n",
       "      <td>ultra</td>\n",
       "      <td>5</td>\n",
       "    </tr>\n",
       "    <tr>\n",
       "      <th>1</th>\n",
       "      <td>1000</td>\n",
       "      <td>6.0</td>\n",
       "      <td>172.0</td>\n",
       "      <td>43.0</td>\n",
       "      <td>60.0</td>\n",
       "      <td>23.0</td>\n",
       "      <td>52</td>\n",
       "      <td>NaT</td>\n",
       "      <td>Краснодар</td>\n",
       "      <td>Рафаил</td>\n",
       "      <td>Верещагин</td>\n",
       "      <td>2018-05-25</td>\n",
       "      <td>ultra</td>\n",
       "      <td>5</td>\n",
       "    </tr>\n",
       "    <tr>\n",
       "      <th>2</th>\n",
       "      <td>1000</td>\n",
       "      <td>7.0</td>\n",
       "      <td>340.0</td>\n",
       "      <td>47.0</td>\n",
       "      <td>75.0</td>\n",
       "      <td>14.0</td>\n",
       "      <td>52</td>\n",
       "      <td>NaT</td>\n",
       "      <td>Краснодар</td>\n",
       "      <td>Рафаил</td>\n",
       "      <td>Верещагин</td>\n",
       "      <td>2018-05-25</td>\n",
       "      <td>ultra</td>\n",
       "      <td>5</td>\n",
       "    </tr>\n",
       "    <tr>\n",
       "      <th>3</th>\n",
       "      <td>1000</td>\n",
       "      <td>8.0</td>\n",
       "      <td>408.0</td>\n",
       "      <td>52.0</td>\n",
       "      <td>81.0</td>\n",
       "      <td>14.0</td>\n",
       "      <td>52</td>\n",
       "      <td>NaT</td>\n",
       "      <td>Краснодар</td>\n",
       "      <td>Рафаил</td>\n",
       "      <td>Верещагин</td>\n",
       "      <td>2018-05-25</td>\n",
       "      <td>ultra</td>\n",
       "      <td>5</td>\n",
       "    </tr>\n",
       "    <tr>\n",
       "      <th>4</th>\n",
       "      <td>1000</td>\n",
       "      <td>9.0</td>\n",
       "      <td>466.0</td>\n",
       "      <td>58.0</td>\n",
       "      <td>57.0</td>\n",
       "      <td>15.0</td>\n",
       "      <td>52</td>\n",
       "      <td>NaT</td>\n",
       "      <td>Краснодар</td>\n",
       "      <td>Рафаил</td>\n",
       "      <td>Верещагин</td>\n",
       "      <td>2018-05-25</td>\n",
       "      <td>ultra</td>\n",
       "      <td>5</td>\n",
       "    </tr>\n",
       "    <tr>\n",
       "      <th>...</th>\n",
       "      <td>...</td>\n",
       "      <td>...</td>\n",
       "      <td>...</td>\n",
       "      <td>...</td>\n",
       "      <td>...</td>\n",
       "      <td>...</td>\n",
       "      <td>...</td>\n",
       "      <td>...</td>\n",
       "      <td>...</td>\n",
       "      <td>...</td>\n",
       "      <td>...</td>\n",
       "      <td>...</td>\n",
       "      <td>...</td>\n",
       "      <td>...</td>\n",
       "    </tr>\n",
       "    <tr>\n",
       "      <th>3211</th>\n",
       "      <td>1489</td>\n",
       "      <td>10.0</td>\n",
       "      <td>0.0</td>\n",
       "      <td>0.0</td>\n",
       "      <td>21.0</td>\n",
       "      <td>20.0</td>\n",
       "      <td>35</td>\n",
       "      <td>NaT</td>\n",
       "      <td>Санкт-Петербург</td>\n",
       "      <td>Павел</td>\n",
       "      <td>Гончаров</td>\n",
       "      <td>2018-08-15</td>\n",
       "      <td>smart</td>\n",
       "      <td>8</td>\n",
       "    </tr>\n",
       "    <tr>\n",
       "      <th>3212</th>\n",
       "      <td>1489</td>\n",
       "      <td>11.0</td>\n",
       "      <td>0.0</td>\n",
       "      <td>0.0</td>\n",
       "      <td>20.0</td>\n",
       "      <td>18.0</td>\n",
       "      <td>35</td>\n",
       "      <td>NaT</td>\n",
       "      <td>Санкт-Петербург</td>\n",
       "      <td>Павел</td>\n",
       "      <td>Гончаров</td>\n",
       "      <td>2018-08-15</td>\n",
       "      <td>smart</td>\n",
       "      <td>8</td>\n",
       "    </tr>\n",
       "    <tr>\n",
       "      <th>3213</th>\n",
       "      <td>1489</td>\n",
       "      <td>12.0</td>\n",
       "      <td>0.0</td>\n",
       "      <td>0.0</td>\n",
       "      <td>35.0</td>\n",
       "      <td>17.0</td>\n",
       "      <td>35</td>\n",
       "      <td>NaT</td>\n",
       "      <td>Санкт-Петербург</td>\n",
       "      <td>Павел</td>\n",
       "      <td>Гончаров</td>\n",
       "      <td>2018-08-15</td>\n",
       "      <td>smart</td>\n",
       "      <td>8</td>\n",
       "    </tr>\n",
       "    <tr>\n",
       "      <th>3214</th>\n",
       "      <td>1128</td>\n",
       "      <td>NaN</td>\n",
       "      <td>0.0</td>\n",
       "      <td>0.0</td>\n",
       "      <td>0.0</td>\n",
       "      <td>0.0</td>\n",
       "      <td>51</td>\n",
       "      <td>2018-12-23</td>\n",
       "      <td>Волжский</td>\n",
       "      <td>Ксения</td>\n",
       "      <td>Агаева</td>\n",
       "      <td>2018-12-15</td>\n",
       "      <td>ultra</td>\n",
       "      <td>12</td>\n",
       "    </tr>\n",
       "    <tr>\n",
       "      <th>3215</th>\n",
       "      <td>1371</td>\n",
       "      <td>NaN</td>\n",
       "      <td>0.0</td>\n",
       "      <td>0.0</td>\n",
       "      <td>0.0</td>\n",
       "      <td>0.0</td>\n",
       "      <td>50</td>\n",
       "      <td>2018-12-30</td>\n",
       "      <td>Омск</td>\n",
       "      <td>Ириней</td>\n",
       "      <td>Трофимов</td>\n",
       "      <td>2018-12-25</td>\n",
       "      <td>smart</td>\n",
       "      <td>12</td>\n",
       "    </tr>\n",
       "  </tbody>\n",
       "</table>\n",
       "<p>3216 rows × 14 columns</p>\n",
       "</div>"
      ],
      "text/plain": [
       "      user_id  month_x  calls_duration  calls_number  msgs_number  traffic  \\\n",
       "0        1000      5.0           159.0          22.0         22.0      3.0   \n",
       "1        1000      6.0           172.0          43.0         60.0     23.0   \n",
       "2        1000      7.0           340.0          47.0         75.0     14.0   \n",
       "3        1000      8.0           408.0          52.0         81.0     14.0   \n",
       "4        1000      9.0           466.0          58.0         57.0     15.0   \n",
       "...       ...      ...             ...           ...          ...      ...   \n",
       "3211     1489     10.0             0.0           0.0         21.0     20.0   \n",
       "3212     1489     11.0             0.0           0.0         20.0     18.0   \n",
       "3213     1489     12.0             0.0           0.0         35.0     17.0   \n",
       "3214     1128      NaN             0.0           0.0          0.0      0.0   \n",
       "3215     1371      NaN             0.0           0.0          0.0      0.0   \n",
       "\n",
       "      age churn_date             city first_name  last_name   reg_date tariff  \\\n",
       "0      52        NaT        Краснодар     Рафаил  Верещагин 2018-05-25  ultra   \n",
       "1      52        NaT        Краснодар     Рафаил  Верещагин 2018-05-25  ultra   \n",
       "2      52        NaT        Краснодар     Рафаил  Верещагин 2018-05-25  ultra   \n",
       "3      52        NaT        Краснодар     Рафаил  Верещагин 2018-05-25  ultra   \n",
       "4      52        NaT        Краснодар     Рафаил  Верещагин 2018-05-25  ultra   \n",
       "...   ...        ...              ...        ...        ...        ...    ...   \n",
       "3211   35        NaT  Санкт-Петербург      Павел   Гончаров 2018-08-15  smart   \n",
       "3212   35        NaT  Санкт-Петербург      Павел   Гончаров 2018-08-15  smart   \n",
       "3213   35        NaT  Санкт-Петербург      Павел   Гончаров 2018-08-15  smart   \n",
       "3214   51 2018-12-23         Волжский     Ксения     Агаева 2018-12-15  ultra   \n",
       "3215   50 2018-12-30             Омск     Ириней   Трофимов 2018-12-25  smart   \n",
       "\n",
       "      month_y  \n",
       "0           5  \n",
       "1           5  \n",
       "2           5  \n",
       "3           5  \n",
       "4           5  \n",
       "...       ...  \n",
       "3211        8  \n",
       "3212        8  \n",
       "3213        8  \n",
       "3214       12  \n",
       "3215       12  \n",
       "\n",
       "[3216 rows x 14 columns]"
      ]
     },
     "execution_count": 40,
     "metadata": {},
     "output_type": "execute_result"
    }
   ],
   "source": [
    "# заменяем пропуски на нули\n",
    "for element in ['calls_duration', 'calls_number', 'msgs_number', 'traffic']:\n",
    "    data[element] = data[element].fillna(0)\n",
    "data"
   ]
  },
  {
   "cell_type": "code",
   "execution_count": 41,
   "metadata": {},
   "outputs": [
    {
     "name": "stdout",
     "output_type": "stream",
     "text": [
      "<class 'pandas.core.frame.DataFrame'>\n",
      "Int64Index: 3216 entries, 0 to 3215\n",
      "Data columns (total 14 columns):\n",
      " #   Column          Non-Null Count  Dtype         \n",
      "---  ------          --------------  -----         \n",
      " 0   user_id         3216 non-null   int64         \n",
      " 1   month_x         3214 non-null   float64       \n",
      " 2   calls_duration  3216 non-null   float64       \n",
      " 3   calls_number    3216 non-null   float64       \n",
      " 4   msgs_number     3216 non-null   float64       \n",
      " 5   traffic         3216 non-null   float64       \n",
      " 6   age             3216 non-null   int64         \n",
      " 7   churn_date      189 non-null    datetime64[ns]\n",
      " 8   city            3216 non-null   object        \n",
      " 9   first_name      3216 non-null   object        \n",
      " 10  last_name       3216 non-null   object        \n",
      " 11  reg_date        3216 non-null   datetime64[ns]\n",
      " 12  tariff          3216 non-null   object        \n",
      " 13  month_y         3216 non-null   int64         \n",
      "dtypes: datetime64[ns](2), float64(5), int64(3), object(4)\n",
      "memory usage: 376.9+ KB\n"
     ]
    }
   ],
   "source": [
    "# проверим удалось ли избавиться от пропусков\n",
    "data.info()        "
   ]
  },
  {
   "cell_type": "markdown",
   "metadata": {},
   "source": [
    "Объеденили таблицы и избавились от пропусков появившихся после объеденения"
   ]
  },
  {
   "cell_type": "markdown",
   "metadata": {},
   "source": [
    "### Расчет помесячной выручки по каждому пользователю"
   ]
  },
  {
   "cell_type": "code",
   "execution_count": 42,
   "metadata": {},
   "outputs": [],
   "source": [
    "# переименуем название столбца в тарифах\n",
    "tariffs = tariffs.rename(columns={'tariff_name': 'tariff'})"
   ]
  },
  {
   "cell_type": "code",
   "execution_count": 43,
   "metadata": {},
   "outputs": [
    {
     "data": {
      "text/html": [
       "<div>\n",
       "<style scoped>\n",
       "    .dataframe tbody tr th:only-of-type {\n",
       "        vertical-align: middle;\n",
       "    }\n",
       "\n",
       "    .dataframe tbody tr th {\n",
       "        vertical-align: top;\n",
       "    }\n",
       "\n",
       "    .dataframe thead th {\n",
       "        text-align: right;\n",
       "    }\n",
       "</style>\n",
       "<table border=\"1\" class=\"dataframe\">\n",
       "  <thead>\n",
       "    <tr style=\"text-align: right;\">\n",
       "      <th></th>\n",
       "      <th>user_id</th>\n",
       "      <th>month_x</th>\n",
       "      <th>calls_duration</th>\n",
       "      <th>calls_number</th>\n",
       "      <th>msgs_number</th>\n",
       "      <th>traffic</th>\n",
       "      <th>age</th>\n",
       "      <th>churn_date</th>\n",
       "      <th>city</th>\n",
       "      <th>first_name</th>\n",
       "      <th>last_name</th>\n",
       "      <th>reg_date</th>\n",
       "      <th>tariff</th>\n",
       "      <th>month_y</th>\n",
       "      <th>messages_included</th>\n",
       "      <th>mb_per_month_included</th>\n",
       "      <th>minutes_included</th>\n",
       "      <th>rub_monthly_fee</th>\n",
       "      <th>rub_per_gb</th>\n",
       "      <th>rub_per_message</th>\n",
       "      <th>rub_per_minute</th>\n",
       "    </tr>\n",
       "  </thead>\n",
       "  <tbody>\n",
       "    <tr>\n",
       "      <th>0</th>\n",
       "      <td>1000</td>\n",
       "      <td>5.0</td>\n",
       "      <td>159.0</td>\n",
       "      <td>22.0</td>\n",
       "      <td>22.0</td>\n",
       "      <td>3.0</td>\n",
       "      <td>52</td>\n",
       "      <td>NaT</td>\n",
       "      <td>Краснодар</td>\n",
       "      <td>Рафаил</td>\n",
       "      <td>Верещагин</td>\n",
       "      <td>2018-05-25</td>\n",
       "      <td>ultra</td>\n",
       "      <td>5</td>\n",
       "      <td>1000</td>\n",
       "      <td>30720</td>\n",
       "      <td>3000</td>\n",
       "      <td>1950</td>\n",
       "      <td>150</td>\n",
       "      <td>1</td>\n",
       "      <td>1</td>\n",
       "    </tr>\n",
       "    <tr>\n",
       "      <th>1</th>\n",
       "      <td>1000</td>\n",
       "      <td>6.0</td>\n",
       "      <td>172.0</td>\n",
       "      <td>43.0</td>\n",
       "      <td>60.0</td>\n",
       "      <td>23.0</td>\n",
       "      <td>52</td>\n",
       "      <td>NaT</td>\n",
       "      <td>Краснодар</td>\n",
       "      <td>Рафаил</td>\n",
       "      <td>Верещагин</td>\n",
       "      <td>2018-05-25</td>\n",
       "      <td>ultra</td>\n",
       "      <td>5</td>\n",
       "      <td>1000</td>\n",
       "      <td>30720</td>\n",
       "      <td>3000</td>\n",
       "      <td>1950</td>\n",
       "      <td>150</td>\n",
       "      <td>1</td>\n",
       "      <td>1</td>\n",
       "    </tr>\n",
       "    <tr>\n",
       "      <th>2</th>\n",
       "      <td>1000</td>\n",
       "      <td>7.0</td>\n",
       "      <td>340.0</td>\n",
       "      <td>47.0</td>\n",
       "      <td>75.0</td>\n",
       "      <td>14.0</td>\n",
       "      <td>52</td>\n",
       "      <td>NaT</td>\n",
       "      <td>Краснодар</td>\n",
       "      <td>Рафаил</td>\n",
       "      <td>Верещагин</td>\n",
       "      <td>2018-05-25</td>\n",
       "      <td>ultra</td>\n",
       "      <td>5</td>\n",
       "      <td>1000</td>\n",
       "      <td>30720</td>\n",
       "      <td>3000</td>\n",
       "      <td>1950</td>\n",
       "      <td>150</td>\n",
       "      <td>1</td>\n",
       "      <td>1</td>\n",
       "    </tr>\n",
       "    <tr>\n",
       "      <th>3</th>\n",
       "      <td>1000</td>\n",
       "      <td>8.0</td>\n",
       "      <td>408.0</td>\n",
       "      <td>52.0</td>\n",
       "      <td>81.0</td>\n",
       "      <td>14.0</td>\n",
       "      <td>52</td>\n",
       "      <td>NaT</td>\n",
       "      <td>Краснодар</td>\n",
       "      <td>Рафаил</td>\n",
       "      <td>Верещагин</td>\n",
       "      <td>2018-05-25</td>\n",
       "      <td>ultra</td>\n",
       "      <td>5</td>\n",
       "      <td>1000</td>\n",
       "      <td>30720</td>\n",
       "      <td>3000</td>\n",
       "      <td>1950</td>\n",
       "      <td>150</td>\n",
       "      <td>1</td>\n",
       "      <td>1</td>\n",
       "    </tr>\n",
       "    <tr>\n",
       "      <th>4</th>\n",
       "      <td>1000</td>\n",
       "      <td>9.0</td>\n",
       "      <td>466.0</td>\n",
       "      <td>58.0</td>\n",
       "      <td>57.0</td>\n",
       "      <td>15.0</td>\n",
       "      <td>52</td>\n",
       "      <td>NaT</td>\n",
       "      <td>Краснодар</td>\n",
       "      <td>Рафаил</td>\n",
       "      <td>Верещагин</td>\n",
       "      <td>2018-05-25</td>\n",
       "      <td>ultra</td>\n",
       "      <td>5</td>\n",
       "      <td>1000</td>\n",
       "      <td>30720</td>\n",
       "      <td>3000</td>\n",
       "      <td>1950</td>\n",
       "      <td>150</td>\n",
       "      <td>1</td>\n",
       "      <td>1</td>\n",
       "    </tr>\n",
       "    <tr>\n",
       "      <th>...</th>\n",
       "      <td>...</td>\n",
       "      <td>...</td>\n",
       "      <td>...</td>\n",
       "      <td>...</td>\n",
       "      <td>...</td>\n",
       "      <td>...</td>\n",
       "      <td>...</td>\n",
       "      <td>...</td>\n",
       "      <td>...</td>\n",
       "      <td>...</td>\n",
       "      <td>...</td>\n",
       "      <td>...</td>\n",
       "      <td>...</td>\n",
       "      <td>...</td>\n",
       "      <td>...</td>\n",
       "      <td>...</td>\n",
       "      <td>...</td>\n",
       "      <td>...</td>\n",
       "      <td>...</td>\n",
       "      <td>...</td>\n",
       "      <td>...</td>\n",
       "    </tr>\n",
       "    <tr>\n",
       "      <th>3211</th>\n",
       "      <td>1489</td>\n",
       "      <td>9.0</td>\n",
       "      <td>0.0</td>\n",
       "      <td>0.0</td>\n",
       "      <td>32.0</td>\n",
       "      <td>17.0</td>\n",
       "      <td>35</td>\n",
       "      <td>NaT</td>\n",
       "      <td>Санкт-Петербург</td>\n",
       "      <td>Павел</td>\n",
       "      <td>Гончаров</td>\n",
       "      <td>2018-08-15</td>\n",
       "      <td>smart</td>\n",
       "      <td>8</td>\n",
       "      <td>50</td>\n",
       "      <td>15360</td>\n",
       "      <td>500</td>\n",
       "      <td>550</td>\n",
       "      <td>200</td>\n",
       "      <td>3</td>\n",
       "      <td>3</td>\n",
       "    </tr>\n",
       "    <tr>\n",
       "      <th>3212</th>\n",
       "      <td>1489</td>\n",
       "      <td>10.0</td>\n",
       "      <td>0.0</td>\n",
       "      <td>0.0</td>\n",
       "      <td>21.0</td>\n",
       "      <td>20.0</td>\n",
       "      <td>35</td>\n",
       "      <td>NaT</td>\n",
       "      <td>Санкт-Петербург</td>\n",
       "      <td>Павел</td>\n",
       "      <td>Гончаров</td>\n",
       "      <td>2018-08-15</td>\n",
       "      <td>smart</td>\n",
       "      <td>8</td>\n",
       "      <td>50</td>\n",
       "      <td>15360</td>\n",
       "      <td>500</td>\n",
       "      <td>550</td>\n",
       "      <td>200</td>\n",
       "      <td>3</td>\n",
       "      <td>3</td>\n",
       "    </tr>\n",
       "    <tr>\n",
       "      <th>3213</th>\n",
       "      <td>1489</td>\n",
       "      <td>11.0</td>\n",
       "      <td>0.0</td>\n",
       "      <td>0.0</td>\n",
       "      <td>20.0</td>\n",
       "      <td>18.0</td>\n",
       "      <td>35</td>\n",
       "      <td>NaT</td>\n",
       "      <td>Санкт-Петербург</td>\n",
       "      <td>Павел</td>\n",
       "      <td>Гончаров</td>\n",
       "      <td>2018-08-15</td>\n",
       "      <td>smart</td>\n",
       "      <td>8</td>\n",
       "      <td>50</td>\n",
       "      <td>15360</td>\n",
       "      <td>500</td>\n",
       "      <td>550</td>\n",
       "      <td>200</td>\n",
       "      <td>3</td>\n",
       "      <td>3</td>\n",
       "    </tr>\n",
       "    <tr>\n",
       "      <th>3214</th>\n",
       "      <td>1489</td>\n",
       "      <td>12.0</td>\n",
       "      <td>0.0</td>\n",
       "      <td>0.0</td>\n",
       "      <td>35.0</td>\n",
       "      <td>17.0</td>\n",
       "      <td>35</td>\n",
       "      <td>NaT</td>\n",
       "      <td>Санкт-Петербург</td>\n",
       "      <td>Павел</td>\n",
       "      <td>Гончаров</td>\n",
       "      <td>2018-08-15</td>\n",
       "      <td>smart</td>\n",
       "      <td>8</td>\n",
       "      <td>50</td>\n",
       "      <td>15360</td>\n",
       "      <td>500</td>\n",
       "      <td>550</td>\n",
       "      <td>200</td>\n",
       "      <td>3</td>\n",
       "      <td>3</td>\n",
       "    </tr>\n",
       "    <tr>\n",
       "      <th>3215</th>\n",
       "      <td>1371</td>\n",
       "      <td>NaN</td>\n",
       "      <td>0.0</td>\n",
       "      <td>0.0</td>\n",
       "      <td>0.0</td>\n",
       "      <td>0.0</td>\n",
       "      <td>50</td>\n",
       "      <td>2018-12-30</td>\n",
       "      <td>Омск</td>\n",
       "      <td>Ириней</td>\n",
       "      <td>Трофимов</td>\n",
       "      <td>2018-12-25</td>\n",
       "      <td>smart</td>\n",
       "      <td>12</td>\n",
       "      <td>50</td>\n",
       "      <td>15360</td>\n",
       "      <td>500</td>\n",
       "      <td>550</td>\n",
       "      <td>200</td>\n",
       "      <td>3</td>\n",
       "      <td>3</td>\n",
       "    </tr>\n",
       "  </tbody>\n",
       "</table>\n",
       "<p>3216 rows × 21 columns</p>\n",
       "</div>"
      ],
      "text/plain": [
       "      user_id  month_x  calls_duration  calls_number  msgs_number  traffic  \\\n",
       "0        1000      5.0           159.0          22.0         22.0      3.0   \n",
       "1        1000      6.0           172.0          43.0         60.0     23.0   \n",
       "2        1000      7.0           340.0          47.0         75.0     14.0   \n",
       "3        1000      8.0           408.0          52.0         81.0     14.0   \n",
       "4        1000      9.0           466.0          58.0         57.0     15.0   \n",
       "...       ...      ...             ...           ...          ...      ...   \n",
       "3211     1489      9.0             0.0           0.0         32.0     17.0   \n",
       "3212     1489     10.0             0.0           0.0         21.0     20.0   \n",
       "3213     1489     11.0             0.0           0.0         20.0     18.0   \n",
       "3214     1489     12.0             0.0           0.0         35.0     17.0   \n",
       "3215     1371      NaN             0.0           0.0          0.0      0.0   \n",
       "\n",
       "      age churn_date             city first_name  last_name   reg_date tariff  \\\n",
       "0      52        NaT        Краснодар     Рафаил  Верещагин 2018-05-25  ultra   \n",
       "1      52        NaT        Краснодар     Рафаил  Верещагин 2018-05-25  ultra   \n",
       "2      52        NaT        Краснодар     Рафаил  Верещагин 2018-05-25  ultra   \n",
       "3      52        NaT        Краснодар     Рафаил  Верещагин 2018-05-25  ultra   \n",
       "4      52        NaT        Краснодар     Рафаил  Верещагин 2018-05-25  ultra   \n",
       "...   ...        ...              ...        ...        ...        ...    ...   \n",
       "3211   35        NaT  Санкт-Петербург      Павел   Гончаров 2018-08-15  smart   \n",
       "3212   35        NaT  Санкт-Петербург      Павел   Гончаров 2018-08-15  smart   \n",
       "3213   35        NaT  Санкт-Петербург      Павел   Гончаров 2018-08-15  smart   \n",
       "3214   35        NaT  Санкт-Петербург      Павел   Гончаров 2018-08-15  smart   \n",
       "3215   50 2018-12-30             Омск     Ириней   Трофимов 2018-12-25  smart   \n",
       "\n",
       "      month_y  messages_included  mb_per_month_included  minutes_included  \\\n",
       "0           5               1000                  30720              3000   \n",
       "1           5               1000                  30720              3000   \n",
       "2           5               1000                  30720              3000   \n",
       "3           5               1000                  30720              3000   \n",
       "4           5               1000                  30720              3000   \n",
       "...       ...                ...                    ...               ...   \n",
       "3211        8                 50                  15360               500   \n",
       "3212        8                 50                  15360               500   \n",
       "3213        8                 50                  15360               500   \n",
       "3214        8                 50                  15360               500   \n",
       "3215       12                 50                  15360               500   \n",
       "\n",
       "      rub_monthly_fee  rub_per_gb  rub_per_message  rub_per_minute  \n",
       "0                1950         150                1               1  \n",
       "1                1950         150                1               1  \n",
       "2                1950         150                1               1  \n",
       "3                1950         150                1               1  \n",
       "4                1950         150                1               1  \n",
       "...               ...         ...              ...             ...  \n",
       "3211              550         200                3               3  \n",
       "3212              550         200                3               3  \n",
       "3213              550         200                3               3  \n",
       "3214              550         200                3               3  \n",
       "3215              550         200                3               3  \n",
       "\n",
       "[3216 rows x 21 columns]"
      ]
     },
     "execution_count": 43,
     "metadata": {},
     "output_type": "execute_result"
    }
   ],
   "source": [
    "# объеденим таблицу с условиями тарифов\n",
    "data_with_tariff = data.merge(\n",
    "    tariffs, how='outer', on=['tariff'])\n",
    "data_with_tariff"
   ]
  },
  {
   "cell_type": "code",
   "execution_count": 44,
   "metadata": {},
   "outputs": [
    {
     "data": {
      "text/html": [
       "<div>\n",
       "<style scoped>\n",
       "    .dataframe tbody tr th:only-of-type {\n",
       "        vertical-align: middle;\n",
       "    }\n",
       "\n",
       "    .dataframe tbody tr th {\n",
       "        vertical-align: top;\n",
       "    }\n",
       "\n",
       "    .dataframe thead th {\n",
       "        text-align: right;\n",
       "    }\n",
       "</style>\n",
       "<table border=\"1\" class=\"dataframe\">\n",
       "  <thead>\n",
       "    <tr style=\"text-align: right;\">\n",
       "      <th></th>\n",
       "      <th>user_id</th>\n",
       "      <th>month_x</th>\n",
       "      <th>calls_duration</th>\n",
       "      <th>calls_number</th>\n",
       "      <th>msgs_number</th>\n",
       "      <th>traffic</th>\n",
       "      <th>age</th>\n",
       "      <th>churn_date</th>\n",
       "      <th>city</th>\n",
       "      <th>first_name</th>\n",
       "      <th>last_name</th>\n",
       "      <th>reg_date</th>\n",
       "      <th>tariff</th>\n",
       "      <th>month_y</th>\n",
       "      <th>messages_included</th>\n",
       "      <th>mb_per_month_included</th>\n",
       "      <th>minutes_included</th>\n",
       "      <th>rub_monthly_fee</th>\n",
       "      <th>rub_per_gb</th>\n",
       "      <th>rub_per_message</th>\n",
       "      <th>rub_per_minute</th>\n",
       "      <th>revenue_per_month</th>\n",
       "    </tr>\n",
       "  </thead>\n",
       "  <tbody>\n",
       "    <tr>\n",
       "      <th>0</th>\n",
       "      <td>1000</td>\n",
       "      <td>5.0</td>\n",
       "      <td>159.0</td>\n",
       "      <td>22.0</td>\n",
       "      <td>22.0</td>\n",
       "      <td>3.0</td>\n",
       "      <td>52</td>\n",
       "      <td>NaT</td>\n",
       "      <td>Краснодар</td>\n",
       "      <td>Рафаил</td>\n",
       "      <td>Верещагин</td>\n",
       "      <td>2018-05-25</td>\n",
       "      <td>ultra</td>\n",
       "      <td>5</td>\n",
       "      <td>1000</td>\n",
       "      <td>30720</td>\n",
       "      <td>3000</td>\n",
       "      <td>1950</td>\n",
       "      <td>150</td>\n",
       "      <td>1</td>\n",
       "      <td>1</td>\n",
       "      <td>1950</td>\n",
       "    </tr>\n",
       "    <tr>\n",
       "      <th>1</th>\n",
       "      <td>1000</td>\n",
       "      <td>6.0</td>\n",
       "      <td>172.0</td>\n",
       "      <td>43.0</td>\n",
       "      <td>60.0</td>\n",
       "      <td>23.0</td>\n",
       "      <td>52</td>\n",
       "      <td>NaT</td>\n",
       "      <td>Краснодар</td>\n",
       "      <td>Рафаил</td>\n",
       "      <td>Верещагин</td>\n",
       "      <td>2018-05-25</td>\n",
       "      <td>ultra</td>\n",
       "      <td>5</td>\n",
       "      <td>1000</td>\n",
       "      <td>30720</td>\n",
       "      <td>3000</td>\n",
       "      <td>1950</td>\n",
       "      <td>150</td>\n",
       "      <td>1</td>\n",
       "      <td>1</td>\n",
       "      <td>1950</td>\n",
       "    </tr>\n",
       "    <tr>\n",
       "      <th>2</th>\n",
       "      <td>1000</td>\n",
       "      <td>7.0</td>\n",
       "      <td>340.0</td>\n",
       "      <td>47.0</td>\n",
       "      <td>75.0</td>\n",
       "      <td>14.0</td>\n",
       "      <td>52</td>\n",
       "      <td>NaT</td>\n",
       "      <td>Краснодар</td>\n",
       "      <td>Рафаил</td>\n",
       "      <td>Верещагин</td>\n",
       "      <td>2018-05-25</td>\n",
       "      <td>ultra</td>\n",
       "      <td>5</td>\n",
       "      <td>1000</td>\n",
       "      <td>30720</td>\n",
       "      <td>3000</td>\n",
       "      <td>1950</td>\n",
       "      <td>150</td>\n",
       "      <td>1</td>\n",
       "      <td>1</td>\n",
       "      <td>1950</td>\n",
       "    </tr>\n",
       "    <tr>\n",
       "      <th>3</th>\n",
       "      <td>1000</td>\n",
       "      <td>8.0</td>\n",
       "      <td>408.0</td>\n",
       "      <td>52.0</td>\n",
       "      <td>81.0</td>\n",
       "      <td>14.0</td>\n",
       "      <td>52</td>\n",
       "      <td>NaT</td>\n",
       "      <td>Краснодар</td>\n",
       "      <td>Рафаил</td>\n",
       "      <td>Верещагин</td>\n",
       "      <td>2018-05-25</td>\n",
       "      <td>ultra</td>\n",
       "      <td>5</td>\n",
       "      <td>1000</td>\n",
       "      <td>30720</td>\n",
       "      <td>3000</td>\n",
       "      <td>1950</td>\n",
       "      <td>150</td>\n",
       "      <td>1</td>\n",
       "      <td>1</td>\n",
       "      <td>1950</td>\n",
       "    </tr>\n",
       "    <tr>\n",
       "      <th>4</th>\n",
       "      <td>1000</td>\n",
       "      <td>9.0</td>\n",
       "      <td>466.0</td>\n",
       "      <td>58.0</td>\n",
       "      <td>57.0</td>\n",
       "      <td>15.0</td>\n",
       "      <td>52</td>\n",
       "      <td>NaT</td>\n",
       "      <td>Краснодар</td>\n",
       "      <td>Рафаил</td>\n",
       "      <td>Верещагин</td>\n",
       "      <td>2018-05-25</td>\n",
       "      <td>ultra</td>\n",
       "      <td>5</td>\n",
       "      <td>1000</td>\n",
       "      <td>30720</td>\n",
       "      <td>3000</td>\n",
       "      <td>1950</td>\n",
       "      <td>150</td>\n",
       "      <td>1</td>\n",
       "      <td>1</td>\n",
       "      <td>1950</td>\n",
       "    </tr>\n",
       "    <tr>\n",
       "      <th>...</th>\n",
       "      <td>...</td>\n",
       "      <td>...</td>\n",
       "      <td>...</td>\n",
       "      <td>...</td>\n",
       "      <td>...</td>\n",
       "      <td>...</td>\n",
       "      <td>...</td>\n",
       "      <td>...</td>\n",
       "      <td>...</td>\n",
       "      <td>...</td>\n",
       "      <td>...</td>\n",
       "      <td>...</td>\n",
       "      <td>...</td>\n",
       "      <td>...</td>\n",
       "      <td>...</td>\n",
       "      <td>...</td>\n",
       "      <td>...</td>\n",
       "      <td>...</td>\n",
       "      <td>...</td>\n",
       "      <td>...</td>\n",
       "      <td>...</td>\n",
       "      <td>...</td>\n",
       "    </tr>\n",
       "    <tr>\n",
       "      <th>3211</th>\n",
       "      <td>1489</td>\n",
       "      <td>9.0</td>\n",
       "      <td>0.0</td>\n",
       "      <td>0.0</td>\n",
       "      <td>32.0</td>\n",
       "      <td>17.0</td>\n",
       "      <td>35</td>\n",
       "      <td>NaT</td>\n",
       "      <td>Санкт-Петербург</td>\n",
       "      <td>Павел</td>\n",
       "      <td>Гончаров</td>\n",
       "      <td>2018-08-15</td>\n",
       "      <td>smart</td>\n",
       "      <td>8</td>\n",
       "      <td>50</td>\n",
       "      <td>15360</td>\n",
       "      <td>500</td>\n",
       "      <td>550</td>\n",
       "      <td>200</td>\n",
       "      <td>3</td>\n",
       "      <td>3</td>\n",
       "      <td>950</td>\n",
       "    </tr>\n",
       "    <tr>\n",
       "      <th>3212</th>\n",
       "      <td>1489</td>\n",
       "      <td>10.0</td>\n",
       "      <td>0.0</td>\n",
       "      <td>0.0</td>\n",
       "      <td>21.0</td>\n",
       "      <td>20.0</td>\n",
       "      <td>35</td>\n",
       "      <td>NaT</td>\n",
       "      <td>Санкт-Петербург</td>\n",
       "      <td>Павел</td>\n",
       "      <td>Гончаров</td>\n",
       "      <td>2018-08-15</td>\n",
       "      <td>smart</td>\n",
       "      <td>8</td>\n",
       "      <td>50</td>\n",
       "      <td>15360</td>\n",
       "      <td>500</td>\n",
       "      <td>550</td>\n",
       "      <td>200</td>\n",
       "      <td>3</td>\n",
       "      <td>3</td>\n",
       "      <td>1550</td>\n",
       "    </tr>\n",
       "    <tr>\n",
       "      <th>3213</th>\n",
       "      <td>1489</td>\n",
       "      <td>11.0</td>\n",
       "      <td>0.0</td>\n",
       "      <td>0.0</td>\n",
       "      <td>20.0</td>\n",
       "      <td>18.0</td>\n",
       "      <td>35</td>\n",
       "      <td>NaT</td>\n",
       "      <td>Санкт-Петербург</td>\n",
       "      <td>Павел</td>\n",
       "      <td>Гончаров</td>\n",
       "      <td>2018-08-15</td>\n",
       "      <td>smart</td>\n",
       "      <td>8</td>\n",
       "      <td>50</td>\n",
       "      <td>15360</td>\n",
       "      <td>500</td>\n",
       "      <td>550</td>\n",
       "      <td>200</td>\n",
       "      <td>3</td>\n",
       "      <td>3</td>\n",
       "      <td>1150</td>\n",
       "    </tr>\n",
       "    <tr>\n",
       "      <th>3214</th>\n",
       "      <td>1489</td>\n",
       "      <td>12.0</td>\n",
       "      <td>0.0</td>\n",
       "      <td>0.0</td>\n",
       "      <td>35.0</td>\n",
       "      <td>17.0</td>\n",
       "      <td>35</td>\n",
       "      <td>NaT</td>\n",
       "      <td>Санкт-Петербург</td>\n",
       "      <td>Павел</td>\n",
       "      <td>Гончаров</td>\n",
       "      <td>2018-08-15</td>\n",
       "      <td>smart</td>\n",
       "      <td>8</td>\n",
       "      <td>50</td>\n",
       "      <td>15360</td>\n",
       "      <td>500</td>\n",
       "      <td>550</td>\n",
       "      <td>200</td>\n",
       "      <td>3</td>\n",
       "      <td>3</td>\n",
       "      <td>950</td>\n",
       "    </tr>\n",
       "    <tr>\n",
       "      <th>3215</th>\n",
       "      <td>1371</td>\n",
       "      <td>NaN</td>\n",
       "      <td>0.0</td>\n",
       "      <td>0.0</td>\n",
       "      <td>0.0</td>\n",
       "      <td>0.0</td>\n",
       "      <td>50</td>\n",
       "      <td>2018-12-30</td>\n",
       "      <td>Омск</td>\n",
       "      <td>Ириней</td>\n",
       "      <td>Трофимов</td>\n",
       "      <td>2018-12-25</td>\n",
       "      <td>smart</td>\n",
       "      <td>12</td>\n",
       "      <td>50</td>\n",
       "      <td>15360</td>\n",
       "      <td>500</td>\n",
       "      <td>550</td>\n",
       "      <td>200</td>\n",
       "      <td>3</td>\n",
       "      <td>3</td>\n",
       "      <td>550</td>\n",
       "    </tr>\n",
       "  </tbody>\n",
       "</table>\n",
       "<p>3216 rows × 22 columns</p>\n",
       "</div>"
      ],
      "text/plain": [
       "      user_id  month_x  calls_duration  calls_number  msgs_number  traffic  \\\n",
       "0        1000      5.0           159.0          22.0         22.0      3.0   \n",
       "1        1000      6.0           172.0          43.0         60.0     23.0   \n",
       "2        1000      7.0           340.0          47.0         75.0     14.0   \n",
       "3        1000      8.0           408.0          52.0         81.0     14.0   \n",
       "4        1000      9.0           466.0          58.0         57.0     15.0   \n",
       "...       ...      ...             ...           ...          ...      ...   \n",
       "3211     1489      9.0             0.0           0.0         32.0     17.0   \n",
       "3212     1489     10.0             0.0           0.0         21.0     20.0   \n",
       "3213     1489     11.0             0.0           0.0         20.0     18.0   \n",
       "3214     1489     12.0             0.0           0.0         35.0     17.0   \n",
       "3215     1371      NaN             0.0           0.0          0.0      0.0   \n",
       "\n",
       "      age churn_date             city first_name  last_name   reg_date tariff  \\\n",
       "0      52        NaT        Краснодар     Рафаил  Верещагин 2018-05-25  ultra   \n",
       "1      52        NaT        Краснодар     Рафаил  Верещагин 2018-05-25  ultra   \n",
       "2      52        NaT        Краснодар     Рафаил  Верещагин 2018-05-25  ultra   \n",
       "3      52        NaT        Краснодар     Рафаил  Верещагин 2018-05-25  ultra   \n",
       "4      52        NaT        Краснодар     Рафаил  Верещагин 2018-05-25  ultra   \n",
       "...   ...        ...              ...        ...        ...        ...    ...   \n",
       "3211   35        NaT  Санкт-Петербург      Павел   Гончаров 2018-08-15  smart   \n",
       "3212   35        NaT  Санкт-Петербург      Павел   Гончаров 2018-08-15  smart   \n",
       "3213   35        NaT  Санкт-Петербург      Павел   Гончаров 2018-08-15  smart   \n",
       "3214   35        NaT  Санкт-Петербург      Павел   Гончаров 2018-08-15  smart   \n",
       "3215   50 2018-12-30             Омск     Ириней   Трофимов 2018-12-25  smart   \n",
       "\n",
       "      month_y  messages_included  mb_per_month_included  minutes_included  \\\n",
       "0           5               1000                  30720              3000   \n",
       "1           5               1000                  30720              3000   \n",
       "2           5               1000                  30720              3000   \n",
       "3           5               1000                  30720              3000   \n",
       "4           5               1000                  30720              3000   \n",
       "...       ...                ...                    ...               ...   \n",
       "3211        8                 50                  15360               500   \n",
       "3212        8                 50                  15360               500   \n",
       "3213        8                 50                  15360               500   \n",
       "3214        8                 50                  15360               500   \n",
       "3215       12                 50                  15360               500   \n",
       "\n",
       "      rub_monthly_fee  rub_per_gb  rub_per_message  rub_per_minute  \\\n",
       "0                1950         150                1               1   \n",
       "1                1950         150                1               1   \n",
       "2                1950         150                1               1   \n",
       "3                1950         150                1               1   \n",
       "4                1950         150                1               1   \n",
       "...               ...         ...              ...             ...   \n",
       "3211              550         200                3               3   \n",
       "3212              550         200                3               3   \n",
       "3213              550         200                3               3   \n",
       "3214              550         200                3               3   \n",
       "3215              550         200                3               3   \n",
       "\n",
       "      revenue_per_month  \n",
       "0                  1950  \n",
       "1                  1950  \n",
       "2                  1950  \n",
       "3                  1950  \n",
       "4                  1950  \n",
       "...                 ...  \n",
       "3211                950  \n",
       "3212               1550  \n",
       "3213               1150  \n",
       "3214                950  \n",
       "3215                550  \n",
       "\n",
       "[3216 rows x 22 columns]"
      ]
     },
     "execution_count": 44,
     "metadata": {},
     "output_type": "execute_result"
    }
   ],
   "source": [
    "# функция по расчету прибыли от каждого пользователя по месяцам и выведем таблицу\n",
    "def calculate(row):\n",
    "    pay=row['rub_monthly_fee']\n",
    "    if row['calls_duration']>row['minutes_included']:\n",
    "        pay+=(row['calls_duration']-row['minutes_included'])*row['rub_per_minute']\n",
    "    if row['msgs_number']>row['messages_included']:\n",
    "        pay+=(row['msgs_number']-row['messages_included'])*row['rub_per_message']\n",
    "    if row['traffic']>row['mb_per_month_included']/1024:\n",
    "        pay+=(row['traffic']-row['mb_per_month_included']/1024)*row['rub_per_gb']\n",
    "    return round(pay)\n",
    " \n",
    "\n",
    "data_with_tariff['revenue_per_month'] = data_with_tariff.apply(calculate, axis=1)\n",
    "data_with_tariff   "
   ]
  },
  {
   "cell_type": "markdown",
   "metadata": {},
   "source": [
    "### Вывод"
   ]
  },
  {
   "cell_type": "markdown",
   "metadata": {},
   "source": [
    "На этапе предообработке данных мы проверили данные на аномалии, пропуски и дубликаты. Поработали с типом данных. \n",
    "\n",
    "Для удобства и эффективного анализа расчитали и добавили в таблицы: \n",
    "* количество сделанных звонков и израсходованных минут разговора по месяцам;\n",
    "* количество отправленных сообщений по месяцам;\n",
    "* объем израсходованного интернет-трафика по месяцам. \n",
    "\n",
    "\n",
    "А так же объеденили таблицу и расчитали по каждому пользователю помесячную выручку. "
   ]
  },
  {
   "cell_type": "markdown",
   "metadata": {},
   "source": [
    "## Анализ данных"
   ]
  },
  {
   "cell_type": "code",
   "execution_count": 45,
   "metadata": {},
   "outputs": [],
   "source": [
    "# фунция для исследования поведения пользователейб которая: \n",
    "# расчитывает и выводит среднее, количество значений, квартили, стандартное отклонение и дисперсию \n",
    "# ящик с усами \n",
    "# строит столбчатую диаграмму по тарифам смарт и ультра\n",
    "def hist_maker_and_table(df, column):\n",
    "    fig = plt.figure(figsize = (21,6))\n",
    "    df[df['tariff'] == 'smart'].boxplot(column, ax = plt.subplot(1,2,1))\n",
    "    df[df['tariff'] == 'ultra'].boxplot(column, ax = plt.subplot(1,2,2));\n",
    "    cd = df.groupby(df.tariff)[column]\n",
    "    cd_desc = cd.describe(percentiles = [.01,.25,.75,.99])\n",
    "    cd_desc['var']= [np.var(cd.get_group('smart'), ddof=1), np.var(cd.get_group('ultra'), ddof=1)]\n",
    "    display(cd_desc)\n",
    "    smart = df.query('tariff == \"smart\"')[column]\n",
    "    ultra = df.query('tariff == \"ultra\"')[column]\n",
    "    plt.figure(figsize=(10,6))\n",
    "    plt.hist(smart, bins=50, color='blue', alpha=0.5, label = 'smart', edgecolor='grey')\n",
    "    plt.hist(ultra, bins=50, color='red',alpha=0.5,label = 'ultra', edgecolor='grey')"
   ]
  },
  {
   "cell_type": "markdown",
   "metadata": {},
   "source": [
    "<div class=\"alert alert-success\">\n",
    "<b class=\"alert-heading\"> Комментарий ревьюера: ОК</b>\n",
    "\n",
    "Хорошая автоматизация.\n",
    "\n",
    "</div>"
   ]
  },
  {
   "cell_type": "code",
   "execution_count": 46,
   "metadata": {},
   "outputs": [
    {
     "data": {
      "text/html": [
       "<div>\n",
       "<style scoped>\n",
       "    .dataframe tbody tr th:only-of-type {\n",
       "        vertical-align: middle;\n",
       "    }\n",
       "\n",
       "    .dataframe tbody tr th {\n",
       "        vertical-align: top;\n",
       "    }\n",
       "\n",
       "    .dataframe thead th {\n",
       "        text-align: right;\n",
       "    }\n",
       "</style>\n",
       "<table border=\"1\" class=\"dataframe\">\n",
       "  <thead>\n",
       "    <tr style=\"text-align: right;\">\n",
       "      <th></th>\n",
       "      <th>count</th>\n",
       "      <th>mean</th>\n",
       "      <th>std</th>\n",
       "      <th>min</th>\n",
       "      <th>1%</th>\n",
       "      <th>25%</th>\n",
       "      <th>50%</th>\n",
       "      <th>75%</th>\n",
       "      <th>99%</th>\n",
       "      <th>max</th>\n",
       "      <th>var</th>\n",
       "    </tr>\n",
       "    <tr>\n",
       "      <th>tariff</th>\n",
       "      <th></th>\n",
       "      <th></th>\n",
       "      <th></th>\n",
       "      <th></th>\n",
       "      <th></th>\n",
       "      <th></th>\n",
       "      <th></th>\n",
       "      <th></th>\n",
       "      <th></th>\n",
       "      <th></th>\n",
       "      <th></th>\n",
       "    </tr>\n",
       "  </thead>\n",
       "  <tbody>\n",
       "    <tr>\n",
       "      <th>smart</th>\n",
       "      <td>2230.0</td>\n",
       "      <td>417.747534</td>\n",
       "      <td>190.476754</td>\n",
       "      <td>0.0</td>\n",
       "      <td>13.58</td>\n",
       "      <td>282.0</td>\n",
       "      <td>421.5</td>\n",
       "      <td>545.00</td>\n",
       "      <td>872.71</td>\n",
       "      <td>1435.0</td>\n",
       "      <td>36281.393836</td>\n",
       "    </tr>\n",
       "    <tr>\n",
       "      <th>ultra</th>\n",
       "      <td>986.0</td>\n",
       "      <td>526.089249</td>\n",
       "      <td>317.887549</td>\n",
       "      <td>0.0</td>\n",
       "      <td>0.00</td>\n",
       "      <td>282.5</td>\n",
       "      <td>518.0</td>\n",
       "      <td>751.75</td>\n",
       "      <td>1291.05</td>\n",
       "      <td>1673.0</td>\n",
       "      <td>101052.493549</td>\n",
       "    </tr>\n",
       "  </tbody>\n",
       "</table>\n",
       "</div>"
      ],
      "text/plain": [
       "         count        mean         std  min     1%    25%    50%     75%  \\\n",
       "tariff                                                                     \n",
       "smart   2230.0  417.747534  190.476754  0.0  13.58  282.0  421.5  545.00   \n",
       "ultra    986.0  526.089249  317.887549  0.0   0.00  282.5  518.0  751.75   \n",
       "\n",
       "            99%     max            var  \n",
       "tariff                                  \n",
       "smart    872.71  1435.0   36281.393836  \n",
       "ultra   1291.05  1673.0  101052.493549  "
      ]
     },
     "metadata": {},
     "output_type": "display_data"
    },
    {
     "data": {
      "image/png": "[encoded data removed]",
      "text/plain": [
       "<Figure size 1512x432 with 2 Axes>"
      ]
     },
     "metadata": {
      "needs_background": "light"
     },
     "output_type": "display_data"
    },
    {
     "data": {
      "image/png": "[encoded data removed]",
      "text/plain": [
       "<Figure size 720x432 with 1 Axes>"
      ]
     },
     "metadata": {
      "needs_background": "light"
     },
     "output_type": "display_data"
    }
   ],
   "source": [
    "# посмотрим поведение пользователей по продолжительности звонков\n",
    "hist_maker_and_table(data_with_tariff, 'calls_duration')"
   ]
  },
  {
   "cell_type": "markdown",
   "metadata": {},
   "source": [
    "- Пользователи тарифа Смарт в среднем в месяц тратят меньше минут разговора, чем пользователи тарифа Ультра.\n",
    "- На тарифе Смарт пользователи часто не укладываются в лимиты и доплачивают за звонки.\n",
    "- Дисперсия и стандартное отклонение выше на тарифе Ультра, но пользователи этого тарифа всегда укладываются в установленные лимиты. \n",
    "- Максимальное число минут разговора в месяц значительно меньше заложенных в него 3000."
   ]
  },
  {
   "cell_type": "code",
   "execution_count": 47,
   "metadata": {},
   "outputs": [
    {
     "data": {
      "text/html": [
       "<div>\n",
       "<style scoped>\n",
       "    .dataframe tbody tr th:only-of-type {\n",
       "        vertical-align: middle;\n",
       "    }\n",
       "\n",
       "    .dataframe tbody tr th {\n",
       "        vertical-align: top;\n",
       "    }\n",
       "\n",
       "    .dataframe thead th {\n",
       "        text-align: right;\n",
       "    }\n",
       "</style>\n",
       "<table border=\"1\" class=\"dataframe\">\n",
       "  <thead>\n",
       "    <tr style=\"text-align: right;\">\n",
       "      <th></th>\n",
       "      <th>count</th>\n",
       "      <th>mean</th>\n",
       "      <th>std</th>\n",
       "      <th>min</th>\n",
       "      <th>1%</th>\n",
       "      <th>25%</th>\n",
       "      <th>50%</th>\n",
       "      <th>75%</th>\n",
       "      <th>99%</th>\n",
       "      <th>max</th>\n",
       "      <th>var</th>\n",
       "    </tr>\n",
       "    <tr>\n",
       "      <th>tariff</th>\n",
       "      <th></th>\n",
       "      <th></th>\n",
       "      <th></th>\n",
       "      <th></th>\n",
       "      <th></th>\n",
       "      <th></th>\n",
       "      <th></th>\n",
       "      <th></th>\n",
       "      <th></th>\n",
       "      <th></th>\n",
       "      <th></th>\n",
       "    </tr>\n",
       "  </thead>\n",
       "  <tbody>\n",
       "    <tr>\n",
       "      <th>smart</th>\n",
       "      <td>2230.0</td>\n",
       "      <td>33.369058</td>\n",
       "      <td>28.230396</td>\n",
       "      <td>0.0</td>\n",
       "      <td>0.0</td>\n",
       "      <td>10.0</td>\n",
       "      <td>28.0</td>\n",
       "      <td>51.00</td>\n",
       "      <td>108.0</td>\n",
       "      <td>143.0</td>\n",
       "      <td>796.955256</td>\n",
       "    </tr>\n",
       "    <tr>\n",
       "      <th>ultra</th>\n",
       "      <td>986.0</td>\n",
       "      <td>49.313387</td>\n",
       "      <td>47.806040</td>\n",
       "      <td>0.0</td>\n",
       "      <td>0.0</td>\n",
       "      <td>6.0</td>\n",
       "      <td>38.0</td>\n",
       "      <td>78.75</td>\n",
       "      <td>183.3</td>\n",
       "      <td>224.0</td>\n",
       "      <td>2285.417425</td>\n",
       "    </tr>\n",
       "  </tbody>\n",
       "</table>\n",
       "</div>"
      ],
      "text/plain": [
       "         count       mean        std  min   1%   25%   50%    75%    99%  \\\n",
       "tariff                                                                     \n",
       "smart   2230.0  33.369058  28.230396  0.0  0.0  10.0  28.0  51.00  108.0   \n",
       "ultra    986.0  49.313387  47.806040  0.0  0.0   6.0  38.0  78.75  183.3   \n",
       "\n",
       "          max          var  \n",
       "tariff                      \n",
       "smart   143.0   796.955256  \n",
       "ultra   224.0  2285.417425  "
      ]
     },
     "metadata": {},
     "output_type": "display_data"
    },
    {
     "data": {
      "image/png": "[encoded data removed]",
      "text/plain": [
       "<Figure size 1512x432 with 2 Axes>"
      ]
     },
     "metadata": {
      "needs_background": "light"
     },
     "output_type": "display_data"
    },
    {
     "data": {
      "image/png": "[encoded data removed]",
      "text/plain": [
       "<Figure size 720x432 with 1 Axes>"
      ]
     },
     "metadata": {
      "needs_background": "light"
     },
     "output_type": "display_data"
    }
   ],
   "source": [
    "# посмотрим поведение пользователей по количеству сообщений\n",
    "hist_maker_and_table(data_with_tariff, 'msgs_number')"
   ]
  },
  {
   "cell_type": "markdown",
   "metadata": {},
   "source": [
    "- Пользователи тарифа Смарт в среднем в месяц меньше отправляют сообщений, чем пользователи тарифа Ультра.\n",
    "- На тарифе Смарт примерно 25% не укладываются в лимит 50 сообщений.\n",
    "- Дисперсия и стандартное отклонение выше на тарифе Ультра, но пользователи этого тарифа всегда укладываются в установленные лимиты. \n",
    "- Максимальное число сообщений в месяц значительно меньше заложенных в него 1000."
   ]
  },
  {
   "cell_type": "code",
   "execution_count": 48,
   "metadata": {},
   "outputs": [
    {
     "data": {
      "text/html": [
       "<div>\n",
       "<style scoped>\n",
       "    .dataframe tbody tr th:only-of-type {\n",
       "        vertical-align: middle;\n",
       "    }\n",
       "\n",
       "    .dataframe tbody tr th {\n",
       "        vertical-align: top;\n",
       "    }\n",
       "\n",
       "    .dataframe thead th {\n",
       "        text-align: right;\n",
       "    }\n",
       "</style>\n",
       "<table border=\"1\" class=\"dataframe\">\n",
       "  <thead>\n",
       "    <tr style=\"text-align: right;\">\n",
       "      <th></th>\n",
       "      <th>count</th>\n",
       "      <th>mean</th>\n",
       "      <th>std</th>\n",
       "      <th>min</th>\n",
       "      <th>1%</th>\n",
       "      <th>25%</th>\n",
       "      <th>50%</th>\n",
       "      <th>75%</th>\n",
       "      <th>99%</th>\n",
       "      <th>max</th>\n",
       "      <th>var</th>\n",
       "    </tr>\n",
       "    <tr>\n",
       "      <th>tariff</th>\n",
       "      <th></th>\n",
       "      <th></th>\n",
       "      <th></th>\n",
       "      <th></th>\n",
       "      <th></th>\n",
       "      <th></th>\n",
       "      <th></th>\n",
       "      <th></th>\n",
       "      <th></th>\n",
       "      <th></th>\n",
       "      <th></th>\n",
       "    </tr>\n",
       "  </thead>\n",
       "  <tbody>\n",
       "    <tr>\n",
       "      <th>smart</th>\n",
       "      <td>2230.0</td>\n",
       "      <td>16.321525</td>\n",
       "      <td>5.756167</td>\n",
       "      <td>0.0</td>\n",
       "      <td>2.0</td>\n",
       "      <td>13.0</td>\n",
       "      <td>17.0</td>\n",
       "      <td>20.0</td>\n",
       "      <td>29.71</td>\n",
       "      <td>38.0</td>\n",
       "      <td>33.133453</td>\n",
       "    </tr>\n",
       "    <tr>\n",
       "      <th>ultra</th>\n",
       "      <td>986.0</td>\n",
       "      <td>19.474645</td>\n",
       "      <td>9.868057</td>\n",
       "      <td>0.0</td>\n",
       "      <td>0.0</td>\n",
       "      <td>12.0</td>\n",
       "      <td>19.0</td>\n",
       "      <td>27.0</td>\n",
       "      <td>42.15</td>\n",
       "      <td>49.0</td>\n",
       "      <td>97.378544</td>\n",
       "    </tr>\n",
       "  </tbody>\n",
       "</table>\n",
       "</div>"
      ],
      "text/plain": [
       "         count       mean       std  min   1%   25%   50%   75%    99%   max  \\\n",
       "tariff                                                                         \n",
       "smart   2230.0  16.321525  5.756167  0.0  2.0  13.0  17.0  20.0  29.71  38.0   \n",
       "ultra    986.0  19.474645  9.868057  0.0  0.0  12.0  19.0  27.0  42.15  49.0   \n",
       "\n",
       "              var  \n",
       "tariff             \n",
       "smart   33.133453  \n",
       "ultra   97.378544  "
      ]
     },
     "metadata": {},
     "output_type": "display_data"
    },
    {
     "data": {
      "image/png": "[encoded data removed]",
      "text/plain": [
       "<Figure size 1512x432 with 2 Axes>"
      ]
     },
     "metadata": {
      "needs_background": "light"
     },
     "output_type": "display_data"
    },
    {
     "data": {
      "image/png": "[encoded data removed]",
      "text/plain": [
       "<Figure size 720x432 with 1 Axes>"
      ]
     },
     "metadata": {
      "needs_background": "light"
     },
     "output_type": "display_data"
    }
   ],
   "source": [
    "# посмотрим поведение пользователей по количеству использованного траффика\n",
    "hist_maker_and_table(data_with_tariff, 'traffic')"
   ]
  },
  {
   "cell_type": "markdown",
   "metadata": {},
   "source": [
    "- Пользователи тарифа Смарт в среднем в месяц меньше используют трафика, чем пользователи тарифа Ультра.\n",
    "- На тарифе Смарт более 50% не укладываются в лимит 15 Гб.\n",
    "- Дисперсия и стандартное отклонение выше на тарифе Ультра, но пользователи этого тарифа чаще укладываются в установленные лимиты. "
   ]
  },
  {
   "cell_type": "code",
   "execution_count": 49,
   "metadata": {},
   "outputs": [
    {
     "data": {
      "text/html": [
       "<div>\n",
       "<style scoped>\n",
       "    .dataframe tbody tr th:only-of-type {\n",
       "        vertical-align: middle;\n",
       "    }\n",
       "\n",
       "    .dataframe tbody tr th {\n",
       "        vertical-align: top;\n",
       "    }\n",
       "\n",
       "    .dataframe thead th {\n",
       "        text-align: right;\n",
       "    }\n",
       "</style>\n",
       "<table border=\"1\" class=\"dataframe\">\n",
       "  <thead>\n",
       "    <tr style=\"text-align: right;\">\n",
       "      <th></th>\n",
       "      <th>count</th>\n",
       "      <th>mean</th>\n",
       "      <th>std</th>\n",
       "      <th>min</th>\n",
       "      <th>1%</th>\n",
       "      <th>25%</th>\n",
       "      <th>50%</th>\n",
       "      <th>75%</th>\n",
       "      <th>99%</th>\n",
       "      <th>max</th>\n",
       "      <th>var</th>\n",
       "    </tr>\n",
       "    <tr>\n",
       "      <th>tariff</th>\n",
       "      <th></th>\n",
       "      <th></th>\n",
       "      <th></th>\n",
       "      <th></th>\n",
       "      <th></th>\n",
       "      <th></th>\n",
       "      <th></th>\n",
       "      <th></th>\n",
       "      <th></th>\n",
       "      <th></th>\n",
       "      <th></th>\n",
       "    </tr>\n",
       "  </thead>\n",
       "  <tbody>\n",
       "    <tr>\n",
       "      <th>smart</th>\n",
       "      <td>2230.0</td>\n",
       "      <td>1289.641704</td>\n",
       "      <td>818.370799</td>\n",
       "      <td>550.0</td>\n",
       "      <td>550.0</td>\n",
       "      <td>550.0</td>\n",
       "      <td>1021.0</td>\n",
       "      <td>1750.0</td>\n",
       "      <td>3773.71</td>\n",
       "      <td>6770.0</td>\n",
       "      <td>669730.763895</td>\n",
       "    </tr>\n",
       "    <tr>\n",
       "      <th>ultra</th>\n",
       "      <td>986.0</td>\n",
       "      <td>2070.030426</td>\n",
       "      <td>376.015578</td>\n",
       "      <td>1950.0</td>\n",
       "      <td>1950.0</td>\n",
       "      <td>1950.0</td>\n",
       "      <td>1950.0</td>\n",
       "      <td>1950.0</td>\n",
       "      <td>3772.50</td>\n",
       "      <td>4800.0</td>\n",
       "      <td>141387.714809</td>\n",
       "    </tr>\n",
       "  </tbody>\n",
       "</table>\n",
       "</div>"
      ],
      "text/plain": [
       "         count         mean         std     min      1%     25%     50%  \\\n",
       "tariff                                                                    \n",
       "smart   2230.0  1289.641704  818.370799   550.0   550.0   550.0  1021.0   \n",
       "ultra    986.0  2070.030426  376.015578  1950.0  1950.0  1950.0  1950.0   \n",
       "\n",
       "           75%      99%     max            var  \n",
       "tariff                                          \n",
       "smart   1750.0  3773.71  6770.0  669730.763895  \n",
       "ultra   1950.0  3772.50  4800.0  141387.714809  "
      ]
     },
     "metadata": {},
     "output_type": "display_data"
    },
    {
     "data": {
      "image/png": "[encoded data removed]",
      "text/plain": [
       "<Figure size 1512x432 with 2 Axes>"
      ]
     },
     "metadata": {
      "needs_background": "light"
     },
     "output_type": "display_data"
    },
    {
     "data": {
      "image/png": "[encoded data removed]",
      "text/plain": [
       "<Figure size 720x432 with 1 Axes>"
      ]
     },
     "metadata": {
      "needs_background": "light"
     },
     "output_type": "display_data"
    }
   ],
   "source": [
    "# посмотрим поведение пользователей как влияет на прибыль\n",
    "hist_maker_and_table(data_with_tariff, 'revenue_per_month')"
   ]
  },
  {
   "cell_type": "code",
   "execution_count": 50,
   "metadata": {},
   "outputs": [
    {
     "data": {
      "text/html": [
       "<div>\n",
       "<style scoped>\n",
       "    .dataframe tbody tr th:only-of-type {\n",
       "        vertical-align: middle;\n",
       "    }\n",
       "\n",
       "    .dataframe tbody tr th {\n",
       "        vertical-align: top;\n",
       "    }\n",
       "\n",
       "    .dataframe thead tr th {\n",
       "        text-align: left;\n",
       "    }\n",
       "\n",
       "    .dataframe thead tr:last-of-type th {\n",
       "        text-align: right;\n",
       "    }\n",
       "</style>\n",
       "<table border=\"1\" class=\"dataframe\">\n",
       "  <thead>\n",
       "    <tr>\n",
       "      <th></th>\n",
       "      <th>sum</th>\n",
       "      <th>count</th>\n",
       "      <th>mean</th>\n",
       "      <th>median</th>\n",
       "    </tr>\n",
       "    <tr>\n",
       "      <th></th>\n",
       "      <th>revenue_per_month</th>\n",
       "      <th>revenue_per_month</th>\n",
       "      <th>revenue_per_month</th>\n",
       "      <th>revenue_per_month</th>\n",
       "    </tr>\n",
       "    <tr>\n",
       "      <th>tariff</th>\n",
       "      <th></th>\n",
       "      <th></th>\n",
       "      <th></th>\n",
       "      <th></th>\n",
       "    </tr>\n",
       "  </thead>\n",
       "  <tbody>\n",
       "    <tr>\n",
       "      <th>smart</th>\n",
       "      <td>2875901</td>\n",
       "      <td>2230</td>\n",
       "      <td>1289.641704</td>\n",
       "      <td>1021</td>\n",
       "    </tr>\n",
       "    <tr>\n",
       "      <th>ultra</th>\n",
       "      <td>2041050</td>\n",
       "      <td>986</td>\n",
       "      <td>2070.030426</td>\n",
       "      <td>1950</td>\n",
       "    </tr>\n",
       "  </tbody>\n",
       "</table>\n",
       "</div>"
      ],
      "text/plain": [
       "                     sum             count              mean            median\n",
       "       revenue_per_month revenue_per_month revenue_per_month revenue_per_month\n",
       "tariff                                                                        \n",
       "smart            2875901              2230       1289.641704              1021\n",
       "ultra            2041050               986       2070.030426              1950"
      ]
     },
     "execution_count": 50,
     "metadata": {},
     "output_type": "execute_result"
    }
   ],
   "source": [
    "data_with_tariff.pivot_table(index='tariff', values='revenue_per_month', aggfunc=['sum', 'count', 'mean', 'median'])"
   ]
  },
  {
   "cell_type": "markdown",
   "metadata": {},
   "source": [
    "- Пользователей тарифа Смарт примерно в 2 раза больше \n",
    "- На тарифе Смарт большинство пользователей платят больше, чем абонентская плата\n",
    "- Но в среднем больше денег приносят пользователи тарифа Ультра\n",
    "- В сумме больше денег принесли пользователи тарифа Смарт\n",
    "- Дисперсия и стандартное отклонение выше на тарифе Смарт. "
   ]
  },
  {
   "cell_type": "markdown",
   "metadata": {},
   "source": [
    "### Вывод"
   ]
  },
  {
   "cell_type": "markdown",
   "metadata": {},
   "source": [
    "По анализу наглядно видно, что дисперсия по тарифу \"Смарт\" меньше, чем у пользователей с тарифом \"Ультра\" по всем показателям: по длительности разговора, числу сообщений и использованному интернет-трафику, и при этом большинство пользователей \"Смарт\" чаще не укладываются в лимит и переплачивают сверх абонентской платы. Когда как пользователи тарифа Ультра, напротив, не используют тарифный пакет в полном объеме.  \n",
    "По результатам статистического анализа доходы от тарифа «Ультра» больше, чем от тарифа «Смарт»: в среднем «Мегалайн» от одного пользователя в месяц получает 2070 рублей и 1290 рублей соответственно. \n",
    "Но при этом суммарно доход больше от пользователей тарифа Smart за счет количества пользователей и плат сверх абонентской платы.\n"
   ]
  },
  {
   "cell_type": "markdown",
   "metadata": {},
   "source": [
    "## Проверка гипотезы "
   ]
  },
  {
   "cell_type": "markdown",
   "metadata": {},
   "source": [
    "### Средняя выручка пользователей тарифов «Ультра» и «Смарт» различаются"
   ]
  },
  {
   "cell_type": "markdown",
   "metadata": {},
   "source": [
    "Н0 - Средняя выручка пользователей тарифов «Ультра» и «Смарт» **равны**, т.е. средние значения равны.\n",
    "\n",
    "Н1 - Средняя выручка пользователей тарифов «Ультра» и «Смарт» **не равны**, т.е. средние значения не равны."
   ]
  },
  {
   "cell_type": "code",
   "execution_count": 51,
   "metadata": {},
   "outputs": [
    {
     "data": {
      "text/html": [
       "<div>\n",
       "<style scoped>\n",
       "    .dataframe tbody tr th:only-of-type {\n",
       "        vertical-align: middle;\n",
       "    }\n",
       "\n",
       "    .dataframe tbody tr th {\n",
       "        vertical-align: top;\n",
       "    }\n",
       "\n",
       "    .dataframe thead th {\n",
       "        text-align: right;\n",
       "    }\n",
       "</style>\n",
       "<table border=\"1\" class=\"dataframe\">\n",
       "  <thead>\n",
       "    <tr style=\"text-align: right;\">\n",
       "      <th></th>\n",
       "      <th>revenue_per_month</th>\n",
       "      <th>tariff</th>\n",
       "      <th>city</th>\n",
       "    </tr>\n",
       "    <tr>\n",
       "      <th>user_id</th>\n",
       "      <th></th>\n",
       "      <th></th>\n",
       "      <th></th>\n",
       "    </tr>\n",
       "  </thead>\n",
       "  <tbody>\n",
       "    <tr>\n",
       "      <th>1000</th>\n",
       "      <td>1950.000000</td>\n",
       "      <td>ultra</td>\n",
       "      <td>Краснодар</td>\n",
       "    </tr>\n",
       "    <tr>\n",
       "      <th>1001</th>\n",
       "      <td>850.000000</td>\n",
       "      <td>smart</td>\n",
       "      <td>Москва</td>\n",
       "    </tr>\n",
       "    <tr>\n",
       "      <th>1002</th>\n",
       "      <td>1035.714286</td>\n",
       "      <td>smart</td>\n",
       "      <td>Стерлитамак</td>\n",
       "    </tr>\n",
       "    <tr>\n",
       "      <th>1003</th>\n",
       "      <td>1950.000000</td>\n",
       "      <td>ultra</td>\n",
       "      <td>Москва</td>\n",
       "    </tr>\n",
       "    <tr>\n",
       "      <th>1004</th>\n",
       "      <td>1950.000000</td>\n",
       "      <td>ultra</td>\n",
       "      <td>Новокузнецк</td>\n",
       "    </tr>\n",
       "  </tbody>\n",
       "</table>\n",
       "</div>"
      ],
      "text/plain": [
       "         revenue_per_month tariff         city\n",
       "user_id                                       \n",
       "1000           1950.000000  ultra    Краснодар\n",
       "1001            850.000000  smart       Москва\n",
       "1002           1035.714286  smart  Стерлитамак\n",
       "1003           1950.000000  ultra       Москва\n",
       "1004           1950.000000  ultra  Новокузнецк"
      ]
     },
     "execution_count": 51,
     "metadata": {},
     "output_type": "execute_result"
    }
   ],
   "source": [
    "revenue = data_with_tariff.pivot_table(index='user_id', values='revenue_per_month', aggfunc='mean')\n",
    "for user_id in users['user_id']:\n",
    "    revenue.loc[user_id, 'tariff'] = users.loc[user_id-1000, 'tariff']\n",
    "    revenue.loc[user_id, 'city'] = users.loc[user_id-1000, 'city']\n",
    "revenue.head()\n"
   ]
  },
  {
   "cell_type": "code",
   "execution_count": 52,
   "metadata": {},
   "outputs": [
    {
     "name": "stdout",
     "output_type": "stream",
     "text": [
      "p-значение: 1.927011394420941e-250\n",
      "Отвергаем нулевую гипотезу\n"
     ]
    }
   ],
   "source": [
    "sample_1 = data_with_tariff[data_with_tariff['tariff'] == 'ultra']['revenue_per_month'] \n",
    "sample_2 = data_with_tariff[data_with_tariff['tariff'] == 'smart']['revenue_per_month'] \n",
    "\n",
    "alpha = .05\n",
    "\n",
    "results = st.ttest_ind(\n",
    "    sample_1, \n",
    "    sample_2, \n",
    "    equal_var=False)\n",
    "\n",
    "print('p-значение:', results.pvalue)\n",
    "\n",
    "if (results.pvalue < alpha):\n",
    "    print(\"Отвергаем нулевую гипотезу\")\n",
    "else:\n",
    "    print(\"Не получилось отвергнуть нулевую гипотезу\")"
   ]
  },
  {
   "cell_type": "code",
   "execution_count": 53,
   "metadata": {},
   "outputs": [
    {
     "data": {
      "text/html": [
       "<div>\n",
       "<style scoped>\n",
       "    .dataframe tbody tr th:only-of-type {\n",
       "        vertical-align: middle;\n",
       "    }\n",
       "\n",
       "    .dataframe tbody tr th {\n",
       "        vertical-align: top;\n",
       "    }\n",
       "\n",
       "    .dataframe thead th {\n",
       "        text-align: right;\n",
       "    }\n",
       "</style>\n",
       "<table border=\"1\" class=\"dataframe\">\n",
       "  <thead>\n",
       "    <tr style=\"text-align: right;\">\n",
       "      <th></th>\n",
       "      <th>revenue_per_month</th>\n",
       "    </tr>\n",
       "    <tr>\n",
       "      <th>tariff</th>\n",
       "      <th></th>\n",
       "    </tr>\n",
       "  </thead>\n",
       "  <tbody>\n",
       "    <tr>\n",
       "      <th>smart</th>\n",
       "      <td>1322.194749</td>\n",
       "    </tr>\n",
       "    <tr>\n",
       "      <th>ultra</th>\n",
       "      <td>2085.548788</td>\n",
       "    </tr>\n",
       "  </tbody>\n",
       "</table>\n",
       "</div>"
      ],
      "text/plain": [
       "        revenue_per_month\n",
       "tariff                   \n",
       "smart         1322.194749\n",
       "ultra         2085.548788"
      ]
     },
     "execution_count": 53,
     "metadata": {},
     "output_type": "execute_result"
    }
   ],
   "source": [
    "revenue.pivot_table(index='tariff', values='revenue_per_month', aggfunc='mean')"
   ]
  },
  {
   "cell_type": "markdown",
   "metadata": {},
   "source": [
    "p-значение достаточно мало, что дает основание отвергнуть предположение об отсутствии различий между выручками у разных тарифных планов, т.е. маловероятна случайность результатов теста гипотезы и то что  скорей всего доходы \"Мегалайна\" с пользователя по тарифу \"Ультра\" действительно отличаются по сравнению с доходами от тарифа \"Смарт."
   ]
  },
  {
   "cell_type": "markdown",
   "metadata": {},
   "source": [
    "### Cредняя выручка пользователей из Москвы отличается от выручки пользователей из других регионов."
   ]
  },
  {
   "cell_type": "markdown",
   "metadata": {},
   "source": [
    "Н0 - Средняя выручка пользователей из Москвы и из других регионов **равны**, т.е. средние значения равны.\n",
    "\n",
    "Н1 - Средняя выручка пользователей из Москвы и из других регионов  **не равны**, т.е. средние значения не равны."
   ]
  },
  {
   "cell_type": "code",
   "execution_count": 54,
   "metadata": {},
   "outputs": [
    {
     "name": "stdout",
     "output_type": "stream",
     "text": [
      "p-значение: 0.5216952110000278\n",
      "Не получилось отвергнуть нулевую гипотезу\n"
     ]
    }
   ],
   "source": [
    "sample_1 = data_with_tariff[data_with_tariff['city'] == 'Москва']['revenue_per_month'] \n",
    "sample_2 = data_with_tariff[data_with_tariff['city'] != 'Москва']['revenue_per_month'] \n",
    "\n",
    "alpha = .05\n",
    "\n",
    "results = st.ttest_ind(\n",
    "    sample_1, \n",
    "    sample_2, \n",
    "    equal_var=False)\n",
    "\n",
    "print('p-значение:', results.pvalue)\n",
    "\n",
    "if (results.pvalue < alpha):\n",
    "    print(\"Отвергаем нулевую гипотезу\")\n",
    "else:\n",
    "    print(\"Не получилось отвергнуть нулевую гипотезу\")"
   ]
  },
  {
   "cell_type": "code",
   "execution_count": 55,
   "metadata": {
    "scrolled": true
   },
   "outputs": [
    {
     "data": {
      "text/html": [
       "<div>\n",
       "<style scoped>\n",
       "    .dataframe tbody tr th:only-of-type {\n",
       "        vertical-align: middle;\n",
       "    }\n",
       "\n",
       "    .dataframe tbody tr th {\n",
       "        vertical-align: top;\n",
       "    }\n",
       "\n",
       "    .dataframe thead th {\n",
       "        text-align: right;\n",
       "    }\n",
       "</style>\n",
       "<table border=\"1\" class=\"dataframe\">\n",
       "  <thead>\n",
       "    <tr style=\"text-align: right;\">\n",
       "      <th></th>\n",
       "      <th>revenue_per_month</th>\n",
       "    </tr>\n",
       "    <tr>\n",
       "      <th>region</th>\n",
       "      <th></th>\n",
       "    </tr>\n",
       "  </thead>\n",
       "  <tbody>\n",
       "    <tr>\n",
       "      <th>Другой регион</th>\n",
       "      <td>1562.316726</td>\n",
       "    </tr>\n",
       "    <tr>\n",
       "      <th>Москва</th>\n",
       "      <td>1498.465851</td>\n",
       "    </tr>\n",
       "  </tbody>\n",
       "</table>\n",
       "</div>"
      ],
      "text/plain": [
       "               revenue_per_month\n",
       "region                          \n",
       "Другой регион        1562.316726\n",
       "Москва               1498.465851"
      ]
     },
     "execution_count": 55,
     "metadata": {},
     "output_type": "execute_result"
    }
   ],
   "source": [
    "def det_region(city):\n",
    "    if city == 'Москва': return 'Москва'\n",
    "    else: return 'Другой регион'\n",
    "    \n",
    "revenue['region'] = revenue['city'].apply(det_region)\n",
    "revenue.pivot_table(index='region', values='revenue_per_month', aggfunc='mean')"
   ]
  },
  {
   "cell_type": "markdown",
   "metadata": {},
   "source": [
    "Данный статистический тест не дал возможности опровергунть исходную гипотезу о том, что доходы от пользователей из Москвы и из других регионов равны. Действительно, доходы в Московском регионе практически не отличаются от других населенных пунктов."
   ]
  },
  {
   "cell_type": "markdown",
   "metadata": {},
   "source": [
    "### Вывод"
   ]
  },
  {
   "cell_type": "markdown",
   "metadata": {},
   "source": [
    "При проверке гипотез мы выявели, что средняя выручка пользователей тарифа Ультра и Смарт отличается. А вот средняя выручка от пользователей из Москвы практически не отличается от других населенных пунктов. "
   ]
  },
  {
   "cell_type": "markdown",
   "metadata": {},
   "source": [
    "## Вывод"
   ]
  },
  {
   "cell_type": "markdown",
   "metadata": {},
   "source": [
    "\n",
    "* Мы изучили несколько датасетов по звонкам, сообщениям, сессиям в интернете и пользователям. \n",
    "* пердобработали данные: изменили тип данных, проверили данные на аномалии, дубликаты и пропуски. \n",
    "* Объединили таблицу.\n",
    "* Мы расчитали и добавили для дальнейшей работы необходимые нам столбцы:\n",
    "    * количество сделанных звонков и израсходованных минут разговора по месяцам;\n",
    "    * количество отправленных сообщений по месяцам;\n",
    "    * объем израсходованного интернет-трафика по месяцам;\n",
    "    * помесячную прибыль по каждому пользователю\n",
    "\n",
    "* **Определили особенности поведения пользователей тарифов Smart и Ultra:**\n",
    "\n",
    "    * дисперсия по тарифу \"Смарт\" меньше, чем у пользователей с тарифом \"Ультра\" по всем показателям: по длительности разговора, числу сообщений и использованному интернет-трафику, что говорит о более разнообразном поведении пользователей \"Ультра\" с точки зрения потребления телекоммуникационных услуг. Пользователи дорогого тарифа более свободны в выборе того, как именно использовать объемы тарифного пакета.\n",
    "    * большинство пользователей \"Смарт\" чаще не укладываются в лимит и переплачивают сверх абонентской платы,  когда как пользователи тарифа Ультра, напротив, не используют тарифный пакет в полном объеме.  \n",
    "    * по результатам статистического анализа доходы от тарифа «Ультра» больше, чем от тарифа «Смарт»: в среднем «Мегалайн» от одного пользователя в месяц получает 2070 рублей и 1290 рублей соответственно. \n",
    "    * суммарно доход больше от пользователей тарифа \"Смарт\" за счет количества пользователей и плат сверх абонентской платы.\n",
    "    * тариф \"Смарт\" более популярен у пользователей\n",
    "    \n",
    "* **Проверили гипотезы:**\n",
    "    * Cредняя выручка пользователей тарифов «Ультра» и «Смарт» различаются, разница статистически значима, что говорит о том, что случайность результатов маловероятна.\n",
    "    * Средние доходы от пользователей в Москве не отличаются от доходов в других населенных пунктах: разница статистически незначима (p-значение: 0,356) и составляет 64 руб.: 1498 руб. в Москве против 1562 руб в других населенных пунктах.\n",
    "\n",
    "* **Рекомендации:** \n",
    "    * Разработать третий тариф, который будет между «Ультра» и «Смарт», куда войдет скорей всего большинство пользователей, так как многие пользователи тарифа «Смарт» выходят за пределы пакета и абонентской платы, а пользователи тарифа «Ультра» не используют пакет в полном объеме.\n",
    "\n",
    "\n"
   ]
  }
 ],
 "metadata": {
  "ExecuteTimeLog": [
   {
    "duration": 992,
    "start_time": "2022-04-07T19:07:15.181Z"
   },
   {
    "duration": 155,
    "start_time": "2022-04-07T19:07:16.175Z"
   },
   {
    "duration": 0,
    "start_time": "2022-04-07T19:07:16.332Z"
   },
   {
    "duration": 0,
    "start_time": "2022-04-07T19:07:16.334Z"
   },
   {
    "duration": 0,
    "start_time": "2022-04-07T19:07:16.335Z"
   },
   {
    "duration": 0,
    "start_time": "2022-04-07T19:07:16.336Z"
   },
   {
    "duration": 0,
    "start_time": "2022-04-07T19:07:16.337Z"
   },
   {
    "duration": 0,
    "start_time": "2022-04-07T19:07:16.338Z"
   },
   {
    "duration": 468,
    "start_time": "2022-04-07T19:08:21.567Z"
   },
   {
    "duration": 79,
    "start_time": "2022-04-07T19:09:05.882Z"
   },
   {
    "duration": 12,
    "start_time": "2022-04-07T19:09:07.942Z"
   },
   {
    "duration": 10,
    "start_time": "2022-04-07T19:09:09.409Z"
   },
   {
    "duration": 9,
    "start_time": "2022-04-07T19:09:10.037Z"
   },
   {
    "duration": 9,
    "start_time": "2022-04-07T19:09:10.730Z"
   },
   {
    "duration": 11,
    "start_time": "2022-04-07T19:09:11.347Z"
   },
   {
    "duration": 73,
    "start_time": "2022-04-08T13:57:56.042Z"
   },
   {
    "duration": 884,
    "start_time": "2022-04-08T13:58:21.670Z"
   },
   {
    "duration": 413,
    "start_time": "2022-04-08T13:58:22.557Z"
   },
   {
    "duration": 75,
    "start_time": "2022-04-08T13:58:22.972Z"
   },
   {
    "duration": 13,
    "start_time": "2022-04-08T13:58:23.049Z"
   },
   {
    "duration": 10,
    "start_time": "2022-04-08T13:58:23.064Z"
   },
   {
    "duration": 27,
    "start_time": "2022-04-08T13:58:23.075Z"
   },
   {
    "duration": 10,
    "start_time": "2022-04-08T13:58:23.104Z"
   },
   {
    "duration": 13,
    "start_time": "2022-04-08T13:58:23.116Z"
   },
   {
    "duration": 38,
    "start_time": "2022-04-08T13:58:23.131Z"
   },
   {
    "duration": 2,
    "start_time": "2022-04-08T14:04:09.387Z"
   },
   {
    "duration": 414,
    "start_time": "2022-04-08T14:04:09.391Z"
   },
   {
    "duration": 66,
    "start_time": "2022-04-08T14:04:09.807Z"
   },
   {
    "duration": 7,
    "start_time": "2022-04-08T14:04:09.875Z"
   },
   {
    "duration": 22,
    "start_time": "2022-04-08T14:04:09.884Z"
   },
   {
    "duration": 9,
    "start_time": "2022-04-08T14:04:09.909Z"
   },
   {
    "duration": 9,
    "start_time": "2022-04-08T14:04:09.920Z"
   },
   {
    "duration": 10,
    "start_time": "2022-04-08T14:04:09.931Z"
   },
   {
    "duration": 37,
    "start_time": "2022-04-08T14:04:09.943Z"
   },
   {
    "duration": 35,
    "start_time": "2022-04-08T14:04:10.001Z"
   },
   {
    "duration": 0,
    "start_time": "2022-04-08T14:04:10.037Z"
   },
   {
    "duration": 0,
    "start_time": "2022-04-08T14:04:10.038Z"
   },
   {
    "duration": 24,
    "start_time": "2022-04-08T14:04:18.413Z"
   },
   {
    "duration": 8,
    "start_time": "2022-04-08T14:04:22.584Z"
   },
   {
    "duration": 9,
    "start_time": "2022-04-08T14:04:23.153Z"
   },
   {
    "duration": 5,
    "start_time": "2022-04-08T14:04:29.929Z"
   },
   {
    "duration": 8,
    "start_time": "2022-04-08T14:04:30.930Z"
   },
   {
    "duration": 39,
    "start_time": "2022-04-08T14:05:51.888Z"
   },
   {
    "duration": 13,
    "start_time": "2022-04-08T14:06:52.808Z"
   },
   {
    "duration": 3,
    "start_time": "2022-04-08T14:11:50.787Z"
   },
   {
    "duration": 412,
    "start_time": "2022-04-08T14:11:50.792Z"
   },
   {
    "duration": 67,
    "start_time": "2022-04-08T14:11:51.206Z"
   },
   {
    "duration": 8,
    "start_time": "2022-04-08T14:11:51.275Z"
   },
   {
    "duration": 24,
    "start_time": "2022-04-08T14:11:51.284Z"
   },
   {
    "duration": 9,
    "start_time": "2022-04-08T14:11:51.309Z"
   },
   {
    "duration": 11,
    "start_time": "2022-04-08T14:11:51.320Z"
   },
   {
    "duration": 12,
    "start_time": "2022-04-08T14:11:51.333Z"
   },
   {
    "duration": 56,
    "start_time": "2022-04-08T14:11:51.347Z"
   },
   {
    "duration": 22,
    "start_time": "2022-04-08T14:11:51.405Z"
   },
   {
    "duration": 5,
    "start_time": "2022-04-08T14:11:51.428Z"
   },
   {
    "duration": 8,
    "start_time": "2022-04-08T14:11:51.434Z"
   },
   {
    "duration": 14,
    "start_time": "2022-04-08T14:11:51.444Z"
   },
   {
    "duration": 8,
    "start_time": "2022-04-08T14:11:51.459Z"
   },
   {
    "duration": 22,
    "start_time": "2022-04-08T14:12:16.714Z"
   },
   {
    "duration": 26,
    "start_time": "2022-04-08T14:13:24.129Z"
   },
   {
    "duration": 17,
    "start_time": "2022-04-08T14:13:33.294Z"
   },
   {
    "duration": 3,
    "start_time": "2022-04-08T14:21:24.259Z"
   },
   {
    "duration": 505,
    "start_time": "2022-04-08T14:21:24.264Z"
   },
   {
    "duration": 89,
    "start_time": "2022-04-08T14:21:24.770Z"
   },
   {
    "duration": 8,
    "start_time": "2022-04-08T14:21:24.861Z"
   },
   {
    "duration": 9,
    "start_time": "2022-04-08T14:21:24.871Z"
   },
   {
    "duration": 22,
    "start_time": "2022-04-08T14:21:24.881Z"
   },
   {
    "duration": 12,
    "start_time": "2022-04-08T14:21:24.905Z"
   },
   {
    "duration": 12,
    "start_time": "2022-04-08T14:21:24.918Z"
   },
   {
    "duration": 35,
    "start_time": "2022-04-08T14:21:24.932Z"
   },
   {
    "duration": 46,
    "start_time": "2022-04-08T14:21:24.969Z"
   },
   {
    "duration": 5,
    "start_time": "2022-04-08T14:21:25.018Z"
   },
   {
    "duration": 11,
    "start_time": "2022-04-08T14:21:25.025Z"
   },
   {
    "duration": 13,
    "start_time": "2022-04-08T14:21:25.038Z"
   },
   {
    "duration": 52,
    "start_time": "2022-04-08T14:21:25.053Z"
   },
   {
    "duration": 16,
    "start_time": "2022-04-08T14:21:25.107Z"
   },
   {
    "duration": 17,
    "start_time": "2022-04-08T14:21:25.125Z"
   },
   {
    "duration": 8,
    "start_time": "2022-04-08T14:21:25.144Z"
   },
   {
    "duration": 11,
    "start_time": "2022-04-08T14:22:30.293Z"
   },
   {
    "duration": 7,
    "start_time": "2022-04-08T14:23:05.926Z"
   },
   {
    "duration": 237,
    "start_time": "2022-04-08T14:23:10.895Z"
   },
   {
    "duration": 27,
    "start_time": "2022-04-08T14:26:30.075Z"
   },
   {
    "duration": 26,
    "start_time": "2022-04-08T14:26:51.954Z"
   },
   {
    "duration": 8,
    "start_time": "2022-04-08T14:27:03.370Z"
   },
   {
    "duration": 7,
    "start_time": "2022-04-08T14:28:51.255Z"
   },
   {
    "duration": 12,
    "start_time": "2022-04-08T14:29:05.620Z"
   },
   {
    "duration": 24,
    "start_time": "2022-04-08T14:29:22.980Z"
   },
   {
    "duration": 10,
    "start_time": "2022-04-08T14:29:36.143Z"
   },
   {
    "duration": 21,
    "start_time": "2022-04-08T14:30:41.230Z"
   },
   {
    "duration": 9,
    "start_time": "2022-04-08T14:30:45.132Z"
   },
   {
    "duration": 18,
    "start_time": "2022-04-08T14:31:09.824Z"
   },
   {
    "duration": 7,
    "start_time": "2022-04-08T14:31:36.670Z"
   },
   {
    "duration": 13,
    "start_time": "2022-04-08T14:37:56.211Z"
   },
   {
    "duration": 15,
    "start_time": "2022-04-08T14:38:18.618Z"
   },
   {
    "duration": 9,
    "start_time": "2022-04-08T14:38:38.611Z"
   },
   {
    "duration": 5,
    "start_time": "2022-04-08T14:39:42.418Z"
   },
   {
    "duration": 7,
    "start_time": "2022-04-08T14:39:59.904Z"
   },
   {
    "duration": 7,
    "start_time": "2022-04-08T14:40:22.327Z"
   },
   {
    "duration": 6,
    "start_time": "2022-04-08T14:41:28.765Z"
   },
   {
    "duration": 4,
    "start_time": "2022-04-08T14:41:52.042Z"
   },
   {
    "duration": 11,
    "start_time": "2022-04-08T14:42:34.069Z"
   },
   {
    "duration": 6,
    "start_time": "2022-04-08T14:42:56.788Z"
   },
   {
    "duration": 3,
    "start_time": "2022-04-08T14:46:09.329Z"
   },
   {
    "duration": 448,
    "start_time": "2022-04-08T14:46:09.335Z"
   },
   {
    "duration": 83,
    "start_time": "2022-04-08T14:46:09.785Z"
   },
   {
    "duration": 8,
    "start_time": "2022-04-08T14:46:09.870Z"
   },
   {
    "duration": 22,
    "start_time": "2022-04-08T14:46:09.880Z"
   },
   {
    "duration": 10,
    "start_time": "2022-04-08T14:46:09.904Z"
   },
   {
    "duration": 16,
    "start_time": "2022-04-08T14:46:09.916Z"
   },
   {
    "duration": 13,
    "start_time": "2022-04-08T14:46:09.934Z"
   },
   {
    "duration": 31,
    "start_time": "2022-04-08T14:46:09.948Z"
   },
   {
    "duration": 23,
    "start_time": "2022-04-08T14:46:10.002Z"
   },
   {
    "duration": 5,
    "start_time": "2022-04-08T14:46:10.027Z"
   },
   {
    "duration": 12,
    "start_time": "2022-04-08T14:46:10.034Z"
   },
   {
    "duration": 15,
    "start_time": "2022-04-08T14:46:10.047Z"
   },
   {
    "duration": 58,
    "start_time": "2022-04-08T14:46:10.065Z"
   },
   {
    "duration": 21,
    "start_time": "2022-04-08T14:46:10.125Z"
   },
   {
    "duration": 5,
    "start_time": "2022-04-08T14:46:10.148Z"
   },
   {
    "duration": 10,
    "start_time": "2022-04-08T14:46:10.154Z"
   },
   {
    "duration": 37,
    "start_time": "2022-04-08T14:46:10.166Z"
   },
   {
    "duration": 35,
    "start_time": "2022-04-08T14:46:10.204Z"
   },
   {
    "duration": 8,
    "start_time": "2022-04-08T14:46:10.240Z"
   },
   {
    "duration": 23,
    "start_time": "2022-04-08T14:46:10.250Z"
   },
   {
    "duration": 35,
    "start_time": "2022-04-08T14:46:10.274Z"
   },
   {
    "duration": 12,
    "start_time": "2022-04-08T14:46:10.311Z"
   },
   {
    "duration": 7,
    "start_time": "2022-04-08T14:46:10.325Z"
   },
   {
    "duration": 12,
    "start_time": "2022-04-08T14:46:10.333Z"
   },
   {
    "duration": 10,
    "start_time": "2022-04-08T14:46:10.347Z"
   },
   {
    "duration": 11,
    "start_time": "2022-04-08T14:46:10.358Z"
   },
   {
    "duration": 35,
    "start_time": "2022-04-08T14:46:10.371Z"
   },
   {
    "duration": 10,
    "start_time": "2022-04-08T14:46:10.408Z"
   },
   {
    "duration": 9,
    "start_time": "2022-04-08T14:50:45.381Z"
   },
   {
    "duration": 151,
    "start_time": "2022-04-08T14:56:19.663Z"
   },
   {
    "duration": 149,
    "start_time": "2022-04-08T14:57:09.099Z"
   },
   {
    "duration": 160,
    "start_time": "2022-04-08T14:57:40.531Z"
   },
   {
    "duration": 211,
    "start_time": "2022-04-08T14:58:09.692Z"
   },
   {
    "duration": 110,
    "start_time": "2022-04-08T14:58:18.456Z"
   },
   {
    "duration": 142,
    "start_time": "2022-04-08T14:58:25.247Z"
   },
   {
    "duration": 162,
    "start_time": "2022-04-08T14:58:55.577Z"
   },
   {
    "duration": 153,
    "start_time": "2022-04-08T14:59:07.269Z"
   },
   {
    "duration": 3,
    "start_time": "2022-04-08T15:08:18.953Z"
   },
   {
    "duration": 455,
    "start_time": "2022-04-08T15:08:18.958Z"
   },
   {
    "duration": 78,
    "start_time": "2022-04-08T15:08:19.415Z"
   },
   {
    "duration": 13,
    "start_time": "2022-04-08T15:08:19.495Z"
   },
   {
    "duration": 10,
    "start_time": "2022-04-08T15:08:19.511Z"
   },
   {
    "duration": 8,
    "start_time": "2022-04-08T15:08:19.523Z"
   },
   {
    "duration": 10,
    "start_time": "2022-04-08T15:08:19.533Z"
   },
   {
    "duration": 14,
    "start_time": "2022-04-08T15:08:19.545Z"
   },
   {
    "duration": 78,
    "start_time": "2022-04-08T15:08:19.560Z"
   },
   {
    "duration": 23,
    "start_time": "2022-04-08T15:08:19.640Z"
   },
   {
    "duration": 4,
    "start_time": "2022-04-08T15:08:19.666Z"
   },
   {
    "duration": 30,
    "start_time": "2022-04-08T15:08:19.672Z"
   },
   {
    "duration": 14,
    "start_time": "2022-04-08T15:08:19.704Z"
   },
   {
    "duration": 180,
    "start_time": "2022-04-08T15:08:19.721Z"
   },
   {
    "duration": 26,
    "start_time": "2022-04-08T15:08:19.902Z"
   },
   {
    "duration": 18,
    "start_time": "2022-04-08T15:08:19.930Z"
   },
   {
    "duration": 10,
    "start_time": "2022-04-08T15:08:19.950Z"
   },
   {
    "duration": 48,
    "start_time": "2022-04-08T15:08:19.963Z"
   },
   {
    "duration": 167,
    "start_time": "2022-04-08T15:08:20.013Z"
   },
   {
    "duration": 40,
    "start_time": "2022-04-08T15:08:20.182Z"
   },
   {
    "duration": 9,
    "start_time": "2022-04-08T15:08:20.225Z"
   },
   {
    "duration": 33,
    "start_time": "2022-04-08T15:08:20.236Z"
   },
   {
    "duration": 8,
    "start_time": "2022-04-08T15:08:20.271Z"
   },
   {
    "duration": 33,
    "start_time": "2022-04-08T15:08:20.281Z"
   },
   {
    "duration": 171,
    "start_time": "2022-04-08T15:08:20.317Z"
   },
   {
    "duration": 19,
    "start_time": "2022-04-08T15:08:20.490Z"
   },
   {
    "duration": 14,
    "start_time": "2022-04-08T15:08:20.511Z"
   },
   {
    "duration": 10,
    "start_time": "2022-04-08T15:08:20.527Z"
   },
   {
    "duration": 18,
    "start_time": "2022-04-08T15:08:20.539Z"
   },
   {
    "duration": 10,
    "start_time": "2022-04-08T15:08:20.559Z"
   },
   {
    "duration": 31,
    "start_time": "2022-04-08T15:08:20.570Z"
   },
   {
    "duration": 17,
    "start_time": "2022-04-08T15:09:51.418Z"
   },
   {
    "duration": 10,
    "start_time": "2022-04-08T15:12:53.318Z"
   },
   {
    "duration": 3,
    "start_time": "2022-04-08T15:12:58.022Z"
   },
   {
    "duration": 472,
    "start_time": "2022-04-08T15:12:58.027Z"
   },
   {
    "duration": 88,
    "start_time": "2022-04-08T15:12:58.501Z"
   },
   {
    "duration": 19,
    "start_time": "2022-04-08T15:12:58.590Z"
   },
   {
    "duration": 10,
    "start_time": "2022-04-08T15:12:58.612Z"
   },
   {
    "duration": 16,
    "start_time": "2022-04-08T15:12:58.624Z"
   },
   {
    "duration": 8,
    "start_time": "2022-04-08T15:12:58.642Z"
   },
   {
    "duration": 10,
    "start_time": "2022-04-08T15:12:58.652Z"
   },
   {
    "duration": 55,
    "start_time": "2022-04-08T15:12:58.664Z"
   },
   {
    "duration": 23,
    "start_time": "2022-04-08T15:12:58.721Z"
   },
   {
    "duration": 4,
    "start_time": "2022-04-08T15:12:58.746Z"
   },
   {
    "duration": 19,
    "start_time": "2022-04-08T15:12:58.752Z"
   },
   {
    "duration": 30,
    "start_time": "2022-04-08T15:12:58.773Z"
   },
   {
    "duration": 185,
    "start_time": "2022-04-08T15:12:58.807Z"
   },
   {
    "duration": 41,
    "start_time": "2022-04-08T15:12:58.994Z"
   },
   {
    "duration": 15,
    "start_time": "2022-04-08T15:12:59.037Z"
   },
   {
    "duration": 8,
    "start_time": "2022-04-08T15:12:59.054Z"
   },
   {
    "duration": 25,
    "start_time": "2022-04-08T15:12:59.064Z"
   },
   {
    "duration": 180,
    "start_time": "2022-04-08T15:12:59.102Z"
   },
   {
    "duration": 6,
    "start_time": "2022-04-08T15:12:59.284Z"
   },
   {
    "duration": 16,
    "start_time": "2022-04-08T15:12:59.291Z"
   },
   {
    "duration": 49,
    "start_time": "2022-04-08T15:12:59.309Z"
   },
   {
    "duration": 8,
    "start_time": "2022-04-08T15:12:59.360Z"
   },
   {
    "duration": 55,
    "start_time": "2022-04-08T15:12:59.370Z"
   },
   {
    "duration": 13,
    "start_time": "2022-04-08T15:12:59.427Z"
   },
   {
    "duration": 16,
    "start_time": "2022-04-08T15:12:59.441Z"
   },
   {
    "duration": 236,
    "start_time": "2022-04-08T15:12:59.459Z"
   },
   {
    "duration": 9,
    "start_time": "2022-04-08T15:12:59.701Z"
   },
   {
    "duration": 23,
    "start_time": "2022-04-08T15:12:59.711Z"
   },
   {
    "duration": 16,
    "start_time": "2022-04-08T15:12:59.736Z"
   },
   {
    "duration": 10,
    "start_time": "2022-04-08T15:12:59.753Z"
   },
   {
    "duration": 11,
    "start_time": "2022-04-08T15:12:59.765Z"
   },
   {
    "duration": 21,
    "start_time": "2022-04-08T15:12:59.777Z"
   },
   {
    "duration": 6,
    "start_time": "2022-04-08T15:13:31.139Z"
   },
   {
    "duration": 16,
    "start_time": "2022-04-08T15:13:37.230Z"
   },
   {
    "duration": 13,
    "start_time": "2022-04-08T15:30:50.593Z"
   },
   {
    "duration": 12,
    "start_time": "2022-04-08T15:31:05.572Z"
   },
   {
    "duration": 44,
    "start_time": "2022-04-08T15:31:58.309Z"
   },
   {
    "duration": 15,
    "start_time": "2022-04-08T15:36:21.009Z"
   },
   {
    "duration": 3,
    "start_time": "2022-04-08T15:36:34.425Z"
   },
   {
    "duration": 407,
    "start_time": "2022-04-08T15:36:34.430Z"
   },
   {
    "duration": 71,
    "start_time": "2022-04-08T15:36:34.839Z"
   },
   {
    "duration": 9,
    "start_time": "2022-04-08T15:36:34.911Z"
   },
   {
    "duration": 10,
    "start_time": "2022-04-08T15:36:34.922Z"
   },
   {
    "duration": 15,
    "start_time": "2022-04-08T15:36:34.933Z"
   },
   {
    "duration": 9,
    "start_time": "2022-04-08T15:36:34.950Z"
   },
   {
    "duration": 14,
    "start_time": "2022-04-08T15:36:34.961Z"
   },
   {
    "duration": 46,
    "start_time": "2022-04-08T15:36:34.977Z"
   },
   {
    "duration": 4,
    "start_time": "2022-04-08T15:36:35.025Z"
   },
   {
    "duration": 0,
    "start_time": "2022-04-08T15:36:35.031Z"
   },
   {
    "duration": 0,
    "start_time": "2022-04-08T15:36:35.033Z"
   },
   {
    "duration": 0,
    "start_time": "2022-04-08T15:36:35.034Z"
   },
   {
    "duration": 0,
    "start_time": "2022-04-08T15:36:35.036Z"
   },
   {
    "duration": 0,
    "start_time": "2022-04-08T15:36:35.037Z"
   },
   {
    "duration": 0,
    "start_time": "2022-04-08T15:36:35.039Z"
   },
   {
    "duration": 0,
    "start_time": "2022-04-08T15:36:35.040Z"
   },
   {
    "duration": 0,
    "start_time": "2022-04-08T15:36:35.041Z"
   },
   {
    "duration": 0,
    "start_time": "2022-04-08T15:36:35.043Z"
   },
   {
    "duration": 0,
    "start_time": "2022-04-08T15:36:35.045Z"
   },
   {
    "duration": 0,
    "start_time": "2022-04-08T15:36:35.046Z"
   },
   {
    "duration": 0,
    "start_time": "2022-04-08T15:36:35.048Z"
   },
   {
    "duration": 0,
    "start_time": "2022-04-08T15:36:35.049Z"
   },
   {
    "duration": 0,
    "start_time": "2022-04-08T15:36:35.050Z"
   },
   {
    "duration": 1,
    "start_time": "2022-04-08T15:36:35.051Z"
   },
   {
    "duration": 0,
    "start_time": "2022-04-08T15:36:35.053Z"
   },
   {
    "duration": 0,
    "start_time": "2022-04-08T15:36:35.054Z"
   },
   {
    "duration": 0,
    "start_time": "2022-04-08T15:36:35.101Z"
   },
   {
    "duration": 0,
    "start_time": "2022-04-08T15:36:35.103Z"
   },
   {
    "duration": 0,
    "start_time": "2022-04-08T15:36:35.104Z"
   },
   {
    "duration": 0,
    "start_time": "2022-04-08T15:36:35.105Z"
   },
   {
    "duration": 0,
    "start_time": "2022-04-08T15:36:35.107Z"
   },
   {
    "duration": 0,
    "start_time": "2022-04-08T15:36:35.107Z"
   },
   {
    "duration": 0,
    "start_time": "2022-04-08T15:36:35.108Z"
   },
   {
    "duration": 11,
    "start_time": "2022-04-08T15:36:53.447Z"
   },
   {
    "duration": 3,
    "start_time": "2022-04-08T15:37:03.757Z"
   },
   {
    "duration": 414,
    "start_time": "2022-04-08T15:37:03.762Z"
   },
   {
    "duration": 72,
    "start_time": "2022-04-08T15:37:04.178Z"
   },
   {
    "duration": 9,
    "start_time": "2022-04-08T15:37:04.252Z"
   },
   {
    "duration": 26,
    "start_time": "2022-04-08T15:37:04.263Z"
   },
   {
    "duration": 23,
    "start_time": "2022-04-08T15:37:04.291Z"
   },
   {
    "duration": 50,
    "start_time": "2022-04-08T15:37:04.315Z"
   },
   {
    "duration": 27,
    "start_time": "2022-04-08T15:37:04.367Z"
   },
   {
    "duration": 61,
    "start_time": "2022-04-08T15:37:04.395Z"
   },
   {
    "duration": 4,
    "start_time": "2022-04-08T15:37:04.458Z"
   },
   {
    "duration": 0,
    "start_time": "2022-04-08T15:37:04.464Z"
   },
   {
    "duration": 0,
    "start_time": "2022-04-08T15:37:04.465Z"
   },
   {
    "duration": 0,
    "start_time": "2022-04-08T15:37:04.466Z"
   },
   {
    "duration": 0,
    "start_time": "2022-04-08T15:37:04.467Z"
   },
   {
    "duration": 0,
    "start_time": "2022-04-08T15:37:04.469Z"
   },
   {
    "duration": 0,
    "start_time": "2022-04-08T15:37:04.470Z"
   },
   {
    "duration": 0,
    "start_time": "2022-04-08T15:37:04.471Z"
   },
   {
    "duration": 0,
    "start_time": "2022-04-08T15:37:04.472Z"
   },
   {
    "duration": 0,
    "start_time": "2022-04-08T15:37:04.473Z"
   },
   {
    "duration": 0,
    "start_time": "2022-04-08T15:37:04.474Z"
   },
   {
    "duration": 0,
    "start_time": "2022-04-08T15:37:04.475Z"
   },
   {
    "duration": 0,
    "start_time": "2022-04-08T15:37:04.477Z"
   },
   {
    "duration": 0,
    "start_time": "2022-04-08T15:37:04.478Z"
   },
   {
    "duration": 0,
    "start_time": "2022-04-08T15:37:04.479Z"
   },
   {
    "duration": 0,
    "start_time": "2022-04-08T15:37:04.480Z"
   },
   {
    "duration": 0,
    "start_time": "2022-04-08T15:37:04.482Z"
   },
   {
    "duration": 0,
    "start_time": "2022-04-08T15:37:04.482Z"
   },
   {
    "duration": 0,
    "start_time": "2022-04-08T15:37:04.483Z"
   },
   {
    "duration": 0,
    "start_time": "2022-04-08T15:37:04.485Z"
   },
   {
    "duration": 0,
    "start_time": "2022-04-08T15:37:04.501Z"
   },
   {
    "duration": 0,
    "start_time": "2022-04-08T15:37:04.502Z"
   },
   {
    "duration": 0,
    "start_time": "2022-04-08T15:37:04.503Z"
   },
   {
    "duration": 0,
    "start_time": "2022-04-08T15:37:04.504Z"
   },
   {
    "duration": 0,
    "start_time": "2022-04-08T15:37:04.505Z"
   },
   {
    "duration": 8,
    "start_time": "2022-04-08T15:38:22.638Z"
   },
   {
    "duration": 21,
    "start_time": "2022-04-08T15:38:29.043Z"
   },
   {
    "duration": 3,
    "start_time": "2022-04-08T15:38:31.967Z"
   },
   {
    "duration": 2420,
    "start_time": "2022-04-08T15:38:31.972Z"
   },
   {
    "duration": 69,
    "start_time": "2022-04-08T15:38:34.394Z"
   },
   {
    "duration": 8,
    "start_time": "2022-04-08T15:38:34.465Z"
   },
   {
    "duration": 27,
    "start_time": "2022-04-08T15:38:34.475Z"
   },
   {
    "duration": 7,
    "start_time": "2022-04-08T15:38:34.504Z"
   },
   {
    "duration": 10,
    "start_time": "2022-04-08T15:38:34.513Z"
   },
   {
    "duration": 12,
    "start_time": "2022-04-08T15:38:34.525Z"
   },
   {
    "duration": 30,
    "start_time": "2022-04-08T15:38:34.539Z"
   },
   {
    "duration": 41,
    "start_time": "2022-04-08T15:38:34.571Z"
   },
   {
    "duration": 5,
    "start_time": "2022-04-08T15:38:34.614Z"
   },
   {
    "duration": 8,
    "start_time": "2022-04-08T15:38:34.621Z"
   },
   {
    "duration": 15,
    "start_time": "2022-04-08T15:38:34.630Z"
   },
   {
    "duration": 182,
    "start_time": "2022-04-08T15:38:34.648Z"
   },
   {
    "duration": 24,
    "start_time": "2022-04-08T15:38:34.832Z"
   },
   {
    "duration": 19,
    "start_time": "2022-04-08T15:38:34.858Z"
   },
   {
    "duration": 31,
    "start_time": "2022-04-08T15:38:34.878Z"
   },
   {
    "duration": 15,
    "start_time": "2022-04-08T15:38:34.910Z"
   },
   {
    "duration": 169,
    "start_time": "2022-04-08T15:38:34.926Z"
   },
   {
    "duration": 20,
    "start_time": "2022-04-08T15:38:35.096Z"
   },
   {
    "duration": 31,
    "start_time": "2022-04-08T15:38:35.117Z"
   },
   {
    "duration": 8,
    "start_time": "2022-04-08T15:38:35.150Z"
   },
   {
    "duration": 46,
    "start_time": "2022-04-08T15:38:35.159Z"
   },
   {
    "duration": 10,
    "start_time": "2022-04-08T15:38:35.207Z"
   },
   {
    "duration": 8,
    "start_time": "2022-04-08T15:38:35.219Z"
   },
   {
    "duration": 159,
    "start_time": "2022-04-08T15:38:35.228Z"
   },
   {
    "duration": 14,
    "start_time": "2022-04-08T15:38:35.389Z"
   },
   {
    "duration": 20,
    "start_time": "2022-04-08T15:38:35.404Z"
   },
   {
    "duration": 8,
    "start_time": "2022-04-08T15:38:35.426Z"
   },
   {
    "duration": 6,
    "start_time": "2022-04-08T15:38:35.435Z"
   },
   {
    "duration": 7,
    "start_time": "2022-04-08T15:38:35.442Z"
   },
   {
    "duration": 8,
    "start_time": "2022-04-08T15:38:35.451Z"
   },
   {
    "duration": 62,
    "start_time": "2022-04-08T15:38:35.461Z"
   },
   {
    "duration": 14,
    "start_time": "2022-04-08T15:38:35.525Z"
   },
   {
    "duration": 12,
    "start_time": "2022-04-08T15:41:45.795Z"
   },
   {
    "duration": 11,
    "start_time": "2022-04-08T15:45:18.955Z"
   },
   {
    "duration": 20,
    "start_time": "2022-04-08T15:46:03.256Z"
   },
   {
    "duration": 13,
    "start_time": "2022-04-08T15:46:21.224Z"
   },
   {
    "duration": 13,
    "start_time": "2022-04-08T15:46:31.792Z"
   },
   {
    "duration": 3,
    "start_time": "2022-04-08T15:48:17.698Z"
   },
   {
    "duration": 426,
    "start_time": "2022-04-08T15:48:17.703Z"
   },
   {
    "duration": 70,
    "start_time": "2022-04-08T15:48:18.131Z"
   },
   {
    "duration": 9,
    "start_time": "2022-04-08T15:48:18.202Z"
   },
   {
    "duration": 10,
    "start_time": "2022-04-08T15:48:18.213Z"
   },
   {
    "duration": 10,
    "start_time": "2022-04-08T15:48:18.225Z"
   },
   {
    "duration": 10,
    "start_time": "2022-04-08T15:48:18.236Z"
   },
   {
    "duration": 11,
    "start_time": "2022-04-08T15:48:18.247Z"
   },
   {
    "duration": 59,
    "start_time": "2022-04-08T15:48:18.260Z"
   },
   {
    "duration": 23,
    "start_time": "2022-04-08T15:48:18.321Z"
   },
   {
    "duration": 4,
    "start_time": "2022-04-08T15:48:18.346Z"
   },
   {
    "duration": 8,
    "start_time": "2022-04-08T15:48:18.352Z"
   },
   {
    "duration": 13,
    "start_time": "2022-04-08T15:48:18.362Z"
   },
   {
    "duration": 159,
    "start_time": "2022-04-08T15:48:18.403Z"
   },
   {
    "duration": 25,
    "start_time": "2022-04-08T15:48:18.564Z"
   },
   {
    "duration": 19,
    "start_time": "2022-04-08T15:48:18.600Z"
   },
   {
    "duration": 9,
    "start_time": "2022-04-08T15:48:18.621Z"
   },
   {
    "duration": 14,
    "start_time": "2022-04-08T15:48:18.632Z"
   },
   {
    "duration": 180,
    "start_time": "2022-04-08T15:48:18.647Z"
   },
   {
    "duration": 16,
    "start_time": "2022-04-08T15:48:18.828Z"
   },
   {
    "duration": 33,
    "start_time": "2022-04-08T15:48:18.845Z"
   },
   {
    "duration": 26,
    "start_time": "2022-04-08T15:48:18.880Z"
   },
   {
    "duration": 23,
    "start_time": "2022-04-08T15:48:18.907Z"
   },
   {
    "duration": 10,
    "start_time": "2022-04-08T15:48:18.932Z"
   },
   {
    "duration": 9,
    "start_time": "2022-04-08T15:48:18.943Z"
   },
   {
    "duration": 174,
    "start_time": "2022-04-08T15:48:18.953Z"
   },
   {
    "duration": 7,
    "start_time": "2022-04-08T15:48:19.129Z"
   },
   {
    "duration": 29,
    "start_time": "2022-04-08T15:48:19.138Z"
   },
   {
    "duration": 20,
    "start_time": "2022-04-08T15:48:19.169Z"
   },
   {
    "duration": 6,
    "start_time": "2022-04-08T15:48:19.191Z"
   },
   {
    "duration": 8,
    "start_time": "2022-04-08T15:48:19.198Z"
   },
   {
    "duration": 7,
    "start_time": "2022-04-08T15:48:19.207Z"
   },
   {
    "duration": 38,
    "start_time": "2022-04-08T15:48:19.216Z"
   },
   {
    "duration": 53,
    "start_time": "2022-04-08T15:48:19.256Z"
   },
   {
    "duration": 34,
    "start_time": "2022-04-08T15:50:12.806Z"
   },
   {
    "duration": 13,
    "start_time": "2022-04-08T15:51:36.920Z"
   },
   {
    "duration": 3,
    "start_time": "2022-04-08T15:51:47.238Z"
   },
   {
    "duration": 2199,
    "start_time": "2022-04-08T15:51:47.243Z"
   },
   {
    "duration": 63,
    "start_time": "2022-04-08T15:51:49.444Z"
   },
   {
    "duration": 8,
    "start_time": "2022-04-08T15:51:49.510Z"
   },
   {
    "duration": 35,
    "start_time": "2022-04-08T15:51:49.519Z"
   },
   {
    "duration": 10,
    "start_time": "2022-04-08T15:51:49.556Z"
   },
   {
    "duration": 13,
    "start_time": "2022-04-08T15:51:49.568Z"
   },
   {
    "duration": 12,
    "start_time": "2022-04-08T15:51:49.583Z"
   },
   {
    "duration": 35,
    "start_time": "2022-04-08T15:51:49.598Z"
   },
   {
    "duration": 24,
    "start_time": "2022-04-08T15:51:49.635Z"
   },
   {
    "duration": 5,
    "start_time": "2022-04-08T15:51:49.661Z"
   },
   {
    "duration": 10,
    "start_time": "2022-04-08T15:51:49.668Z"
   },
   {
    "duration": 33,
    "start_time": "2022-04-08T15:51:49.679Z"
   },
   {
    "duration": 170,
    "start_time": "2022-04-08T15:51:49.714Z"
   },
   {
    "duration": 31,
    "start_time": "2022-04-08T15:51:49.886Z"
   },
   {
    "duration": 18,
    "start_time": "2022-04-08T15:51:49.919Z"
   },
   {
    "duration": 8,
    "start_time": "2022-04-08T15:51:49.938Z"
   },
   {
    "duration": 17,
    "start_time": "2022-04-08T15:51:49.948Z"
   },
   {
    "duration": 182,
    "start_time": "2022-04-08T15:51:49.967Z"
   },
   {
    "duration": 16,
    "start_time": "2022-04-08T15:51:50.151Z"
   },
   {
    "duration": 47,
    "start_time": "2022-04-08T15:51:50.169Z"
   },
   {
    "duration": 8,
    "start_time": "2022-04-08T15:51:50.219Z"
   },
   {
    "duration": 25,
    "start_time": "2022-04-08T15:51:50.229Z"
   },
   {
    "duration": 11,
    "start_time": "2022-04-08T15:51:50.257Z"
   },
   {
    "duration": 32,
    "start_time": "2022-04-08T15:51:50.270Z"
   },
   {
    "duration": 149,
    "start_time": "2022-04-08T15:51:50.304Z"
   },
   {
    "duration": 7,
    "start_time": "2022-04-08T15:51:50.454Z"
   },
   {
    "duration": 14,
    "start_time": "2022-04-08T15:51:50.463Z"
   },
   {
    "duration": 24,
    "start_time": "2022-04-08T15:51:50.478Z"
   },
   {
    "duration": 10,
    "start_time": "2022-04-08T15:51:50.504Z"
   },
   {
    "duration": 7,
    "start_time": "2022-04-08T15:51:50.516Z"
   },
   {
    "duration": 6,
    "start_time": "2022-04-08T15:51:50.525Z"
   },
   {
    "duration": 40,
    "start_time": "2022-04-08T15:51:50.533Z"
   },
   {
    "duration": 51,
    "start_time": "2022-04-08T15:51:50.575Z"
   },
   {
    "duration": 26,
    "start_time": "2022-04-08T15:51:50.628Z"
   },
   {
    "duration": 13,
    "start_time": "2022-04-08T15:51:50.655Z"
   },
   {
    "duration": 15,
    "start_time": "2022-04-08T16:53:55.784Z"
   },
   {
    "duration": 10,
    "start_time": "2022-04-08T16:54:16.139Z"
   },
   {
    "duration": 11,
    "start_time": "2022-04-08T16:57:43.734Z"
   },
   {
    "duration": 224,
    "start_time": "2022-04-08T16:58:00.485Z"
   },
   {
    "duration": 12,
    "start_time": "2022-04-08T16:58:05.587Z"
   },
   {
    "duration": 2,
    "start_time": "2022-04-08T16:58:23.967Z"
   },
   {
    "duration": 429,
    "start_time": "2022-04-08T16:58:23.972Z"
   },
   {
    "duration": 156,
    "start_time": "2022-04-08T16:58:24.403Z"
   },
   {
    "duration": 9,
    "start_time": "2022-04-08T16:58:24.561Z"
   },
   {
    "duration": 27,
    "start_time": "2022-04-08T16:58:24.573Z"
   },
   {
    "duration": 8,
    "start_time": "2022-04-08T16:58:24.602Z"
   },
   {
    "duration": 9,
    "start_time": "2022-04-08T16:58:24.611Z"
   },
   {
    "duration": 10,
    "start_time": "2022-04-08T16:58:24.622Z"
   },
   {
    "duration": 31,
    "start_time": "2022-04-08T16:58:24.634Z"
   },
   {
    "duration": 47,
    "start_time": "2022-04-08T16:58:24.667Z"
   },
   {
    "duration": 6,
    "start_time": "2022-04-08T16:58:24.716Z"
   },
   {
    "duration": 14,
    "start_time": "2022-04-08T16:58:24.724Z"
   },
   {
    "duration": 15,
    "start_time": "2022-04-08T16:58:24.740Z"
   },
   {
    "duration": 187,
    "start_time": "2022-04-08T16:58:24.759Z"
   },
   {
    "duration": 23,
    "start_time": "2022-04-08T16:58:24.949Z"
   },
   {
    "duration": 33,
    "start_time": "2022-04-08T16:58:24.974Z"
   },
   {
    "duration": 10,
    "start_time": "2022-04-08T16:58:25.008Z"
   },
   {
    "duration": 12,
    "start_time": "2022-04-08T16:58:25.020Z"
   },
   {
    "duration": 161,
    "start_time": "2022-04-08T16:58:25.034Z"
   },
   {
    "duration": 16,
    "start_time": "2022-04-08T16:58:25.201Z"
   },
   {
    "duration": 34,
    "start_time": "2022-04-08T16:58:25.219Z"
   },
   {
    "duration": 11,
    "start_time": "2022-04-08T16:58:25.255Z"
   },
   {
    "duration": 52,
    "start_time": "2022-04-08T16:58:25.268Z"
   },
   {
    "duration": 9,
    "start_time": "2022-04-08T16:58:25.322Z"
   },
   {
    "duration": 7,
    "start_time": "2022-04-08T16:58:25.333Z"
   },
   {
    "duration": 153,
    "start_time": "2022-04-08T16:58:25.341Z"
   },
   {
    "duration": 10,
    "start_time": "2022-04-08T16:58:25.496Z"
   },
   {
    "duration": 11,
    "start_time": "2022-04-08T16:58:25.508Z"
   },
   {
    "duration": 7,
    "start_time": "2022-04-08T16:58:25.520Z"
   },
   {
    "duration": 7,
    "start_time": "2022-04-08T16:58:25.528Z"
   },
   {
    "duration": 11,
    "start_time": "2022-04-08T16:58:25.536Z"
   },
   {
    "duration": 6,
    "start_time": "2022-04-08T16:58:25.548Z"
   },
   {
    "duration": 66,
    "start_time": "2022-04-08T16:58:25.555Z"
   },
   {
    "duration": 22,
    "start_time": "2022-04-08T16:58:25.622Z"
   },
   {
    "duration": 23,
    "start_time": "2022-04-08T16:58:25.646Z"
   },
   {
    "duration": 10,
    "start_time": "2022-04-08T16:58:25.670Z"
   },
   {
    "duration": 11,
    "start_time": "2022-04-08T16:58:25.701Z"
   },
   {
    "duration": 15,
    "start_time": "2022-04-08T16:59:43.295Z"
   },
   {
    "duration": 8,
    "start_time": "2022-04-08T17:33:18.915Z"
   },
   {
    "duration": 8,
    "start_time": "2022-04-08T17:33:37.333Z"
   },
   {
    "duration": 17,
    "start_time": "2022-04-08T17:33:55.774Z"
   },
   {
    "duration": 3,
    "start_time": "2022-04-08T17:36:07.173Z"
   },
   {
    "duration": 450,
    "start_time": "2022-04-08T17:36:07.178Z"
   },
   {
    "duration": 69,
    "start_time": "2022-04-08T17:36:07.630Z"
   },
   {
    "duration": 8,
    "start_time": "2022-04-08T17:36:07.701Z"
   },
   {
    "duration": 19,
    "start_time": "2022-04-08T17:36:07.712Z"
   },
   {
    "duration": 9,
    "start_time": "2022-04-08T17:36:07.733Z"
   },
   {
    "duration": 20,
    "start_time": "2022-04-08T17:36:07.744Z"
   },
   {
    "duration": 19,
    "start_time": "2022-04-08T17:36:07.766Z"
   },
   {
    "duration": 39,
    "start_time": "2022-04-08T17:36:07.787Z"
   },
   {
    "duration": 22,
    "start_time": "2022-04-08T17:36:07.827Z"
   },
   {
    "duration": 6,
    "start_time": "2022-04-08T17:36:07.851Z"
   },
   {
    "duration": 24,
    "start_time": "2022-04-08T17:36:07.858Z"
   },
   {
    "duration": 29,
    "start_time": "2022-04-08T17:36:07.883Z"
   },
   {
    "duration": 161,
    "start_time": "2022-04-08T17:36:07.916Z"
   },
   {
    "duration": 35,
    "start_time": "2022-04-08T17:36:08.079Z"
   },
   {
    "duration": 17,
    "start_time": "2022-04-08T17:36:08.116Z"
   },
   {
    "duration": 9,
    "start_time": "2022-04-08T17:36:08.135Z"
   },
   {
    "duration": 12,
    "start_time": "2022-04-08T17:36:08.146Z"
   },
   {
    "duration": 176,
    "start_time": "2022-04-08T17:36:08.160Z"
   },
   {
    "duration": 14,
    "start_time": "2022-04-08T17:36:08.338Z"
   },
   {
    "duration": 47,
    "start_time": "2022-04-08T17:36:08.354Z"
   },
   {
    "duration": 8,
    "start_time": "2022-04-08T17:36:08.403Z"
   },
   {
    "duration": 21,
    "start_time": "2022-04-08T17:36:08.412Z"
   },
   {
    "duration": 10,
    "start_time": "2022-04-08T17:36:08.434Z"
   },
   {
    "duration": 7,
    "start_time": "2022-04-08T17:36:08.446Z"
   },
   {
    "duration": 171,
    "start_time": "2022-04-08T17:36:08.454Z"
   },
   {
    "duration": 7,
    "start_time": "2022-04-08T17:36:08.627Z"
   },
   {
    "duration": 15,
    "start_time": "2022-04-08T17:36:08.636Z"
   },
   {
    "duration": 8,
    "start_time": "2022-04-08T17:36:08.653Z"
   },
   {
    "duration": 7,
    "start_time": "2022-04-08T17:36:08.662Z"
   },
   {
    "duration": 32,
    "start_time": "2022-04-08T17:36:08.670Z"
   },
   {
    "duration": 9,
    "start_time": "2022-04-08T17:36:08.704Z"
   },
   {
    "duration": 40,
    "start_time": "2022-04-08T17:36:08.714Z"
   },
   {
    "duration": 26,
    "start_time": "2022-04-08T17:36:08.756Z"
   },
   {
    "duration": 24,
    "start_time": "2022-04-08T17:36:08.801Z"
   },
   {
    "duration": 10,
    "start_time": "2022-04-08T17:36:08.827Z"
   },
   {
    "duration": 17,
    "start_time": "2022-04-08T17:36:08.838Z"
   },
   {
    "duration": 33,
    "start_time": "2022-04-08T17:38:20.140Z"
   },
   {
    "duration": 12,
    "start_time": "2022-04-08T17:39:19.356Z"
   },
   {
    "duration": 23,
    "start_time": "2022-04-08T17:54:59.199Z"
   },
   {
    "duration": 3,
    "start_time": "2022-04-08T18:12:18.804Z"
   },
   {
    "duration": 2421,
    "start_time": "2022-04-08T18:12:18.808Z"
   },
   {
    "duration": 105,
    "start_time": "2022-04-08T18:12:21.231Z"
   },
   {
    "duration": 9,
    "start_time": "2022-04-08T18:12:21.337Z"
   },
   {
    "duration": 9,
    "start_time": "2022-04-08T18:12:21.403Z"
   },
   {
    "duration": 18,
    "start_time": "2022-04-08T18:12:21.414Z"
   },
   {
    "duration": 14,
    "start_time": "2022-04-08T18:12:21.434Z"
   },
   {
    "duration": 59,
    "start_time": "2022-04-08T18:12:21.449Z"
   },
   {
    "duration": 37,
    "start_time": "2022-04-08T18:12:21.509Z"
   },
   {
    "duration": 71,
    "start_time": "2022-04-08T18:12:21.548Z"
   },
   {
    "duration": 6,
    "start_time": "2022-04-08T18:12:21.622Z"
   },
   {
    "duration": 23,
    "start_time": "2022-04-08T18:12:21.630Z"
   },
   {
    "duration": 12,
    "start_time": "2022-04-08T18:12:21.702Z"
   },
   {
    "duration": 313,
    "start_time": "2022-04-08T18:12:21.716Z"
   },
   {
    "duration": 75,
    "start_time": "2022-04-08T18:12:22.030Z"
   },
   {
    "duration": 18,
    "start_time": "2022-04-08T18:12:22.107Z"
   },
   {
    "duration": 9,
    "start_time": "2022-04-08T18:12:22.126Z"
   },
   {
    "duration": 72,
    "start_time": "2022-04-08T18:12:22.136Z"
   },
   {
    "duration": 262,
    "start_time": "2022-04-08T18:12:22.210Z"
   },
   {
    "duration": 40,
    "start_time": "2022-04-08T18:12:22.474Z"
   },
   {
    "duration": 33,
    "start_time": "2022-04-08T18:12:22.516Z"
   },
   {
    "duration": 8,
    "start_time": "2022-04-08T18:12:22.551Z"
   },
   {
    "duration": 52,
    "start_time": "2022-04-08T18:12:22.560Z"
   },
   {
    "duration": 11,
    "start_time": "2022-04-08T18:12:22.613Z"
   },
   {
    "duration": 18,
    "start_time": "2022-04-08T18:12:22.626Z"
   },
   {
    "duration": 148,
    "start_time": "2022-04-08T18:12:22.646Z"
   },
   {
    "duration": 11,
    "start_time": "2022-04-08T18:12:22.796Z"
   },
   {
    "duration": 16,
    "start_time": "2022-04-08T18:12:22.809Z"
   },
   {
    "duration": 11,
    "start_time": "2022-04-08T18:12:22.828Z"
   },
   {
    "duration": 24,
    "start_time": "2022-04-08T18:12:22.840Z"
   },
   {
    "duration": 28,
    "start_time": "2022-04-08T18:12:22.865Z"
   },
   {
    "duration": 14,
    "start_time": "2022-04-08T18:12:22.895Z"
   },
   {
    "duration": 53,
    "start_time": "2022-04-08T18:12:22.911Z"
   },
   {
    "duration": 30,
    "start_time": "2022-04-08T18:12:22.965Z"
   },
   {
    "duration": 26,
    "start_time": "2022-04-08T18:12:22.997Z"
   },
   {
    "duration": 13,
    "start_time": "2022-04-08T18:12:23.025Z"
   },
   {
    "duration": 62,
    "start_time": "2022-04-08T18:12:23.040Z"
   },
   {
    "duration": 13,
    "start_time": "2022-04-08T18:12:23.104Z"
   },
   {
    "duration": 20,
    "start_time": "2022-04-08T18:12:23.119Z"
   },
   {
    "duration": 210,
    "start_time": "2022-04-08T18:12:23.141Z"
   },
   {
    "duration": 22,
    "start_time": "2022-04-08T18:14:57.295Z"
   },
   {
    "duration": 834,
    "start_time": "2022-04-09T16:51:42.279Z"
   },
   {
    "duration": 394,
    "start_time": "2022-04-09T16:51:43.115Z"
   },
   {
    "duration": 75,
    "start_time": "2022-04-09T16:51:43.510Z"
   },
   {
    "duration": 28,
    "start_time": "2022-04-09T16:51:43.587Z"
   },
   {
    "duration": 11,
    "start_time": "2022-04-09T16:51:43.617Z"
   },
   {
    "duration": 14,
    "start_time": "2022-04-09T16:51:43.631Z"
   },
   {
    "duration": 14,
    "start_time": "2022-04-09T16:51:43.647Z"
   },
   {
    "duration": 11,
    "start_time": "2022-04-09T16:51:43.663Z"
   },
   {
    "duration": 63,
    "start_time": "2022-04-09T16:51:43.676Z"
   },
   {
    "duration": 23,
    "start_time": "2022-04-09T16:51:43.743Z"
   },
   {
    "duration": 8,
    "start_time": "2022-04-09T16:51:43.768Z"
   },
   {
    "duration": 33,
    "start_time": "2022-04-09T16:51:43.777Z"
   },
   {
    "duration": 17,
    "start_time": "2022-04-09T16:51:43.813Z"
   },
   {
    "duration": 200,
    "start_time": "2022-04-09T16:51:43.832Z"
   },
   {
    "duration": 25,
    "start_time": "2022-04-09T16:51:44.034Z"
   },
   {
    "duration": 19,
    "start_time": "2022-04-09T16:51:44.061Z"
   },
   {
    "duration": 34,
    "start_time": "2022-04-09T16:51:44.082Z"
   },
   {
    "duration": 17,
    "start_time": "2022-04-09T16:51:44.118Z"
   },
   {
    "duration": 188,
    "start_time": "2022-04-09T16:51:44.137Z"
   },
   {
    "duration": 19,
    "start_time": "2022-04-09T16:51:44.327Z"
   },
   {
    "duration": 33,
    "start_time": "2022-04-09T16:51:44.348Z"
   },
   {
    "duration": 9,
    "start_time": "2022-04-09T16:51:44.408Z"
   },
   {
    "duration": 30,
    "start_time": "2022-04-09T16:51:44.419Z"
   },
   {
    "duration": 11,
    "start_time": "2022-04-09T16:51:44.451Z"
   },
   {
    "duration": 12,
    "start_time": "2022-04-09T16:51:44.463Z"
   },
   {
    "duration": 185,
    "start_time": "2022-04-09T16:51:44.476Z"
   },
   {
    "duration": 7,
    "start_time": "2022-04-09T16:51:44.662Z"
   },
   {
    "duration": 15,
    "start_time": "2022-04-09T16:51:44.673Z"
   },
   {
    "duration": 23,
    "start_time": "2022-04-09T16:51:44.690Z"
   },
   {
    "duration": 9,
    "start_time": "2022-04-09T16:51:44.715Z"
   },
   {
    "duration": 13,
    "start_time": "2022-04-09T16:51:44.726Z"
   },
   {
    "duration": 16,
    "start_time": "2022-04-09T16:51:44.741Z"
   },
   {
    "duration": 40,
    "start_time": "2022-04-09T16:51:44.759Z"
   },
   {
    "duration": 29,
    "start_time": "2022-04-09T16:51:44.809Z"
   },
   {
    "duration": 26,
    "start_time": "2022-04-09T16:51:44.840Z"
   },
   {
    "duration": 12,
    "start_time": "2022-04-09T16:51:44.867Z"
   },
   {
    "duration": 64,
    "start_time": "2022-04-09T16:51:44.881Z"
   },
   {
    "duration": 14,
    "start_time": "2022-04-09T16:51:44.946Z"
   },
   {
    "duration": 52,
    "start_time": "2022-04-09T16:51:44.962Z"
   },
   {
    "duration": 3,
    "start_time": "2022-04-09T17:07:54.696Z"
   },
   {
    "duration": 409,
    "start_time": "2022-04-09T17:07:54.701Z"
   },
   {
    "duration": 74,
    "start_time": "2022-04-09T17:07:55.111Z"
   },
   {
    "duration": 7,
    "start_time": "2022-04-09T17:07:55.187Z"
   },
   {
    "duration": 18,
    "start_time": "2022-04-09T17:07:55.197Z"
   },
   {
    "duration": 10,
    "start_time": "2022-04-09T17:07:55.217Z"
   },
   {
    "duration": 15,
    "start_time": "2022-04-09T17:07:55.228Z"
   },
   {
    "duration": 14,
    "start_time": "2022-04-09T17:07:55.244Z"
   },
   {
    "duration": 54,
    "start_time": "2022-04-09T17:07:55.259Z"
   },
   {
    "duration": 23,
    "start_time": "2022-04-09T17:07:55.314Z"
   },
   {
    "duration": 5,
    "start_time": "2022-04-09T17:07:55.339Z"
   },
   {
    "duration": 11,
    "start_time": "2022-04-09T17:07:55.345Z"
   },
   {
    "duration": 18,
    "start_time": "2022-04-09T17:07:55.358Z"
   },
   {
    "duration": 198,
    "start_time": "2022-04-09T17:07:55.379Z"
   },
   {
    "duration": 37,
    "start_time": "2022-04-09T17:07:55.579Z"
   },
   {
    "duration": 18,
    "start_time": "2022-04-09T17:07:55.617Z"
   },
   {
    "duration": 9,
    "start_time": "2022-04-09T17:07:55.636Z"
   },
   {
    "duration": 16,
    "start_time": "2022-04-09T17:07:55.647Z"
   },
   {
    "duration": 245,
    "start_time": "2022-04-09T17:07:55.665Z"
   },
   {
    "duration": 16,
    "start_time": "2022-04-09T17:07:55.912Z"
   },
   {
    "duration": 32,
    "start_time": "2022-04-09T17:07:55.929Z"
   },
   {
    "duration": 8,
    "start_time": "2022-04-09T17:07:55.962Z"
   },
   {
    "duration": 48,
    "start_time": "2022-04-09T17:07:55.972Z"
   },
   {
    "duration": 8,
    "start_time": "2022-04-09T17:07:56.022Z"
   },
   {
    "duration": 9,
    "start_time": "2022-04-09T17:07:56.032Z"
   },
   {
    "duration": 179,
    "start_time": "2022-04-09T17:07:56.043Z"
   },
   {
    "duration": 7,
    "start_time": "2022-04-09T17:07:56.224Z"
   },
   {
    "duration": 14,
    "start_time": "2022-04-09T17:07:56.232Z"
   },
   {
    "duration": 8,
    "start_time": "2022-04-09T17:07:56.248Z"
   },
   {
    "duration": 10,
    "start_time": "2022-04-09T17:07:56.258Z"
   },
   {
    "duration": 8,
    "start_time": "2022-04-09T17:07:56.270Z"
   },
   {
    "duration": 29,
    "start_time": "2022-04-09T17:07:56.279Z"
   },
   {
    "duration": 38,
    "start_time": "2022-04-09T17:07:56.310Z"
   },
   {
    "duration": 27,
    "start_time": "2022-04-09T17:07:56.350Z"
   },
   {
    "duration": 47,
    "start_time": "2022-04-09T17:07:56.379Z"
   },
   {
    "duration": 12,
    "start_time": "2022-04-09T17:07:56.428Z"
   },
   {
    "duration": 39,
    "start_time": "2022-04-09T17:07:56.442Z"
   },
   {
    "duration": 36,
    "start_time": "2022-04-09T17:07:56.483Z"
   },
   {
    "duration": 27,
    "start_time": "2022-04-09T17:07:56.521Z"
   },
   {
    "duration": 73,
    "start_time": "2022-04-09T17:09:05.827Z"
   },
   {
    "duration": 14,
    "start_time": "2022-04-09T17:09:14.769Z"
   },
   {
    "duration": 3,
    "start_time": "2022-04-09T17:29:52.691Z"
   },
   {
    "duration": 372,
    "start_time": "2022-04-09T17:29:52.697Z"
   },
   {
    "duration": 67,
    "start_time": "2022-04-09T17:29:53.070Z"
   },
   {
    "duration": 8,
    "start_time": "2022-04-09T17:29:53.139Z"
   },
   {
    "duration": 13,
    "start_time": "2022-04-09T17:29:53.149Z"
   },
   {
    "duration": 8,
    "start_time": "2022-04-09T17:29:53.163Z"
   },
   {
    "duration": 8,
    "start_time": "2022-04-09T17:29:53.173Z"
   },
   {
    "duration": 27,
    "start_time": "2022-04-09T17:29:53.182Z"
   },
   {
    "duration": 33,
    "start_time": "2022-04-09T17:29:53.211Z"
   },
   {
    "duration": 21,
    "start_time": "2022-04-09T17:29:53.246Z"
   },
   {
    "duration": 5,
    "start_time": "2022-04-09T17:29:53.269Z"
   },
   {
    "duration": 9,
    "start_time": "2022-04-09T17:29:53.275Z"
   },
   {
    "duration": 36,
    "start_time": "2022-04-09T17:29:53.286Z"
   },
   {
    "duration": 180,
    "start_time": "2022-04-09T17:29:53.325Z"
   },
   {
    "duration": 24,
    "start_time": "2022-04-09T17:29:53.506Z"
   },
   {
    "duration": 16,
    "start_time": "2022-04-09T17:29:53.532Z"
   },
   {
    "duration": 8,
    "start_time": "2022-04-09T17:29:53.550Z"
   },
   {
    "duration": 13,
    "start_time": "2022-04-09T17:29:53.560Z"
   },
   {
    "duration": 195,
    "start_time": "2022-04-09T17:29:53.575Z"
   },
   {
    "duration": 14,
    "start_time": "2022-04-09T17:29:53.772Z"
   },
   {
    "duration": 43,
    "start_time": "2022-04-09T17:29:53.787Z"
   },
   {
    "duration": 7,
    "start_time": "2022-04-09T17:29:53.831Z"
   },
   {
    "duration": 23,
    "start_time": "2022-04-09T17:29:53.839Z"
   },
   {
    "duration": 9,
    "start_time": "2022-04-09T17:29:53.863Z"
   },
   {
    "duration": 8,
    "start_time": "2022-04-09T17:29:53.875Z"
   },
   {
    "duration": 153,
    "start_time": "2022-04-09T17:29:53.909Z"
   },
   {
    "duration": 7,
    "start_time": "2022-04-09T17:29:54.064Z"
   },
   {
    "duration": 14,
    "start_time": "2022-04-09T17:29:54.073Z"
   },
   {
    "duration": 25,
    "start_time": "2022-04-09T17:29:54.089Z"
   },
   {
    "duration": 6,
    "start_time": "2022-04-09T17:29:54.116Z"
   },
   {
    "duration": 8,
    "start_time": "2022-04-09T17:29:54.124Z"
   },
   {
    "duration": 6,
    "start_time": "2022-04-09T17:29:54.133Z"
   },
   {
    "duration": 36,
    "start_time": "2022-04-09T17:29:54.140Z"
   },
   {
    "duration": 46,
    "start_time": "2022-04-09T17:29:54.178Z"
   },
   {
    "duration": 23,
    "start_time": "2022-04-09T17:29:54.226Z"
   },
   {
    "duration": 10,
    "start_time": "2022-04-09T17:29:54.251Z"
   },
   {
    "duration": 60,
    "start_time": "2022-04-09T17:29:54.263Z"
   },
   {
    "duration": 12,
    "start_time": "2022-04-09T17:29:54.325Z"
   },
   {
    "duration": 26,
    "start_time": "2022-04-09T17:29:54.338Z"
   },
   {
    "duration": 12,
    "start_time": "2022-04-09T17:29:54.366Z"
   },
   {
    "duration": 29,
    "start_time": "2022-04-09T17:29:54.381Z"
   },
   {
    "duration": 0,
    "start_time": "2022-04-09T17:29:54.412Z"
   },
   {
    "duration": 0,
    "start_time": "2022-04-09T17:29:54.413Z"
   },
   {
    "duration": 3,
    "start_time": "2022-04-09T17:30:30.385Z"
   },
   {
    "duration": 395,
    "start_time": "2022-04-09T17:30:30.391Z"
   },
   {
    "duration": 69,
    "start_time": "2022-04-09T17:30:30.788Z"
   },
   {
    "duration": 9,
    "start_time": "2022-04-09T17:30:30.859Z"
   },
   {
    "duration": 10,
    "start_time": "2022-04-09T17:30:30.871Z"
   },
   {
    "duration": 27,
    "start_time": "2022-04-09T17:30:30.883Z"
   },
   {
    "duration": 9,
    "start_time": "2022-04-09T17:30:30.912Z"
   },
   {
    "duration": 12,
    "start_time": "2022-04-09T17:30:30.923Z"
   },
   {
    "duration": 40,
    "start_time": "2022-04-09T17:30:30.936Z"
   },
   {
    "duration": 40,
    "start_time": "2022-04-09T17:30:30.978Z"
   },
   {
    "duration": 7,
    "start_time": "2022-04-09T17:30:31.019Z"
   },
   {
    "duration": 10,
    "start_time": "2022-04-09T17:30:31.028Z"
   },
   {
    "duration": 19,
    "start_time": "2022-04-09T17:30:31.040Z"
   },
   {
    "duration": 203,
    "start_time": "2022-04-09T17:30:31.064Z"
   },
   {
    "duration": 39,
    "start_time": "2022-04-09T17:30:31.269Z"
   },
   {
    "duration": 18,
    "start_time": "2022-04-09T17:30:31.310Z"
   },
   {
    "duration": 9,
    "start_time": "2022-04-09T17:30:31.330Z"
   },
   {
    "duration": 15,
    "start_time": "2022-04-09T17:30:31.341Z"
   },
   {
    "duration": 202,
    "start_time": "2022-04-09T17:30:31.357Z"
   },
   {
    "duration": 61,
    "start_time": "2022-04-09T17:30:31.561Z"
   },
   {
    "duration": 31,
    "start_time": "2022-04-09T17:30:31.624Z"
   },
   {
    "duration": 9,
    "start_time": "2022-04-09T17:30:31.709Z"
   },
   {
    "duration": 39,
    "start_time": "2022-04-09T17:30:31.719Z"
   },
   {
    "duration": 13,
    "start_time": "2022-04-09T17:30:31.809Z"
   },
   {
    "duration": 8,
    "start_time": "2022-04-09T17:30:31.823Z"
   },
   {
    "duration": 316,
    "start_time": "2022-04-09T17:30:31.832Z"
   },
   {
    "duration": 59,
    "start_time": "2022-04-09T17:30:32.150Z"
   },
   {
    "duration": 18,
    "start_time": "2022-04-09T17:30:32.211Z"
   },
   {
    "duration": 8,
    "start_time": "2022-04-09T17:30:32.231Z"
   },
   {
    "duration": 8,
    "start_time": "2022-04-09T17:30:32.241Z"
   },
   {
    "duration": 58,
    "start_time": "2022-04-09T17:30:32.251Z"
   },
   {
    "duration": 7,
    "start_time": "2022-04-09T17:30:32.311Z"
   },
   {
    "duration": 92,
    "start_time": "2022-04-09T17:30:32.319Z"
   },
   {
    "duration": 26,
    "start_time": "2022-04-09T17:30:32.413Z"
   },
   {
    "duration": 77,
    "start_time": "2022-04-09T17:30:32.441Z"
   },
   {
    "duration": 11,
    "start_time": "2022-04-09T17:30:32.519Z"
   },
   {
    "duration": 95,
    "start_time": "2022-04-09T17:30:32.531Z"
   },
   {
    "duration": 13,
    "start_time": "2022-04-09T17:30:32.627Z"
   },
   {
    "duration": 81,
    "start_time": "2022-04-09T17:30:32.641Z"
   },
   {
    "duration": 13,
    "start_time": "2022-04-09T17:30:32.723Z"
   },
   {
    "duration": 1071,
    "start_time": "2022-04-09T17:30:32.739Z"
   },
   {
    "duration": 0,
    "start_time": "2022-04-09T17:30:33.812Z"
   },
   {
    "duration": 0,
    "start_time": "2022-04-09T17:30:33.813Z"
   },
   {
    "duration": 3,
    "start_time": "2022-04-09T17:32:19.197Z"
   },
   {
    "duration": 35,
    "start_time": "2022-04-09T17:32:20.448Z"
   },
   {
    "duration": 3,
    "start_time": "2022-04-09T17:42:41.637Z"
   },
   {
    "duration": 5,
    "start_time": "2022-04-09T17:42:41.642Z"
   },
   {
    "duration": 354,
    "start_time": "2022-04-09T17:42:41.648Z"
   },
   {
    "duration": 67,
    "start_time": "2022-04-09T17:42:42.004Z"
   },
   {
    "duration": 8,
    "start_time": "2022-04-09T17:42:42.073Z"
   },
   {
    "duration": 11,
    "start_time": "2022-04-09T17:42:42.082Z"
   },
   {
    "duration": 17,
    "start_time": "2022-04-09T17:42:42.094Z"
   },
   {
    "duration": 8,
    "start_time": "2022-04-09T17:42:42.112Z"
   },
   {
    "duration": 9,
    "start_time": "2022-04-09T17:42:42.122Z"
   },
   {
    "duration": 33,
    "start_time": "2022-04-09T17:42:42.133Z"
   },
   {
    "duration": 42,
    "start_time": "2022-04-09T17:42:42.167Z"
   },
   {
    "duration": 4,
    "start_time": "2022-04-09T17:42:42.210Z"
   },
   {
    "duration": 10,
    "start_time": "2022-04-09T17:42:42.216Z"
   },
   {
    "duration": 13,
    "start_time": "2022-04-09T17:42:42.230Z"
   },
   {
    "duration": 186,
    "start_time": "2022-04-09T17:42:42.244Z"
   },
   {
    "duration": 23,
    "start_time": "2022-04-09T17:42:42.432Z"
   },
   {
    "duration": 17,
    "start_time": "2022-04-09T17:42:42.457Z"
   },
   {
    "duration": 9,
    "start_time": "2022-04-09T17:42:42.476Z"
   },
   {
    "duration": 15,
    "start_time": "2022-04-09T17:42:42.509Z"
   },
   {
    "duration": 179,
    "start_time": "2022-04-09T17:42:42.526Z"
   },
   {
    "duration": 16,
    "start_time": "2022-04-09T17:42:42.707Z"
   },
   {
    "duration": 32,
    "start_time": "2022-04-09T17:42:42.725Z"
   },
   {
    "duration": 8,
    "start_time": "2022-04-09T17:42:42.758Z"
   },
   {
    "duration": 47,
    "start_time": "2022-04-09T17:42:42.768Z"
   },
   {
    "duration": 9,
    "start_time": "2022-04-09T17:42:42.817Z"
   },
   {
    "duration": 22,
    "start_time": "2022-04-09T17:42:42.827Z"
   },
   {
    "duration": 188,
    "start_time": "2022-04-09T17:42:42.850Z"
   },
   {
    "duration": 8,
    "start_time": "2022-04-09T17:42:43.039Z"
   },
   {
    "duration": 68,
    "start_time": "2022-04-09T17:42:43.048Z"
   },
   {
    "duration": 18,
    "start_time": "2022-04-09T17:42:43.118Z"
   },
   {
    "duration": 7,
    "start_time": "2022-04-09T17:42:43.137Z"
   },
   {
    "duration": 17,
    "start_time": "2022-04-09T17:42:43.145Z"
   },
   {
    "duration": 48,
    "start_time": "2022-04-09T17:42:43.163Z"
   },
   {
    "duration": 42,
    "start_time": "2022-04-09T17:42:43.212Z"
   },
   {
    "duration": 74,
    "start_time": "2022-04-09T17:42:43.256Z"
   },
   {
    "duration": 80,
    "start_time": "2022-04-09T17:42:43.332Z"
   },
   {
    "duration": 10,
    "start_time": "2022-04-09T17:42:43.414Z"
   },
   {
    "duration": 209,
    "start_time": "2022-04-09T17:42:43.426Z"
   },
   {
    "duration": 12,
    "start_time": "2022-04-09T17:42:43.637Z"
   },
   {
    "duration": 82,
    "start_time": "2022-04-09T17:42:43.651Z"
   },
   {
    "duration": 12,
    "start_time": "2022-04-09T17:42:43.736Z"
   },
   {
    "duration": 59,
    "start_time": "2022-04-09T17:42:43.750Z"
   },
   {
    "duration": 29,
    "start_time": "2022-04-09T17:42:43.811Z"
   },
   {
    "duration": 68,
    "start_time": "2022-04-09T17:42:43.842Z"
   },
   {
    "duration": 3,
    "start_time": "2022-04-09T17:49:47.224Z"
   },
   {
    "duration": 5,
    "start_time": "2022-04-09T17:49:47.229Z"
   },
   {
    "duration": 390,
    "start_time": "2022-04-09T17:49:47.235Z"
   },
   {
    "duration": 70,
    "start_time": "2022-04-09T17:49:47.627Z"
   },
   {
    "duration": 11,
    "start_time": "2022-04-09T17:49:47.698Z"
   },
   {
    "duration": 9,
    "start_time": "2022-04-09T17:49:47.711Z"
   },
   {
    "duration": 8,
    "start_time": "2022-04-09T17:49:47.722Z"
   },
   {
    "duration": 8,
    "start_time": "2022-04-09T17:49:47.732Z"
   },
   {
    "duration": 11,
    "start_time": "2022-04-09T17:49:47.742Z"
   },
   {
    "duration": 66,
    "start_time": "2022-04-09T17:49:47.757Z"
   },
   {
    "duration": 23,
    "start_time": "2022-04-09T17:49:47.825Z"
   },
   {
    "duration": 6,
    "start_time": "2022-04-09T17:49:47.850Z"
   },
   {
    "duration": 13,
    "start_time": "2022-04-09T17:49:47.858Z"
   },
   {
    "duration": 37,
    "start_time": "2022-04-09T17:49:47.873Z"
   },
   {
    "duration": 182,
    "start_time": "2022-04-09T17:49:47.911Z"
   },
   {
    "duration": 30,
    "start_time": "2022-04-09T17:49:48.095Z"
   },
   {
    "duration": 17,
    "start_time": "2022-04-09T17:49:48.127Z"
   },
   {
    "duration": 8,
    "start_time": "2022-04-09T17:49:48.146Z"
   },
   {
    "duration": 15,
    "start_time": "2022-04-09T17:49:48.156Z"
   },
   {
    "duration": 194,
    "start_time": "2022-04-09T17:49:48.173Z"
   },
   {
    "duration": 17,
    "start_time": "2022-04-09T17:49:48.368Z"
   },
   {
    "duration": 47,
    "start_time": "2022-04-09T17:49:48.387Z"
   },
   {
    "duration": 7,
    "start_time": "2022-04-09T17:49:48.436Z"
   },
   {
    "duration": 27,
    "start_time": "2022-04-09T17:49:48.445Z"
   },
   {
    "duration": 10,
    "start_time": "2022-04-09T17:49:48.474Z"
   },
   {
    "duration": 30,
    "start_time": "2022-04-09T17:49:48.485Z"
   },
   {
    "duration": 166,
    "start_time": "2022-04-09T17:49:48.517Z"
   },
   {
    "duration": 7,
    "start_time": "2022-04-09T17:49:48.688Z"
   },
   {
    "duration": 10,
    "start_time": "2022-04-09T17:49:48.709Z"
   },
   {
    "duration": 9,
    "start_time": "2022-04-09T17:49:48.721Z"
   },
   {
    "duration": 6,
    "start_time": "2022-04-09T17:49:48.732Z"
   },
   {
    "duration": 7,
    "start_time": "2022-04-09T17:49:48.740Z"
   },
   {
    "duration": 8,
    "start_time": "2022-04-09T17:49:48.748Z"
   },
   {
    "duration": 81,
    "start_time": "2022-04-09T17:49:48.757Z"
   },
   {
    "duration": 25,
    "start_time": "2022-04-09T17:49:48.840Z"
   },
   {
    "duration": 50,
    "start_time": "2022-04-09T17:49:48.868Z"
   },
   {
    "duration": 12,
    "start_time": "2022-04-09T17:49:48.920Z"
   },
   {
    "duration": 37,
    "start_time": "2022-04-09T17:49:48.934Z"
   },
   {
    "duration": 42,
    "start_time": "2022-04-09T17:49:48.974Z"
   },
   {
    "duration": 26,
    "start_time": "2022-04-09T17:49:49.019Z"
   },
   {
    "duration": 15,
    "start_time": "2022-04-09T17:49:49.047Z"
   },
   {
    "duration": 4,
    "start_time": "2022-04-09T17:49:49.063Z"
   },
   {
    "duration": 58,
    "start_time": "2022-04-09T17:49:49.069Z"
   },
   {
    "duration": 1243,
    "start_time": "2022-04-09T17:49:49.129Z"
   },
   {
    "duration": 31,
    "start_time": "2022-04-09T17:50:33.843Z"
   },
   {
    "duration": 32,
    "start_time": "2022-04-09T17:51:31.493Z"
   },
   {
    "duration": 28,
    "start_time": "2022-04-09T18:06:18.414Z"
   },
   {
    "duration": 13,
    "start_time": "2022-04-09T18:08:06.300Z"
   },
   {
    "duration": 69,
    "start_time": "2022-04-09T18:09:04.781Z"
   },
   {
    "duration": 66,
    "start_time": "2022-04-09T18:11:10.847Z"
   },
   {
    "duration": 30,
    "start_time": "2022-04-09T18:11:16.960Z"
   },
   {
    "duration": 29,
    "start_time": "2022-04-09T18:11:46.070Z"
   },
   {
    "duration": 7,
    "start_time": "2022-04-09T18:12:34.030Z"
   },
   {
    "duration": 4,
    "start_time": "2022-04-09T18:16:02.473Z"
   },
   {
    "duration": 61,
    "start_time": "2022-04-09T18:18:45.571Z"
   },
   {
    "duration": 10,
    "start_time": "2022-04-09T18:19:03.436Z"
   },
   {
    "duration": 981,
    "start_time": "2022-04-09T19:18:45.940Z"
   },
   {
    "duration": 10,
    "start_time": "2022-04-09T19:19:15.226Z"
   },
   {
    "duration": 1037,
    "start_time": "2022-04-09T19:32:33.764Z"
   },
   {
    "duration": 111,
    "start_time": "2022-04-09T19:32:58.074Z"
   },
   {
    "duration": 131,
    "start_time": "2022-04-09T19:33:25.479Z"
   },
   {
    "duration": 142,
    "start_time": "2022-04-09T19:34:18.942Z"
   },
   {
    "duration": 3,
    "start_time": "2022-04-09T19:34:54.294Z"
   },
   {
    "duration": 6,
    "start_time": "2022-04-09T19:34:54.298Z"
   },
   {
    "duration": 418,
    "start_time": "2022-04-09T19:34:54.306Z"
   },
   {
    "duration": 73,
    "start_time": "2022-04-09T19:34:54.726Z"
   },
   {
    "duration": 9,
    "start_time": "2022-04-09T19:34:54.802Z"
   },
   {
    "duration": 14,
    "start_time": "2022-04-09T19:34:54.813Z"
   },
   {
    "duration": 13,
    "start_time": "2022-04-09T19:34:54.829Z"
   },
   {
    "duration": 16,
    "start_time": "2022-04-09T19:34:54.843Z"
   },
   {
    "duration": 26,
    "start_time": "2022-04-09T19:34:54.861Z"
   },
   {
    "duration": 47,
    "start_time": "2022-04-09T19:34:54.889Z"
   },
   {
    "duration": 23,
    "start_time": "2022-04-09T19:34:54.938Z"
   },
   {
    "duration": 5,
    "start_time": "2022-04-09T19:34:54.963Z"
   },
   {
    "duration": 11,
    "start_time": "2022-04-09T19:34:54.970Z"
   },
   {
    "duration": 15,
    "start_time": "2022-04-09T19:34:55.009Z"
   },
   {
    "duration": 185,
    "start_time": "2022-04-09T19:34:55.026Z"
   },
   {
    "duration": 24,
    "start_time": "2022-04-09T19:34:55.213Z"
   },
   {
    "duration": 17,
    "start_time": "2022-04-09T19:34:55.239Z"
   },
   {
    "duration": 9,
    "start_time": "2022-04-09T19:34:55.258Z"
   },
   {
    "duration": 44,
    "start_time": "2022-04-09T19:34:55.269Z"
   },
   {
    "duration": 186,
    "start_time": "2022-04-09T19:34:55.315Z"
   },
   {
    "duration": 17,
    "start_time": "2022-04-09T19:34:55.503Z"
   },
   {
    "duration": 29,
    "start_time": "2022-04-09T19:34:55.522Z"
   },
   {
    "duration": 8,
    "start_time": "2022-04-09T19:34:55.553Z"
   },
   {
    "duration": 46,
    "start_time": "2022-04-09T19:34:55.563Z"
   },
   {
    "duration": 10,
    "start_time": "2022-04-09T19:34:55.610Z"
   },
   {
    "duration": 9,
    "start_time": "2022-04-09T19:34:55.621Z"
   },
   {
    "duration": 168,
    "start_time": "2022-04-09T19:34:55.632Z"
   },
   {
    "duration": 11,
    "start_time": "2022-04-09T19:34:55.802Z"
   },
   {
    "duration": 14,
    "start_time": "2022-04-09T19:34:55.815Z"
   },
   {
    "duration": 15,
    "start_time": "2022-04-09T19:34:55.830Z"
   },
   {
    "duration": 7,
    "start_time": "2022-04-09T19:34:55.846Z"
   },
   {
    "duration": 13,
    "start_time": "2022-04-09T19:34:55.854Z"
   },
   {
    "duration": 7,
    "start_time": "2022-04-09T19:34:55.869Z"
   },
   {
    "duration": 57,
    "start_time": "2022-04-09T19:34:55.877Z"
   },
   {
    "duration": 27,
    "start_time": "2022-04-09T19:34:55.935Z"
   },
   {
    "duration": 46,
    "start_time": "2022-04-09T19:34:55.963Z"
   },
   {
    "duration": 10,
    "start_time": "2022-04-09T19:34:56.010Z"
   },
   {
    "duration": 35,
    "start_time": "2022-04-09T19:34:56.022Z"
   },
   {
    "duration": 12,
    "start_time": "2022-04-09T19:34:56.058Z"
   },
   {
    "duration": 50,
    "start_time": "2022-04-09T19:34:56.071Z"
   },
   {
    "duration": 12,
    "start_time": "2022-04-09T19:34:56.125Z"
   },
   {
    "duration": 3,
    "start_time": "2022-04-09T19:34:56.138Z"
   },
   {
    "duration": 31,
    "start_time": "2022-04-09T19:34:56.142Z"
   },
   {
    "duration": 160,
    "start_time": "2022-04-09T19:34:56.174Z"
   },
   {
    "duration": 151,
    "start_time": "2022-04-09T19:35:19.114Z"
   },
   {
    "duration": 2,
    "start_time": "2022-04-09T19:35:52.628Z"
   },
   {
    "duration": 5,
    "start_time": "2022-04-09T19:35:52.632Z"
   },
   {
    "duration": 397,
    "start_time": "2022-04-09T19:35:52.638Z"
   },
   {
    "duration": 69,
    "start_time": "2022-04-09T19:35:53.036Z"
   },
   {
    "duration": 14,
    "start_time": "2022-04-09T19:35:53.107Z"
   },
   {
    "duration": 9,
    "start_time": "2022-04-09T19:35:53.125Z"
   },
   {
    "duration": 8,
    "start_time": "2022-04-09T19:35:53.135Z"
   },
   {
    "duration": 9,
    "start_time": "2022-04-09T19:35:53.145Z"
   },
   {
    "duration": 10,
    "start_time": "2022-04-09T19:35:53.156Z"
   },
   {
    "duration": 70,
    "start_time": "2022-04-09T19:35:53.168Z"
   },
   {
    "duration": 24,
    "start_time": "2022-04-09T19:35:53.240Z"
   },
   {
    "duration": 5,
    "start_time": "2022-04-09T19:35:53.266Z"
   },
   {
    "duration": 12,
    "start_time": "2022-04-09T19:35:53.273Z"
   },
   {
    "duration": 35,
    "start_time": "2022-04-09T19:35:53.288Z"
   },
   {
    "duration": 192,
    "start_time": "2022-04-09T19:35:53.325Z"
   },
   {
    "duration": 25,
    "start_time": "2022-04-09T19:35:53.518Z"
   },
   {
    "duration": 19,
    "start_time": "2022-04-09T19:35:53.545Z"
   },
   {
    "duration": 10,
    "start_time": "2022-04-09T19:35:53.565Z"
   },
   {
    "duration": 42,
    "start_time": "2022-04-09T19:35:53.576Z"
   },
   {
    "duration": 171,
    "start_time": "2022-04-09T19:35:53.620Z"
   },
   {
    "duration": 31,
    "start_time": "2022-04-09T19:35:53.793Z"
   },
   {
    "duration": 32,
    "start_time": "2022-04-09T19:35:53.826Z"
   },
   {
    "duration": 9,
    "start_time": "2022-04-09T19:35:53.859Z"
   },
   {
    "duration": 50,
    "start_time": "2022-04-09T19:35:53.870Z"
   },
   {
    "duration": 11,
    "start_time": "2022-04-09T19:35:53.922Z"
   },
   {
    "duration": 9,
    "start_time": "2022-04-09T19:35:53.935Z"
   },
   {
    "duration": 282,
    "start_time": "2022-04-09T19:35:53.946Z"
   },
   {
    "duration": 8,
    "start_time": "2022-04-09T19:35:54.230Z"
   },
   {
    "duration": 15,
    "start_time": "2022-04-09T19:35:54.239Z"
   },
   {
    "duration": 10,
    "start_time": "2022-04-09T19:35:54.256Z"
   },
   {
    "duration": 6,
    "start_time": "2022-04-09T19:35:54.268Z"
   },
   {
    "duration": 38,
    "start_time": "2022-04-09T19:35:54.276Z"
   },
   {
    "duration": 8,
    "start_time": "2022-04-09T19:35:54.315Z"
   },
   {
    "duration": 40,
    "start_time": "2022-04-09T19:35:54.325Z"
   },
   {
    "duration": 44,
    "start_time": "2022-04-09T19:35:54.367Z"
   },
   {
    "duration": 35,
    "start_time": "2022-04-09T19:35:54.415Z"
   },
   {
    "duration": 14,
    "start_time": "2022-04-09T19:35:54.453Z"
   },
   {
    "duration": 66,
    "start_time": "2022-04-09T19:35:54.469Z"
   },
   {
    "duration": 13,
    "start_time": "2022-04-09T19:35:54.537Z"
   },
   {
    "duration": 26,
    "start_time": "2022-04-09T19:35:54.552Z"
   },
   {
    "duration": 36,
    "start_time": "2022-04-09T19:35:54.582Z"
   },
   {
    "duration": 4,
    "start_time": "2022-04-09T19:35:54.621Z"
   },
   {
    "duration": 33,
    "start_time": "2022-04-09T19:35:54.627Z"
   },
   {
    "duration": 174,
    "start_time": "2022-04-09T19:35:54.661Z"
   },
   {
    "duration": 162,
    "start_time": "2022-04-09T19:36:09.740Z"
   },
   {
    "duration": 266,
    "start_time": "2022-04-09T19:36:30.238Z"
   },
   {
    "duration": 235,
    "start_time": "2022-04-09T19:36:52.554Z"
   },
   {
    "duration": 270,
    "start_time": "2022-04-09T19:37:12.222Z"
   },
   {
    "duration": 6,
    "start_time": "2022-04-09T20:09:05.366Z"
   },
   {
    "duration": 506,
    "start_time": "2022-04-09T20:09:06.262Z"
   },
   {
    "duration": 5,
    "start_time": "2022-04-09T20:10:01.458Z"
   },
   {
    "duration": 490,
    "start_time": "2022-04-09T20:10:02.161Z"
   },
   {
    "duration": 5,
    "start_time": "2022-04-09T20:10:38.535Z"
   },
   {
    "duration": 593,
    "start_time": "2022-04-09T20:10:39.194Z"
   },
   {
    "duration": 6,
    "start_time": "2022-04-09T20:23:36.857Z"
   },
   {
    "duration": 451,
    "start_time": "2022-04-09T20:23:37.326Z"
   },
   {
    "duration": 436,
    "start_time": "2022-04-09T20:24:29.363Z"
   },
   {
    "duration": 432,
    "start_time": "2022-04-09T20:25:36.849Z"
   },
   {
    "duration": 619,
    "start_time": "2022-04-09T20:26:07.597Z"
   },
   {
    "duration": 9,
    "start_time": "2022-04-09T20:30:25.563Z"
   },
   {
    "duration": 8,
    "start_time": "2022-04-09T20:30:40.301Z"
   },
   {
    "duration": 26,
    "start_time": "2022-04-09T20:30:56.460Z"
   },
   {
    "duration": 7,
    "start_time": "2022-04-09T20:31:13.674Z"
   },
   {
    "duration": 7,
    "start_time": "2022-04-09T20:31:27.965Z"
   },
   {
    "duration": 9,
    "start_time": "2022-04-09T20:32:48.772Z"
   },
   {
    "duration": 7,
    "start_time": "2022-04-09T20:32:52.107Z"
   },
   {
    "duration": 7,
    "start_time": "2022-04-09T20:33:10.826Z"
   },
   {
    "duration": 7,
    "start_time": "2022-04-09T20:33:11.776Z"
   },
   {
    "duration": 829,
    "start_time": "2022-04-10T06:31:00.326Z"
   },
   {
    "duration": 2,
    "start_time": "2022-04-10T06:31:01.158Z"
   },
   {
    "duration": 411,
    "start_time": "2022-04-10T06:31:01.162Z"
   },
   {
    "duration": 71,
    "start_time": "2022-04-10T06:31:01.575Z"
   },
   {
    "duration": 13,
    "start_time": "2022-04-10T06:31:01.649Z"
   },
   {
    "duration": 10,
    "start_time": "2022-04-10T06:31:01.664Z"
   },
   {
    "duration": 12,
    "start_time": "2022-04-10T06:31:01.675Z"
   },
   {
    "duration": 14,
    "start_time": "2022-04-10T06:31:01.689Z"
   },
   {
    "duration": 21,
    "start_time": "2022-04-10T06:31:01.705Z"
   },
   {
    "duration": 53,
    "start_time": "2022-04-10T06:31:01.727Z"
   },
   {
    "duration": 23,
    "start_time": "2022-04-10T06:31:01.782Z"
   },
   {
    "duration": 6,
    "start_time": "2022-04-10T06:31:01.806Z"
   },
   {
    "duration": 35,
    "start_time": "2022-04-10T06:31:01.814Z"
   },
   {
    "duration": 26,
    "start_time": "2022-04-10T06:31:01.852Z"
   },
   {
    "duration": 191,
    "start_time": "2022-04-10T06:31:01.882Z"
   },
   {
    "duration": 24,
    "start_time": "2022-04-10T06:31:02.074Z"
   },
   {
    "duration": 23,
    "start_time": "2022-04-10T06:31:02.100Z"
   },
   {
    "duration": 24,
    "start_time": "2022-04-10T06:31:02.125Z"
   },
   {
    "duration": 45,
    "start_time": "2022-04-10T06:31:02.150Z"
   },
   {
    "duration": 196,
    "start_time": "2022-04-10T06:31:02.197Z"
   },
   {
    "duration": 17,
    "start_time": "2022-04-10T06:31:02.394Z"
   },
   {
    "duration": 45,
    "start_time": "2022-04-10T06:31:02.413Z"
   },
   {
    "duration": 8,
    "start_time": "2022-04-10T06:31:02.460Z"
   },
   {
    "duration": 30,
    "start_time": "2022-04-10T06:31:02.470Z"
   },
   {
    "duration": 16,
    "start_time": "2022-04-10T06:31:02.502Z"
   },
   {
    "duration": 12,
    "start_time": "2022-04-10T06:31:02.520Z"
   },
   {
    "duration": 162,
    "start_time": "2022-04-10T06:31:02.534Z"
   },
   {
    "duration": 8,
    "start_time": "2022-04-10T06:31:02.697Z"
   },
   {
    "duration": 18,
    "start_time": "2022-04-10T06:31:02.706Z"
   },
   {
    "duration": 26,
    "start_time": "2022-04-10T06:31:02.726Z"
   },
   {
    "duration": 40,
    "start_time": "2022-04-10T06:31:02.754Z"
   },
   {
    "duration": 11,
    "start_time": "2022-04-10T06:31:02.795Z"
   },
   {
    "duration": 9,
    "start_time": "2022-04-10T06:31:02.808Z"
   },
   {
    "duration": 40,
    "start_time": "2022-04-10T06:31:02.818Z"
   },
   {
    "duration": 28,
    "start_time": "2022-04-10T06:31:02.859Z"
   },
   {
    "duration": 24,
    "start_time": "2022-04-10T06:31:02.889Z"
   },
   {
    "duration": 10,
    "start_time": "2022-04-10T06:31:02.915Z"
   },
   {
    "duration": 53,
    "start_time": "2022-04-10T06:31:02.927Z"
   },
   {
    "duration": 12,
    "start_time": "2022-04-10T06:31:02.982Z"
   },
   {
    "duration": 26,
    "start_time": "2022-04-10T06:31:02.995Z"
   },
   {
    "duration": 32,
    "start_time": "2022-04-10T06:31:03.025Z"
   },
   {
    "duration": 3,
    "start_time": "2022-04-10T06:31:03.059Z"
   },
   {
    "duration": 33,
    "start_time": "2022-04-10T06:31:03.063Z"
   },
   {
    "duration": 208,
    "start_time": "2022-04-10T06:31:03.098Z"
   },
   {
    "duration": 5,
    "start_time": "2022-04-10T06:31:03.308Z"
   },
   {
    "duration": 525,
    "start_time": "2022-04-10T06:31:03.315Z"
   },
   {
    "duration": 424,
    "start_time": "2022-04-10T06:31:03.842Z"
   },
   {
    "duration": 429,
    "start_time": "2022-04-10T06:31:04.267Z"
   },
   {
    "duration": 531,
    "start_time": "2022-04-10T06:31:04.697Z"
   },
   {
    "duration": 7,
    "start_time": "2022-04-10T06:31:05.230Z"
   },
   {
    "duration": 14,
    "start_time": "2022-04-10T06:31:05.238Z"
   },
   {
    "duration": 69,
    "start_time": "2022-04-10T06:31:05.253Z"
   },
   {
    "duration": 433,
    "start_time": "2022-04-10T06:32:03.108Z"
   },
   {
    "duration": 3,
    "start_time": "2022-04-10T06:32:03.543Z"
   },
   {
    "duration": 388,
    "start_time": "2022-04-10T06:32:03.547Z"
   },
   {
    "duration": 68,
    "start_time": "2022-04-10T06:32:03.937Z"
   },
   {
    "duration": 8,
    "start_time": "2022-04-10T06:32:04.008Z"
   },
   {
    "duration": 10,
    "start_time": "2022-04-10T06:32:04.018Z"
   },
   {
    "duration": 8,
    "start_time": "2022-04-10T06:32:04.047Z"
   },
   {
    "duration": 12,
    "start_time": "2022-04-10T06:32:04.057Z"
   },
   {
    "duration": 11,
    "start_time": "2022-04-10T06:32:04.071Z"
   },
   {
    "duration": 32,
    "start_time": "2022-04-10T06:32:04.084Z"
   },
   {
    "duration": 46,
    "start_time": "2022-04-10T06:32:04.118Z"
   },
   {
    "duration": 7,
    "start_time": "2022-04-10T06:32:04.166Z"
   },
   {
    "duration": 12,
    "start_time": "2022-04-10T06:32:04.175Z"
   },
   {
    "duration": 14,
    "start_time": "2022-04-10T06:32:04.191Z"
   },
   {
    "duration": 193,
    "start_time": "2022-04-10T06:32:04.207Z"
   },
   {
    "duration": 23,
    "start_time": "2022-04-10T06:32:04.402Z"
   },
   {
    "duration": 30,
    "start_time": "2022-04-10T06:32:04.427Z"
   },
   {
    "duration": 10,
    "start_time": "2022-04-10T06:32:04.459Z"
   },
   {
    "duration": 14,
    "start_time": "2022-04-10T06:32:04.471Z"
   },
   {
    "duration": 187,
    "start_time": "2022-04-10T06:32:04.487Z"
   },
   {
    "duration": 16,
    "start_time": "2022-04-10T06:32:04.677Z"
   },
   {
    "duration": 30,
    "start_time": "2022-04-10T06:32:04.695Z"
   },
   {
    "duration": 26,
    "start_time": "2022-04-10T06:32:04.727Z"
   },
   {
    "duration": 24,
    "start_time": "2022-04-10T06:32:04.755Z"
   },
   {
    "duration": 8,
    "start_time": "2022-04-10T06:32:04.781Z"
   },
   {
    "duration": 7,
    "start_time": "2022-04-10T06:32:04.791Z"
   },
   {
    "duration": 175,
    "start_time": "2022-04-10T06:32:04.799Z"
   },
   {
    "duration": 7,
    "start_time": "2022-04-10T06:32:04.975Z"
   },
   {
    "duration": 16,
    "start_time": "2022-04-10T06:32:04.983Z"
   },
   {
    "duration": 11,
    "start_time": "2022-04-10T06:32:05.000Z"
   },
   {
    "duration": 8,
    "start_time": "2022-04-10T06:32:05.012Z"
   },
   {
    "duration": 27,
    "start_time": "2022-04-10T06:32:05.021Z"
   },
   {
    "duration": 7,
    "start_time": "2022-04-10T06:32:05.050Z"
   },
   {
    "duration": 37,
    "start_time": "2022-04-10T06:32:05.058Z"
   },
   {
    "duration": 23,
    "start_time": "2022-04-10T06:32:05.097Z"
   },
   {
    "duration": 49,
    "start_time": "2022-04-10T06:32:05.121Z"
   },
   {
    "duration": 10,
    "start_time": "2022-04-10T06:32:05.172Z"
   },
   {
    "duration": 35,
    "start_time": "2022-04-10T06:32:05.183Z"
   },
   {
    "duration": 33,
    "start_time": "2022-04-10T06:32:05.219Z"
   },
   {
    "duration": 26,
    "start_time": "2022-04-10T06:32:05.253Z"
   },
   {
    "duration": 12,
    "start_time": "2022-04-10T06:32:05.283Z"
   },
   {
    "duration": 3,
    "start_time": "2022-04-10T06:32:05.297Z"
   },
   {
    "duration": 56,
    "start_time": "2022-04-10T06:32:05.301Z"
   },
   {
    "duration": 203,
    "start_time": "2022-04-10T06:32:05.358Z"
   },
   {
    "duration": 5,
    "start_time": "2022-04-10T06:32:05.563Z"
   },
   {
    "duration": 546,
    "start_time": "2022-04-10T06:32:05.570Z"
   },
   {
    "duration": 423,
    "start_time": "2022-04-10T06:32:06.117Z"
   },
   {
    "duration": 428,
    "start_time": "2022-04-10T06:32:06.541Z"
   },
   {
    "duration": 556,
    "start_time": "2022-04-10T06:32:06.970Z"
   },
   {
    "duration": 20,
    "start_time": "2022-04-10T06:32:07.528Z"
   },
   {
    "duration": 7,
    "start_time": "2022-04-10T06:32:07.549Z"
   },
   {
    "duration": 11,
    "start_time": "2022-04-10T06:32:07.558Z"
   },
   {
    "duration": 1234,
    "start_time": "2022-04-10T13:21:13.778Z"
   },
   {
    "duration": 3,
    "start_time": "2022-04-10T13:21:15.014Z"
   },
   {
    "duration": 400,
    "start_time": "2022-04-10T13:21:15.019Z"
   },
   {
    "duration": 63,
    "start_time": "2022-04-10T13:21:15.420Z"
   },
   {
    "duration": 10,
    "start_time": "2022-04-10T13:21:15.485Z"
   },
   {
    "duration": 10,
    "start_time": "2022-04-10T13:21:15.496Z"
   },
   {
    "duration": 11,
    "start_time": "2022-04-10T13:21:15.507Z"
   },
   {
    "duration": 10,
    "start_time": "2022-04-10T13:21:15.519Z"
   },
   {
    "duration": 11,
    "start_time": "2022-04-10T13:21:15.530Z"
   },
   {
    "duration": 46,
    "start_time": "2022-04-10T13:21:15.543Z"
   },
   {
    "duration": 20,
    "start_time": "2022-04-10T13:21:15.591Z"
   },
   {
    "duration": 6,
    "start_time": "2022-04-10T13:21:15.613Z"
   },
   {
    "duration": 9,
    "start_time": "2022-04-10T13:21:15.620Z"
   },
   {
    "duration": 12,
    "start_time": "2022-04-10T13:21:15.632Z"
   },
   {
    "duration": 180,
    "start_time": "2022-04-10T13:21:15.645Z"
   },
   {
    "duration": 23,
    "start_time": "2022-04-10T13:21:15.827Z"
   },
   {
    "duration": 16,
    "start_time": "2022-04-10T13:21:15.851Z"
   },
   {
    "duration": 9,
    "start_time": "2022-04-10T13:21:15.880Z"
   },
   {
    "duration": 14,
    "start_time": "2022-04-10T13:21:15.890Z"
   },
   {
    "duration": 158,
    "start_time": "2022-04-10T13:21:15.905Z"
   },
   {
    "duration": 24,
    "start_time": "2022-04-10T13:21:16.064Z"
   },
   {
    "duration": 31,
    "start_time": "2022-04-10T13:21:16.090Z"
   },
   {
    "duration": 7,
    "start_time": "2022-04-10T13:21:16.123Z"
   },
   {
    "duration": 24,
    "start_time": "2022-04-10T13:21:16.132Z"
   },
   {
    "duration": 31,
    "start_time": "2022-04-10T13:21:16.158Z"
   },
   {
    "duration": 8,
    "start_time": "2022-04-10T13:21:16.190Z"
   },
   {
    "duration": 167,
    "start_time": "2022-04-10T13:21:16.199Z"
   },
   {
    "duration": 7,
    "start_time": "2022-04-10T13:21:16.367Z"
   },
   {
    "duration": 14,
    "start_time": "2022-04-10T13:21:16.375Z"
   },
   {
    "duration": 8,
    "start_time": "2022-04-10T13:21:16.391Z"
   },
   {
    "duration": 7,
    "start_time": "2022-04-10T13:21:16.401Z"
   },
   {
    "duration": 7,
    "start_time": "2022-04-10T13:21:16.409Z"
   },
   {
    "duration": 6,
    "start_time": "2022-04-10T13:21:16.417Z"
   },
   {
    "duration": 61,
    "start_time": "2022-04-10T13:21:16.425Z"
   },
   {
    "duration": 27,
    "start_time": "2022-04-10T13:21:16.488Z"
   },
   {
    "duration": 23,
    "start_time": "2022-04-10T13:21:16.517Z"
   },
   {
    "duration": 9,
    "start_time": "2022-04-10T13:21:16.542Z"
   },
   {
    "duration": 33,
    "start_time": "2022-04-10T13:21:16.581Z"
   },
   {
    "duration": 12,
    "start_time": "2022-04-10T13:21:16.616Z"
   },
   {
    "duration": 23,
    "start_time": "2022-04-10T13:21:16.629Z"
   },
   {
    "duration": 33,
    "start_time": "2022-04-10T13:21:16.655Z"
   },
   {
    "duration": 5,
    "start_time": "2022-04-10T13:21:16.689Z"
   },
   {
    "duration": 30,
    "start_time": "2022-04-10T13:21:16.696Z"
   },
   {
    "duration": 218,
    "start_time": "2022-04-10T13:21:16.728Z"
   },
   {
    "duration": 6,
    "start_time": "2022-04-10T13:21:16.948Z"
   },
   {
    "duration": 427,
    "start_time": "2022-04-10T13:21:16.956Z"
   },
   {
    "duration": 475,
    "start_time": "2022-04-10T13:21:17.385Z"
   },
   {
    "duration": 408,
    "start_time": "2022-04-10T13:21:17.862Z"
   },
   {
    "duration": 411,
    "start_time": "2022-04-10T13:21:18.272Z"
   },
   {
    "duration": 8,
    "start_time": "2022-04-10T13:21:18.685Z"
   },
   {
    "duration": 8,
    "start_time": "2022-04-10T13:21:18.694Z"
   },
   {
    "duration": 5,
    "start_time": "2022-04-10T13:21:18.704Z"
   },
   {
    "duration": 2482,
    "start_time": "2022-04-10T13:21:18.711Z"
   },
   {
    "duration": 7,
    "start_time": "2022-04-10T13:21:47.045Z"
   },
   {
    "duration": 7,
    "start_time": "2022-04-10T13:22:43.783Z"
   },
   {
    "duration": 11,
    "start_time": "2022-04-10T13:22:53.587Z"
   },
   {
    "duration": 9,
    "start_time": "2022-04-10T13:23:30.639Z"
   },
   {
    "duration": 13,
    "start_time": "2022-04-10T13:24:07.124Z"
   },
   {
    "duration": 7,
    "start_time": "2022-04-10T13:24:25.323Z"
   },
   {
    "duration": 8,
    "start_time": "2022-04-10T13:24:57.835Z"
   },
   {
    "duration": 7,
    "start_time": "2022-04-10T13:25:17.304Z"
   },
   {
    "duration": 19,
    "start_time": "2022-04-10T13:28:25.227Z"
   },
   {
    "duration": 27,
    "start_time": "2022-04-10T13:30:29.627Z"
   },
   {
    "duration": 27,
    "start_time": "2022-04-10T13:30:39.375Z"
   },
   {
    "duration": 19,
    "start_time": "2022-04-10T13:37:12.120Z"
   },
   {
    "duration": 3107,
    "start_time": "2022-04-10T13:48:18.169Z"
   },
   {
    "duration": 10,
    "start_time": "2022-04-10T13:48:37.738Z"
   },
   {
    "duration": 11,
    "start_time": "2022-04-10T13:58:09.642Z"
   },
   {
    "duration": 10,
    "start_time": "2022-04-10T13:58:27.167Z"
   },
   {
    "duration": 12,
    "start_time": "2022-04-10T13:58:48.846Z"
   },
   {
    "duration": 102,
    "start_time": "2022-04-10T13:59:04.891Z"
   },
   {
    "duration": 9,
    "start_time": "2022-04-10T13:59:11.319Z"
   },
   {
    "duration": 3,
    "start_time": "2022-04-10T14:02:47.141Z"
   },
   {
    "duration": 7,
    "start_time": "2022-04-10T14:02:47.146Z"
   },
   {
    "duration": 402,
    "start_time": "2022-04-10T14:02:47.155Z"
   },
   {
    "duration": 65,
    "start_time": "2022-04-10T14:02:47.559Z"
   },
   {
    "duration": 8,
    "start_time": "2022-04-10T14:02:47.626Z"
   },
   {
    "duration": 9,
    "start_time": "2022-04-10T14:02:47.636Z"
   },
   {
    "duration": 7,
    "start_time": "2022-04-10T14:02:47.647Z"
   },
   {
    "duration": 26,
    "start_time": "2022-04-10T14:02:47.656Z"
   },
   {
    "duration": 11,
    "start_time": "2022-04-10T14:02:47.684Z"
   },
   {
    "duration": 33,
    "start_time": "2022-04-10T14:02:47.697Z"
   },
   {
    "duration": 22,
    "start_time": "2022-04-10T14:02:47.733Z"
   },
   {
    "duration": 27,
    "start_time": "2022-04-10T14:02:47.757Z"
   },
   {
    "duration": 9,
    "start_time": "2022-04-10T14:02:47.786Z"
   },
   {
    "duration": 16,
    "start_time": "2022-04-10T14:02:47.796Z"
   },
   {
    "duration": 162,
    "start_time": "2022-04-10T14:02:47.813Z"
   },
   {
    "duration": 24,
    "start_time": "2022-04-10T14:02:47.981Z"
   },
   {
    "duration": 16,
    "start_time": "2022-04-10T14:02:48.007Z"
   },
   {
    "duration": 10,
    "start_time": "2022-04-10T14:02:48.025Z"
   },
   {
    "duration": 12,
    "start_time": "2022-04-10T14:02:48.037Z"
   },
   {
    "duration": 176,
    "start_time": "2022-04-10T14:02:48.051Z"
   },
   {
    "duration": 14,
    "start_time": "2022-04-10T14:02:48.229Z"
   },
   {
    "duration": 41,
    "start_time": "2022-04-10T14:02:48.245Z"
   },
   {
    "duration": 7,
    "start_time": "2022-04-10T14:02:48.288Z"
   },
   {
    "duration": 24,
    "start_time": "2022-04-10T14:02:48.297Z"
   },
   {
    "duration": 8,
    "start_time": "2022-04-10T14:02:48.323Z"
   },
   {
    "duration": 9,
    "start_time": "2022-04-10T14:02:48.332Z"
   },
   {
    "duration": 153,
    "start_time": "2022-04-10T14:02:48.342Z"
   },
   {
    "duration": 6,
    "start_time": "2022-04-10T14:02:48.497Z"
   },
   {
    "duration": 14,
    "start_time": "2022-04-10T14:02:48.507Z"
   },
   {
    "duration": 8,
    "start_time": "2022-04-10T14:02:48.523Z"
   },
   {
    "duration": 8,
    "start_time": "2022-04-10T14:02:48.533Z"
   },
   {
    "duration": 9,
    "start_time": "2022-04-10T14:02:48.542Z"
   },
   {
    "duration": 29,
    "start_time": "2022-04-10T14:02:48.553Z"
   },
   {
    "duration": 143,
    "start_time": "2022-04-10T14:02:48.583Z"
   },
   {
    "duration": 23,
    "start_time": "2022-04-10T14:02:48.728Z"
   },
   {
    "duration": 33,
    "start_time": "2022-04-10T14:02:48.752Z"
   },
   {
    "duration": 10,
    "start_time": "2022-04-10T14:02:48.787Z"
   },
   {
    "duration": 32,
    "start_time": "2022-04-10T14:02:48.798Z"
   },
   {
    "duration": 11,
    "start_time": "2022-04-10T14:02:48.832Z"
   },
   {
    "duration": 46,
    "start_time": "2022-04-10T14:02:48.844Z"
   },
   {
    "duration": 11,
    "start_time": "2022-04-10T14:02:48.892Z"
   },
   {
    "duration": 4,
    "start_time": "2022-04-10T14:02:48.904Z"
   },
   {
    "duration": 28,
    "start_time": "2022-04-10T14:02:48.909Z"
   },
   {
    "duration": 221,
    "start_time": "2022-04-10T14:02:48.939Z"
   },
   {
    "duration": 6,
    "start_time": "2022-04-10T14:02:49.161Z"
   },
   {
    "duration": 418,
    "start_time": "2022-04-10T14:02:49.181Z"
   },
   {
    "duration": 416,
    "start_time": "2022-04-10T14:02:49.601Z"
   },
   {
    "duration": 409,
    "start_time": "2022-04-10T14:02:50.018Z"
   },
   {
    "duration": 515,
    "start_time": "2022-04-10T14:02:50.429Z"
   },
   {
    "duration": 7,
    "start_time": "2022-04-10T14:02:50.945Z"
   },
   {
    "duration": 8,
    "start_time": "2022-04-10T14:02:50.953Z"
   },
   {
    "duration": 123,
    "start_time": "2022-04-10T14:02:50.962Z"
   },
   {
    "duration": 9,
    "start_time": "2022-04-10T14:02:51.086Z"
   },
   {
    "duration": 98,
    "start_time": "2022-04-10T14:03:31.632Z"
   },
   {
    "duration": 125,
    "start_time": "2022-04-10T14:03:51.077Z"
   },
   {
    "duration": 9,
    "start_time": "2022-04-10T14:07:18.473Z"
   },
   {
    "duration": 3275,
    "start_time": "2022-04-10T14:08:39.512Z"
   },
   {
    "duration": 7,
    "start_time": "2022-04-10T14:08:54.861Z"
   },
   {
    "duration": 37,
    "start_time": "2022-04-10T14:09:56.264Z"
   },
   {
    "duration": 28,
    "start_time": "2022-04-10T14:10:15.620Z"
   },
   {
    "duration": 21,
    "start_time": "2022-04-10T14:11:18.651Z"
   },
   {
    "duration": 119,
    "start_time": "2022-04-10T14:11:33.219Z"
   },
   {
    "duration": 3,
    "start_time": "2022-04-10T14:18:34.642Z"
   },
   {
    "duration": 6,
    "start_time": "2022-04-10T14:18:34.647Z"
   },
   {
    "duration": 379,
    "start_time": "2022-04-10T14:18:34.654Z"
   },
   {
    "duration": 61,
    "start_time": "2022-04-10T14:18:35.035Z"
   },
   {
    "duration": 7,
    "start_time": "2022-04-10T14:18:35.097Z"
   },
   {
    "duration": 8,
    "start_time": "2022-04-10T14:18:35.106Z"
   },
   {
    "duration": 8,
    "start_time": "2022-04-10T14:18:35.115Z"
   },
   {
    "duration": 8,
    "start_time": "2022-04-10T14:18:35.125Z"
   },
   {
    "duration": 9,
    "start_time": "2022-04-10T14:18:35.136Z"
   },
   {
    "duration": 59,
    "start_time": "2022-04-10T14:18:35.147Z"
   },
   {
    "duration": 21,
    "start_time": "2022-04-10T14:18:35.208Z"
   },
   {
    "duration": 5,
    "start_time": "2022-04-10T14:18:35.231Z"
   },
   {
    "duration": 8,
    "start_time": "2022-04-10T14:18:35.238Z"
   },
   {
    "duration": 33,
    "start_time": "2022-04-10T14:18:35.248Z"
   },
   {
    "duration": 148,
    "start_time": "2022-04-10T14:18:35.283Z"
   },
   {
    "duration": 22,
    "start_time": "2022-04-10T14:18:35.433Z"
   },
   {
    "duration": 28,
    "start_time": "2022-04-10T14:18:35.456Z"
   },
   {
    "duration": 8,
    "start_time": "2022-04-10T14:18:35.486Z"
   },
   {
    "duration": 14,
    "start_time": "2022-04-10T14:18:35.495Z"
   },
   {
    "duration": 156,
    "start_time": "2022-04-10T14:18:35.511Z"
   },
   {
    "duration": 18,
    "start_time": "2022-04-10T14:18:35.669Z"
   },
   {
    "duration": 29,
    "start_time": "2022-04-10T14:18:35.688Z"
   },
   {
    "duration": 8,
    "start_time": "2022-04-10T14:18:35.718Z"
   },
   {
    "duration": 21,
    "start_time": "2022-04-10T14:18:35.730Z"
   },
   {
    "duration": 34,
    "start_time": "2022-04-10T14:18:35.752Z"
   },
   {
    "duration": 6,
    "start_time": "2022-04-10T14:18:35.788Z"
   },
   {
    "duration": 148,
    "start_time": "2022-04-10T14:18:35.795Z"
   },
   {
    "duration": 7,
    "start_time": "2022-04-10T14:18:35.945Z"
   },
   {
    "duration": 16,
    "start_time": "2022-04-10T14:18:35.953Z"
   },
   {
    "duration": 16,
    "start_time": "2022-04-10T14:18:35.970Z"
   },
   {
    "duration": 7,
    "start_time": "2022-04-10T14:18:35.987Z"
   },
   {
    "duration": 6,
    "start_time": "2022-04-10T14:18:35.996Z"
   },
   {
    "duration": 6,
    "start_time": "2022-04-10T14:18:36.004Z"
   },
   {
    "duration": 35,
    "start_time": "2022-04-10T14:18:36.012Z"
   },
   {
    "duration": 53,
    "start_time": "2022-04-10T14:18:36.049Z"
   },
   {
    "duration": 22,
    "start_time": "2022-04-10T14:18:36.103Z"
   },
   {
    "duration": 10,
    "start_time": "2022-04-10T14:18:36.126Z"
   },
   {
    "duration": 58,
    "start_time": "2022-04-10T14:18:36.138Z"
   },
   {
    "duration": 12,
    "start_time": "2022-04-10T14:18:36.198Z"
   },
   {
    "duration": 24,
    "start_time": "2022-04-10T14:18:36.212Z"
   },
   {
    "duration": 12,
    "start_time": "2022-04-10T14:18:36.238Z"
   },
   {
    "duration": 29,
    "start_time": "2022-04-10T14:18:36.252Z"
   },
   {
    "duration": 29,
    "start_time": "2022-04-10T14:18:36.282Z"
   },
   {
    "duration": 209,
    "start_time": "2022-04-10T14:18:36.313Z"
   },
   {
    "duration": 5,
    "start_time": "2022-04-10T14:18:36.524Z"
   },
   {
    "duration": 435,
    "start_time": "2022-04-10T14:18:36.531Z"
   },
   {
    "duration": 488,
    "start_time": "2022-04-10T14:18:36.968Z"
   },
   {
    "duration": 419,
    "start_time": "2022-04-10T14:18:37.457Z"
   },
   {
    "duration": 418,
    "start_time": "2022-04-10T14:18:37.880Z"
   },
   {
    "duration": 6,
    "start_time": "2022-04-10T14:18:38.300Z"
   },
   {
    "duration": 9,
    "start_time": "2022-04-10T14:18:38.307Z"
   },
   {
    "duration": 113,
    "start_time": "2022-04-10T14:18:38.317Z"
   },
   {
    "duration": 6,
    "start_time": "2022-04-10T14:18:38.431Z"
   },
   {
    "duration": 1105,
    "start_time": "2022-04-10T14:19:15.804Z"
   },
   {
    "duration": 3,
    "start_time": "2022-04-10T14:19:16.910Z"
   },
   {
    "duration": 423,
    "start_time": "2022-04-10T14:19:16.914Z"
   },
   {
    "duration": 61,
    "start_time": "2022-04-10T14:19:17.339Z"
   },
   {
    "duration": 10,
    "start_time": "2022-04-10T14:19:17.402Z"
   },
   {
    "duration": 7,
    "start_time": "2022-04-10T14:19:17.413Z"
   },
   {
    "duration": 7,
    "start_time": "2022-04-10T14:19:17.422Z"
   },
   {
    "duration": 7,
    "start_time": "2022-04-10T14:19:17.430Z"
   },
   {
    "duration": 10,
    "start_time": "2022-04-10T14:19:17.438Z"
   },
   {
    "duration": 57,
    "start_time": "2022-04-10T14:19:17.449Z"
   },
   {
    "duration": 20,
    "start_time": "2022-04-10T14:19:17.507Z"
   },
   {
    "duration": 6,
    "start_time": "2022-04-10T14:19:17.529Z"
   },
   {
    "duration": 10,
    "start_time": "2022-04-10T14:19:17.536Z"
   },
   {
    "duration": 18,
    "start_time": "2022-04-10T14:19:17.549Z"
   },
   {
    "duration": 242,
    "start_time": "2022-04-10T14:19:17.580Z"
   },
   {
    "duration": 32,
    "start_time": "2022-04-10T14:19:17.824Z"
   },
   {
    "duration": 30,
    "start_time": "2022-04-10T14:19:17.858Z"
   },
   {
    "duration": 13,
    "start_time": "2022-04-10T14:19:17.890Z"
   },
   {
    "duration": 18,
    "start_time": "2022-04-10T14:19:17.905Z"
   },
   {
    "duration": 173,
    "start_time": "2022-04-10T14:19:17.925Z"
   },
   {
    "duration": 16,
    "start_time": "2022-04-10T14:19:18.100Z"
   },
   {
    "duration": 29,
    "start_time": "2022-04-10T14:19:18.117Z"
   },
   {
    "duration": 8,
    "start_time": "2022-04-10T14:19:18.148Z"
   },
   {
    "duration": 40,
    "start_time": "2022-04-10T14:19:18.157Z"
   },
   {
    "duration": 9,
    "start_time": "2022-04-10T14:19:18.198Z"
   },
   {
    "duration": 7,
    "start_time": "2022-04-10T14:19:18.209Z"
   },
   {
    "duration": 168,
    "start_time": "2022-04-10T14:19:18.218Z"
   },
   {
    "duration": 6,
    "start_time": "2022-04-10T14:19:18.387Z"
   },
   {
    "duration": 11,
    "start_time": "2022-04-10T14:19:18.395Z"
   },
   {
    "duration": 7,
    "start_time": "2022-04-10T14:19:18.408Z"
   },
   {
    "duration": 11,
    "start_time": "2022-04-10T14:19:18.417Z"
   },
   {
    "duration": 12,
    "start_time": "2022-04-10T14:19:18.429Z"
   },
   {
    "duration": 10,
    "start_time": "2022-04-10T14:19:18.443Z"
   },
   {
    "duration": 83,
    "start_time": "2022-04-10T14:19:18.455Z"
   },
   {
    "duration": 54,
    "start_time": "2022-04-10T14:19:18.540Z"
   },
   {
    "duration": 34,
    "start_time": "2022-04-10T14:19:18.595Z"
   },
   {
    "duration": 10,
    "start_time": "2022-04-10T14:19:18.631Z"
   },
   {
    "duration": 61,
    "start_time": "2022-04-10T14:19:18.642Z"
   },
   {
    "duration": 13,
    "start_time": "2022-04-10T14:19:18.706Z"
   },
   {
    "duration": 38,
    "start_time": "2022-04-10T14:19:18.721Z"
   },
   {
    "duration": 28,
    "start_time": "2022-04-10T14:19:18.763Z"
   },
   {
    "duration": 9,
    "start_time": "2022-04-10T14:19:18.792Z"
   },
   {
    "duration": 43,
    "start_time": "2022-04-10T14:19:18.803Z"
   },
   {
    "duration": 246,
    "start_time": "2022-04-10T14:19:18.847Z"
   },
   {
    "duration": 9,
    "start_time": "2022-04-10T14:19:19.095Z"
   },
   {
    "duration": 486,
    "start_time": "2022-04-10T14:19:19.105Z"
   },
   {
    "duration": 519,
    "start_time": "2022-04-10T14:19:19.593Z"
   },
   {
    "duration": 492,
    "start_time": "2022-04-10T14:19:20.114Z"
   },
   {
    "duration": 586,
    "start_time": "2022-04-10T14:19:20.608Z"
   },
   {
    "duration": 8,
    "start_time": "2022-04-10T14:19:21.196Z"
   },
   {
    "duration": 17,
    "start_time": "2022-04-10T14:19:21.205Z"
   },
   {
    "duration": 127,
    "start_time": "2022-04-10T14:19:21.224Z"
   },
   {
    "duration": 8,
    "start_time": "2022-04-10T14:19:21.353Z"
   },
   {
    "duration": 118,
    "start_time": "2022-04-10T14:20:46.134Z"
   },
   {
    "duration": 5,
    "start_time": "2022-04-10T14:20:48.091Z"
   },
   {
    "duration": 205,
    "start_time": "2022-04-10T14:25:51.344Z"
   },
   {
    "duration": 8,
    "start_time": "2022-04-10T14:27:07.085Z"
   },
   {
    "duration": 16,
    "start_time": "2022-04-10T14:28:35.599Z"
   },
   {
    "duration": 18,
    "start_time": "2022-04-10T14:29:04.260Z"
   },
   {
    "duration": 13,
    "start_time": "2022-04-10T14:30:00.842Z"
   },
   {
    "duration": 117,
    "start_time": "2022-04-10T15:09:47.965Z"
   },
   {
    "duration": 4,
    "start_time": "2022-04-10T15:12:14.951Z"
   },
   {
    "duration": 29,
    "start_time": "2022-04-10T15:12:25.772Z"
   },
   {
    "duration": 1187,
    "start_time": "2022-04-10T15:14:10.954Z"
   },
   {
    "duration": 3,
    "start_time": "2022-04-10T15:14:12.143Z"
   },
   {
    "duration": 443,
    "start_time": "2022-04-10T15:14:12.147Z"
   },
   {
    "duration": 100,
    "start_time": "2022-04-10T15:14:12.593Z"
   },
   {
    "duration": 17,
    "start_time": "2022-04-10T15:14:12.695Z"
   },
   {
    "duration": 11,
    "start_time": "2022-04-10T15:14:12.714Z"
   },
   {
    "duration": 14,
    "start_time": "2022-04-10T15:14:12.726Z"
   },
   {
    "duration": 11,
    "start_time": "2022-04-10T15:14:12.742Z"
   },
   {
    "duration": 34,
    "start_time": "2022-04-10T15:14:12.755Z"
   },
   {
    "duration": 36,
    "start_time": "2022-04-10T15:14:12.793Z"
   },
   {
    "duration": 24,
    "start_time": "2022-04-10T15:14:12.831Z"
   },
   {
    "duration": 27,
    "start_time": "2022-04-10T15:14:12.857Z"
   },
   {
    "duration": 9,
    "start_time": "2022-04-10T15:14:12.886Z"
   },
   {
    "duration": 15,
    "start_time": "2022-04-10T15:14:12.897Z"
   },
   {
    "duration": 197,
    "start_time": "2022-04-10T15:14:12.913Z"
   },
   {
    "duration": 23,
    "start_time": "2022-04-10T15:14:13.111Z"
   },
   {
    "duration": 16,
    "start_time": "2022-04-10T15:14:13.136Z"
   },
   {
    "duration": 8,
    "start_time": "2022-04-10T15:14:13.154Z"
   },
   {
    "duration": 27,
    "start_time": "2022-04-10T15:14:13.164Z"
   },
   {
    "duration": 165,
    "start_time": "2022-04-10T15:14:13.193Z"
   },
   {
    "duration": 23,
    "start_time": "2022-04-10T15:14:13.359Z"
   },
   {
    "duration": 32,
    "start_time": "2022-04-10T15:14:13.383Z"
   },
   {
    "duration": 7,
    "start_time": "2022-04-10T15:14:13.417Z"
   },
   {
    "duration": 24,
    "start_time": "2022-04-10T15:14:13.426Z"
   },
   {
    "duration": 29,
    "start_time": "2022-04-10T15:14:13.452Z"
   },
   {
    "duration": 6,
    "start_time": "2022-04-10T15:14:13.483Z"
   },
   {
    "duration": 148,
    "start_time": "2022-04-10T15:14:13.490Z"
   },
   {
    "duration": 7,
    "start_time": "2022-04-10T15:14:13.641Z"
   },
   {
    "duration": 12,
    "start_time": "2022-04-10T15:14:13.650Z"
   },
   {
    "duration": 19,
    "start_time": "2022-04-10T15:14:13.664Z"
   },
   {
    "duration": 6,
    "start_time": "2022-04-10T15:14:13.685Z"
   },
   {
    "duration": 8,
    "start_time": "2022-04-10T15:14:13.693Z"
   },
   {
    "duration": 9,
    "start_time": "2022-04-10T15:14:13.702Z"
   },
   {
    "duration": 43,
    "start_time": "2022-04-10T15:14:13.714Z"
   },
   {
    "duration": 50,
    "start_time": "2022-04-10T15:14:13.759Z"
   },
   {
    "duration": 25,
    "start_time": "2022-04-10T15:14:13.811Z"
   },
   {
    "duration": 10,
    "start_time": "2022-04-10T15:14:13.838Z"
   },
   {
    "duration": 62,
    "start_time": "2022-04-10T15:14:13.850Z"
   },
   {
    "duration": 13,
    "start_time": "2022-04-10T15:14:13.913Z"
   },
   {
    "duration": 29,
    "start_time": "2022-04-10T15:14:13.928Z"
   },
   {
    "duration": 33,
    "start_time": "2022-04-10T15:14:13.959Z"
   },
   {
    "duration": 3,
    "start_time": "2022-04-10T15:14:13.994Z"
   },
   {
    "duration": 29,
    "start_time": "2022-04-10T15:14:13.999Z"
   },
   {
    "duration": 147,
    "start_time": "2022-04-10T15:14:14.030Z"
   },
   {
    "duration": 6,
    "start_time": "2022-04-10T15:14:14.180Z"
   },
   {
    "duration": 466,
    "start_time": "2022-04-10T15:14:14.188Z"
   },
   {
    "duration": 420,
    "start_time": "2022-04-10T15:14:14.656Z"
   },
   {
    "duration": 466,
    "start_time": "2022-04-10T15:14:15.081Z"
   },
   {
    "duration": 438,
    "start_time": "2022-04-10T15:14:15.548Z"
   },
   {
    "duration": 27,
    "start_time": "2022-04-10T15:14:15.988Z"
   },
   {
    "duration": 289,
    "start_time": "2022-04-10T15:14:16.016Z"
   },
   {
    "duration": 7,
    "start_time": "2022-04-10T15:14:16.307Z"
   },
   {
    "duration": 17,
    "start_time": "2022-04-10T15:14:16.315Z"
   },
   {
    "duration": 6,
    "start_time": "2022-04-10T15:14:16.334Z"
   },
   {
    "duration": 13,
    "start_time": "2022-04-10T15:14:16.341Z"
   },
   {
    "duration": 3,
    "start_time": "2022-04-10T16:08:34.333Z"
   },
   {
    "duration": 6,
    "start_time": "2022-04-10T16:08:34.338Z"
   },
   {
    "duration": 392,
    "start_time": "2022-04-10T16:08:34.345Z"
   },
   {
    "duration": 61,
    "start_time": "2022-04-10T16:08:34.739Z"
   },
   {
    "duration": 8,
    "start_time": "2022-04-10T16:08:34.801Z"
   },
   {
    "duration": 9,
    "start_time": "2022-04-10T16:08:34.810Z"
   },
   {
    "duration": 7,
    "start_time": "2022-04-10T16:08:34.820Z"
   },
   {
    "duration": 9,
    "start_time": "2022-04-10T16:08:34.828Z"
   },
   {
    "duration": 10,
    "start_time": "2022-04-10T16:08:34.838Z"
   },
   {
    "duration": 45,
    "start_time": "2022-04-10T16:08:34.850Z"
   },
   {
    "duration": 21,
    "start_time": "2022-04-10T16:08:34.897Z"
   },
   {
    "duration": 4,
    "start_time": "2022-04-10T16:08:34.919Z"
   },
   {
    "duration": 7,
    "start_time": "2022-04-10T16:08:34.926Z"
   },
   {
    "duration": 18,
    "start_time": "2022-04-10T16:08:34.934Z"
   },
   {
    "duration": 164,
    "start_time": "2022-04-10T16:08:34.953Z"
   },
   {
    "duration": 20,
    "start_time": "2022-04-10T16:08:35.119Z"
   },
   {
    "duration": 15,
    "start_time": "2022-04-10T16:08:35.141Z"
   },
   {
    "duration": 24,
    "start_time": "2022-04-10T16:08:35.157Z"
   },
   {
    "duration": 11,
    "start_time": "2022-04-10T16:08:35.183Z"
   },
   {
    "duration": 162,
    "start_time": "2022-04-10T16:08:35.195Z"
   },
   {
    "duration": 13,
    "start_time": "2022-04-10T16:08:35.359Z"
   },
   {
    "duration": 28,
    "start_time": "2022-04-10T16:08:35.380Z"
   },
   {
    "duration": 7,
    "start_time": "2022-04-10T16:08:35.410Z"
   },
   {
    "duration": 21,
    "start_time": "2022-04-10T16:08:35.418Z"
   },
   {
    "duration": 8,
    "start_time": "2022-04-10T16:08:35.441Z"
   },
   {
    "duration": 30,
    "start_time": "2022-04-10T16:08:35.451Z"
   },
   {
    "duration": 138,
    "start_time": "2022-04-10T16:08:35.483Z"
   },
   {
    "duration": 7,
    "start_time": "2022-04-10T16:08:35.622Z"
   },
   {
    "duration": 12,
    "start_time": "2022-04-10T16:08:35.630Z"
   },
   {
    "duration": 7,
    "start_time": "2022-04-10T16:08:35.644Z"
   },
   {
    "duration": 6,
    "start_time": "2022-04-10T16:08:35.652Z"
   },
   {
    "duration": 26,
    "start_time": "2022-04-10T16:08:35.659Z"
   },
   {
    "duration": 6,
    "start_time": "2022-04-10T16:08:35.686Z"
   },
   {
    "duration": 35,
    "start_time": "2022-04-10T16:08:35.694Z"
   },
   {
    "duration": 24,
    "start_time": "2022-04-10T16:08:35.730Z"
   },
   {
    "duration": 44,
    "start_time": "2022-04-10T16:08:35.756Z"
   },
   {
    "duration": 10,
    "start_time": "2022-04-10T16:08:35.804Z"
   },
   {
    "duration": 35,
    "start_time": "2022-04-10T16:08:35.815Z"
   },
   {
    "duration": 33,
    "start_time": "2022-04-10T16:08:35.851Z"
   },
   {
    "duration": 25,
    "start_time": "2022-04-10T16:08:35.886Z"
   },
   {
    "duration": 13,
    "start_time": "2022-04-10T16:08:35.913Z"
   },
   {
    "duration": 9,
    "start_time": "2022-04-10T16:08:35.928Z"
   },
   {
    "duration": 52,
    "start_time": "2022-04-10T16:08:35.938Z"
   },
   {
    "duration": 133,
    "start_time": "2022-04-10T16:08:35.992Z"
   },
   {
    "duration": 7,
    "start_time": "2022-04-10T16:08:36.127Z"
   },
   {
    "duration": 504,
    "start_time": "2022-04-10T16:08:36.135Z"
   },
   {
    "duration": 398,
    "start_time": "2022-04-10T16:08:36.641Z"
   },
   {
    "duration": 396,
    "start_time": "2022-04-10T16:08:37.041Z"
   },
   {
    "duration": 412,
    "start_time": "2022-04-10T16:08:37.439Z"
   },
   {
    "duration": 37,
    "start_time": "2022-04-10T16:08:37.852Z"
   },
   {
    "duration": 293,
    "start_time": "2022-04-10T16:08:37.891Z"
   },
   {
    "duration": 6,
    "start_time": "2022-04-10T16:08:38.186Z"
   },
   {
    "duration": 14,
    "start_time": "2022-04-10T16:08:38.193Z"
   },
   {
    "duration": 6,
    "start_time": "2022-04-10T16:08:38.209Z"
   },
   {
    "duration": 12,
    "start_time": "2022-04-10T16:08:38.216Z"
   },
   {
    "duration": 1020,
    "start_time": "2022-04-10T16:44:55.219Z"
   },
   {
    "duration": 2,
    "start_time": "2022-04-10T16:44:56.241Z"
   },
   {
    "duration": 383,
    "start_time": "2022-04-10T16:44:56.245Z"
   },
   {
    "duration": 61,
    "start_time": "2022-04-10T16:44:56.630Z"
   },
   {
    "duration": 11,
    "start_time": "2022-04-10T16:44:56.692Z"
   },
   {
    "duration": 8,
    "start_time": "2022-04-10T16:44:56.704Z"
   },
   {
    "duration": 9,
    "start_time": "2022-04-10T16:44:56.713Z"
   },
   {
    "duration": 9,
    "start_time": "2022-04-10T16:44:56.724Z"
   },
   {
    "duration": 12,
    "start_time": "2022-04-10T16:44:56.734Z"
   },
   {
    "duration": 60,
    "start_time": "2022-04-10T16:44:56.748Z"
   },
   {
    "duration": 21,
    "start_time": "2022-04-10T16:44:56.810Z"
   },
   {
    "duration": 5,
    "start_time": "2022-04-10T16:44:56.832Z"
   },
   {
    "duration": 8,
    "start_time": "2022-04-10T16:44:56.838Z"
   },
   {
    "duration": 14,
    "start_time": "2022-04-10T16:44:56.847Z"
   },
   {
    "duration": 182,
    "start_time": "2022-04-10T16:44:56.863Z"
   },
   {
    "duration": 20,
    "start_time": "2022-04-10T16:44:57.046Z"
   },
   {
    "duration": 23,
    "start_time": "2022-04-10T16:44:57.068Z"
   },
   {
    "duration": 8,
    "start_time": "2022-04-10T16:44:57.092Z"
   },
   {
    "duration": 14,
    "start_time": "2022-04-10T16:44:57.101Z"
   },
   {
    "duration": 152,
    "start_time": "2022-04-10T16:44:57.116Z"
   },
   {
    "duration": 19,
    "start_time": "2022-04-10T16:44:57.269Z"
   },
   {
    "duration": 28,
    "start_time": "2022-04-10T16:44:57.289Z"
   },
   {
    "duration": 7,
    "start_time": "2022-04-10T16:44:57.318Z"
   },
   {
    "duration": 33,
    "start_time": "2022-04-10T16:44:57.326Z"
   },
   {
    "duration": 8,
    "start_time": "2022-04-10T16:44:57.361Z"
   },
   {
    "duration": 6,
    "start_time": "2022-04-10T16:44:57.381Z"
   },
   {
    "duration": 135,
    "start_time": "2022-04-10T16:44:57.389Z"
   },
   {
    "duration": 7,
    "start_time": "2022-04-10T16:44:57.527Z"
   },
   {
    "duration": 11,
    "start_time": "2022-04-10T16:44:57.535Z"
   },
   {
    "duration": 10,
    "start_time": "2022-04-10T16:44:57.547Z"
   },
   {
    "duration": 6,
    "start_time": "2022-04-10T16:44:57.558Z"
   },
   {
    "duration": 5,
    "start_time": "2022-04-10T16:44:57.580Z"
   },
   {
    "duration": 6,
    "start_time": "2022-04-10T16:44:57.587Z"
   },
   {
    "duration": 37,
    "start_time": "2022-04-10T16:44:57.594Z"
   },
   {
    "duration": 24,
    "start_time": "2022-04-10T16:44:57.632Z"
   },
   {
    "duration": 24,
    "start_time": "2022-04-10T16:44:57.681Z"
   },
   {
    "duration": 10,
    "start_time": "2022-04-10T16:44:57.706Z"
   },
   {
    "duration": 32,
    "start_time": "2022-04-10T16:44:57.717Z"
   },
   {
    "duration": 30,
    "start_time": "2022-04-10T16:44:57.751Z"
   },
   {
    "duration": 21,
    "start_time": "2022-04-10T16:44:57.783Z"
   },
   {
    "duration": 11,
    "start_time": "2022-04-10T16:44:57.805Z"
   },
   {
    "duration": 3,
    "start_time": "2022-04-10T16:44:57.817Z"
   },
   {
    "duration": 30,
    "start_time": "2022-04-10T16:44:57.821Z"
   },
   {
    "duration": 141,
    "start_time": "2022-04-10T16:44:57.852Z"
   },
   {
    "duration": 5,
    "start_time": "2022-04-10T16:44:57.995Z"
   },
   {
    "duration": 416,
    "start_time": "2022-04-10T16:44:58.001Z"
   },
   {
    "duration": 387,
    "start_time": "2022-04-10T16:44:58.419Z"
   },
   {
    "duration": 474,
    "start_time": "2022-04-10T16:44:58.808Z"
   },
   {
    "duration": 413,
    "start_time": "2022-04-10T16:44:59.284Z"
   },
   {
    "duration": 26,
    "start_time": "2022-04-10T16:44:59.699Z"
   },
   {
    "duration": 240,
    "start_time": "2022-04-10T16:44:59.727Z"
   },
   {
    "duration": 13,
    "start_time": "2022-04-10T16:44:59.969Z"
   },
   {
    "duration": 10,
    "start_time": "2022-04-10T16:44:59.984Z"
   },
   {
    "duration": 5,
    "start_time": "2022-04-10T16:44:59.996Z"
   },
   {
    "duration": 20,
    "start_time": "2022-04-10T16:45:00.003Z"
   },
   {
    "duration": 1140,
    "start_time": "2022-04-10T16:49:25.169Z"
   },
   {
    "duration": 2,
    "start_time": "2022-04-10T16:49:26.311Z"
   },
   {
    "duration": 407,
    "start_time": "2022-04-10T16:49:26.314Z"
   },
   {
    "duration": 61,
    "start_time": "2022-04-10T16:49:26.723Z"
   },
   {
    "duration": 10,
    "start_time": "2022-04-10T16:49:26.787Z"
   },
   {
    "duration": 27,
    "start_time": "2022-04-10T16:49:26.798Z"
   },
   {
    "duration": 18,
    "start_time": "2022-04-10T16:49:26.826Z"
   },
   {
    "duration": 23,
    "start_time": "2022-04-10T16:49:26.846Z"
   },
   {
    "duration": 32,
    "start_time": "2022-04-10T16:49:26.871Z"
   },
   {
    "duration": 49,
    "start_time": "2022-04-10T16:49:26.905Z"
   },
   {
    "duration": 25,
    "start_time": "2022-04-10T16:49:26.956Z"
   },
   {
    "duration": 13,
    "start_time": "2022-04-10T16:49:26.984Z"
   },
   {
    "duration": 31,
    "start_time": "2022-04-10T16:49:26.999Z"
   },
   {
    "duration": 24,
    "start_time": "2022-04-10T16:49:27.034Z"
   },
   {
    "duration": 181,
    "start_time": "2022-04-10T16:49:27.059Z"
   },
   {
    "duration": 22,
    "start_time": "2022-04-10T16:49:27.242Z"
   },
   {
    "duration": 26,
    "start_time": "2022-04-10T16:49:27.265Z"
   },
   {
    "duration": 9,
    "start_time": "2022-04-10T16:49:27.293Z"
   },
   {
    "duration": 19,
    "start_time": "2022-04-10T16:49:27.304Z"
   },
   {
    "duration": 152,
    "start_time": "2022-04-10T16:49:27.325Z"
   },
   {
    "duration": 18,
    "start_time": "2022-04-10T16:49:27.479Z"
   },
   {
    "duration": 36,
    "start_time": "2022-04-10T16:49:27.499Z"
   },
   {
    "duration": 23,
    "start_time": "2022-04-10T16:49:27.537Z"
   },
   {
    "duration": 36,
    "start_time": "2022-04-10T16:49:27.561Z"
   },
   {
    "duration": 19,
    "start_time": "2022-04-10T16:49:27.598Z"
   },
   {
    "duration": 11,
    "start_time": "2022-04-10T16:49:27.618Z"
   },
   {
    "duration": 142,
    "start_time": "2022-04-10T16:49:27.630Z"
   },
   {
    "duration": 6,
    "start_time": "2022-04-10T16:49:27.774Z"
   },
   {
    "duration": 28,
    "start_time": "2022-04-10T16:49:27.782Z"
   },
   {
    "duration": 28,
    "start_time": "2022-04-10T16:49:27.811Z"
   },
   {
    "duration": 13,
    "start_time": "2022-04-10T16:49:27.841Z"
   },
   {
    "duration": 25,
    "start_time": "2022-04-10T16:49:27.855Z"
   },
   {
    "duration": 23,
    "start_time": "2022-04-10T16:49:27.881Z"
   },
   {
    "duration": 48,
    "start_time": "2022-04-10T16:49:27.905Z"
   },
   {
    "duration": 26,
    "start_time": "2022-04-10T16:49:27.955Z"
   },
   {
    "duration": 24,
    "start_time": "2022-04-10T16:49:27.982Z"
   },
   {
    "duration": 10,
    "start_time": "2022-04-10T16:49:28.008Z"
   },
   {
    "duration": 39,
    "start_time": "2022-04-10T16:49:28.020Z"
   },
   {
    "duration": 27,
    "start_time": "2022-04-10T16:49:28.061Z"
   },
   {
    "duration": 31,
    "start_time": "2022-04-10T16:49:28.089Z"
   },
   {
    "duration": 10,
    "start_time": "2022-04-10T16:49:28.124Z"
   },
   {
    "duration": 27,
    "start_time": "2022-04-10T16:49:28.135Z"
   },
   {
    "duration": 44,
    "start_time": "2022-04-10T16:49:28.164Z"
   },
   {
    "duration": 129,
    "start_time": "2022-04-10T16:49:28.209Z"
   },
   {
    "duration": 6,
    "start_time": "2022-04-10T16:49:28.339Z"
   },
   {
    "duration": 434,
    "start_time": "2022-04-10T16:49:28.347Z"
   },
   {
    "duration": 397,
    "start_time": "2022-04-10T16:49:28.782Z"
   },
   {
    "duration": 458,
    "start_time": "2022-04-10T16:49:29.181Z"
   },
   {
    "duration": 415,
    "start_time": "2022-04-10T16:49:29.641Z"
   },
   {
    "duration": 36,
    "start_time": "2022-04-10T16:49:30.058Z"
   },
   {
    "duration": 214,
    "start_time": "2022-04-10T16:49:30.096Z"
   },
   {
    "duration": 7,
    "start_time": "2022-04-10T16:49:30.311Z"
   },
   {
    "duration": 18,
    "start_time": "2022-04-10T16:49:30.319Z"
   },
   {
    "duration": 22,
    "start_time": "2022-04-10T16:49:30.339Z"
   },
   {
    "duration": 18,
    "start_time": "2022-04-10T16:49:30.363Z"
   },
   {
    "duration": 2312,
    "start_time": "2022-04-20T11:42:44.555Z"
   },
   {
    "duration": 10,
    "start_time": "2022-04-20T11:42:46.870Z"
   },
   {
    "duration": 772,
    "start_time": "2022-04-20T11:42:46.883Z"
   },
   {
    "duration": 135,
    "start_time": "2022-04-20T11:42:47.659Z"
   },
   {
    "duration": 31,
    "start_time": "2022-04-20T11:42:47.798Z"
   },
   {
    "duration": 27,
    "start_time": "2022-04-20T11:42:47.831Z"
   },
   {
    "duration": 49,
    "start_time": "2022-04-20T11:42:47.861Z"
   },
   {
    "duration": 20,
    "start_time": "2022-04-20T11:42:47.914Z"
   },
   {
    "duration": 39,
    "start_time": "2022-04-20T11:42:47.937Z"
   },
   {
    "duration": 104,
    "start_time": "2022-04-20T11:42:47.983Z"
   },
   {
    "duration": 38,
    "start_time": "2022-04-20T11:42:48.091Z"
   },
   {
    "duration": 24,
    "start_time": "2022-04-20T11:42:48.132Z"
   },
   {
    "duration": 34,
    "start_time": "2022-04-20T11:42:48.159Z"
   },
   {
    "duration": 22,
    "start_time": "2022-04-20T11:42:48.196Z"
   },
   {
    "duration": 362,
    "start_time": "2022-04-20T11:42:48.221Z"
   },
   {
    "duration": 38,
    "start_time": "2022-04-20T11:42:48.586Z"
   },
   {
    "duration": 46,
    "start_time": "2022-04-20T11:42:48.627Z"
   },
   {
    "duration": 20,
    "start_time": "2022-04-20T11:42:48.676Z"
   },
   {
    "duration": 29,
    "start_time": "2022-04-20T11:42:48.699Z"
   },
   {
    "duration": 432,
    "start_time": "2022-04-20T11:42:48.751Z"
   },
   {
    "duration": 26,
    "start_time": "2022-04-20T11:42:49.186Z"
   },
   {
    "duration": 82,
    "start_time": "2022-04-20T11:42:49.215Z"
   },
   {
    "duration": 12,
    "start_time": "2022-04-20T11:42:49.300Z"
   },
   {
    "duration": 64,
    "start_time": "2022-04-20T11:42:49.315Z"
   },
   {
    "duration": 17,
    "start_time": "2022-04-20T11:42:49.383Z"
   },
   {
    "duration": 11,
    "start_time": "2022-04-20T11:42:49.403Z"
   },
   {
    "duration": 341,
    "start_time": "2022-04-20T11:42:49.417Z"
   },
   {
    "duration": 14,
    "start_time": "2022-04-20T11:42:49.783Z"
   },
   {
    "duration": 20,
    "start_time": "2022-04-20T11:42:49.800Z"
   },
   {
    "duration": 16,
    "start_time": "2022-04-20T11:42:49.823Z"
   },
   {
    "duration": 30,
    "start_time": "2022-04-20T11:42:49.842Z"
   },
   {
    "duration": 14,
    "start_time": "2022-04-20T11:42:49.881Z"
   },
   {
    "duration": 15,
    "start_time": "2022-04-20T11:42:49.896Z"
   },
   {
    "duration": 91,
    "start_time": "2022-04-20T11:42:49.914Z"
   },
   {
    "duration": 62,
    "start_time": "2022-04-20T11:42:50.008Z"
   },
   {
    "duration": 44,
    "start_time": "2022-04-20T11:42:50.073Z"
   },
   {
    "duration": 16,
    "start_time": "2022-04-20T11:42:50.119Z"
   },
   {
    "duration": 78,
    "start_time": "2022-04-20T11:42:50.137Z"
   },
   {
    "duration": 61,
    "start_time": "2022-04-20T11:42:50.217Z"
   },
   {
    "duration": 85,
    "start_time": "2022-04-20T11:42:50.280Z"
   },
   {
    "duration": 30,
    "start_time": "2022-04-20T11:42:50.368Z"
   },
   {
    "duration": 6,
    "start_time": "2022-04-20T11:42:50.401Z"
   },
   {
    "duration": 85,
    "start_time": "2022-04-20T11:42:50.411Z"
   },
   {
    "duration": 294,
    "start_time": "2022-04-20T11:42:50.500Z"
   },
   {
    "duration": 10,
    "start_time": "2022-04-20T11:42:50.796Z"
   },
   {
    "duration": 989,
    "start_time": "2022-04-20T11:42:50.808Z"
   },
   {
    "duration": 955,
    "start_time": "2022-04-20T11:42:51.800Z"
   },
   {
    "duration": 1048,
    "start_time": "2022-04-20T11:42:52.758Z"
   },
   {
    "duration": 971,
    "start_time": "2022-04-20T11:42:53.809Z"
   },
   {
    "duration": 49,
    "start_time": "2022-04-20T11:42:54.783Z"
   },
   {
    "duration": 485,
    "start_time": "2022-04-20T11:42:54.834Z"
   },
   {
    "duration": 10,
    "start_time": "2022-04-20T11:42:55.321Z"
   },
   {
    "duration": 22,
    "start_time": "2022-04-20T11:42:55.352Z"
   },
   {
    "duration": 22,
    "start_time": "2022-04-20T11:42:55.377Z"
   },
   {
    "duration": 28,
    "start_time": "2022-04-20T11:42:55.402Z"
   },
   {
    "duration": 7,
    "start_time": "2022-04-20T11:46:53.171Z"
   },
   {
    "duration": 65,
    "start_time": "2022-04-20T11:53:26.250Z"
   },
   {
    "duration": 41,
    "start_time": "2022-04-20T11:53:36.399Z"
   },
   {
    "duration": 7,
    "start_time": "2022-04-20T11:59:47.111Z"
   },
   {
    "duration": 9,
    "start_time": "2022-04-20T11:59:51.252Z"
   },
   {
    "duration": 6,
    "start_time": "2022-04-20T12:02:33.977Z"
   },
   {
    "duration": 8,
    "start_time": "2022-04-20T12:02:36.985Z"
   },
   {
    "duration": 6,
    "start_time": "2022-04-20T12:03:44.340Z"
   },
   {
    "duration": 72,
    "start_time": "2022-04-20T12:04:09.137Z"
   },
   {
    "duration": 12,
    "start_time": "2022-04-20T12:06:44.301Z"
   },
   {
    "duration": 9,
    "start_time": "2022-04-20T12:06:47.443Z"
   },
   {
    "duration": 14,
    "start_time": "2022-04-20T12:06:51.554Z"
   },
   {
    "duration": 8,
    "start_time": "2022-04-20T12:06:58.204Z"
   },
   {
    "duration": 8,
    "start_time": "2022-04-20T12:07:01.303Z"
   },
   {
    "duration": 1592,
    "start_time": "2022-04-20T12:16:04.075Z"
   },
   {
    "duration": 8,
    "start_time": "2022-04-20T12:16:05.678Z"
   },
   {
    "duration": 697,
    "start_time": "2022-04-20T12:16:05.689Z"
   },
   {
    "duration": 114,
    "start_time": "2022-04-20T12:16:06.389Z"
   },
   {
    "duration": 21,
    "start_time": "2022-04-20T12:16:06.505Z"
   },
   {
    "duration": 39,
    "start_time": "2022-04-20T12:16:06.528Z"
   },
   {
    "duration": 35,
    "start_time": "2022-04-20T12:16:06.569Z"
   },
   {
    "duration": 65,
    "start_time": "2022-04-20T12:16:06.607Z"
   },
   {
    "duration": 39,
    "start_time": "2022-04-20T12:16:06.682Z"
   },
   {
    "duration": 94,
    "start_time": "2022-04-20T12:16:06.726Z"
   },
   {
    "duration": 34,
    "start_time": "2022-04-20T12:16:06.822Z"
   },
   {
    "duration": 19,
    "start_time": "2022-04-20T12:16:06.860Z"
   },
   {
    "duration": 32,
    "start_time": "2022-04-20T12:16:06.883Z"
   },
   {
    "duration": 56,
    "start_time": "2022-04-20T12:16:06.917Z"
   },
   {
    "duration": 396,
    "start_time": "2022-04-20T12:16:06.976Z"
   },
   {
    "duration": 58,
    "start_time": "2022-04-20T12:16:07.375Z"
   },
   {
    "duration": 46,
    "start_time": "2022-04-20T12:16:07.436Z"
   },
   {
    "duration": 20,
    "start_time": "2022-04-20T12:16:07.486Z"
   },
   {
    "duration": 37,
    "start_time": "2022-04-20T12:16:07.508Z"
   },
   {
    "duration": 342,
    "start_time": "2022-04-20T12:16:07.547Z"
   },
   {
    "duration": 26,
    "start_time": "2022-04-20T12:16:07.892Z"
   },
   {
    "duration": 87,
    "start_time": "2022-04-20T12:16:07.920Z"
   },
   {
    "duration": 16,
    "start_time": "2022-04-20T12:16:08.009Z"
   },
   {
    "duration": 80,
    "start_time": "2022-04-20T12:16:08.028Z"
   },
   {
    "duration": 22,
    "start_time": "2022-04-20T12:16:08.111Z"
   },
   {
    "duration": 47,
    "start_time": "2022-04-20T12:16:08.138Z"
   },
   {
    "duration": 341,
    "start_time": "2022-04-20T12:16:08.188Z"
   },
   {
    "duration": 32,
    "start_time": "2022-04-20T12:16:08.536Z"
   },
   {
    "duration": 56,
    "start_time": "2022-04-20T12:16:08.571Z"
   },
   {
    "duration": 21,
    "start_time": "2022-04-20T12:16:08.629Z"
   },
   {
    "duration": 56,
    "start_time": "2022-04-20T12:16:08.652Z"
   },
   {
    "duration": 15,
    "start_time": "2022-04-20T12:16:08.711Z"
   },
   {
    "duration": 13,
    "start_time": "2022-04-20T12:16:08.728Z"
   },
   {
    "duration": 89,
    "start_time": "2022-04-20T12:16:08.743Z"
   },
   {
    "duration": 59,
    "start_time": "2022-04-20T12:16:08.835Z"
   },
   {
    "duration": 59,
    "start_time": "2022-04-20T12:16:08.897Z"
   },
   {
    "duration": 32,
    "start_time": "2022-04-20T12:16:08.961Z"
   },
   {
    "duration": 73,
    "start_time": "2022-04-20T12:16:08.996Z"
   },
   {
    "duration": 37,
    "start_time": "2022-04-20T12:16:09.072Z"
   },
   {
    "duration": 73,
    "start_time": "2022-04-20T12:16:09.112Z"
   },
   {
    "duration": 31,
    "start_time": "2022-04-20T12:16:09.189Z"
   },
   {
    "duration": 19,
    "start_time": "2022-04-20T12:16:09.223Z"
   },
   {
    "duration": 90,
    "start_time": "2022-04-20T12:16:09.244Z"
   },
   {
    "duration": 315,
    "start_time": "2022-04-20T12:16:09.337Z"
   },
   {
    "duration": 14,
    "start_time": "2022-04-20T12:16:09.655Z"
   },
   {
    "duration": 1074,
    "start_time": "2022-04-20T12:16:09.672Z"
   },
   {
    "duration": 1344,
    "start_time": "2022-04-20T12:16:10.752Z"
   },
   {
    "duration": 1206,
    "start_time": "2022-04-20T12:16:12.100Z"
   },
   {
    "duration": 980,
    "start_time": "2022-04-20T12:16:13.309Z"
   },
   {
    "duration": 74,
    "start_time": "2022-04-20T12:16:14.293Z"
   },
   {
    "duration": 553,
    "start_time": "2022-04-20T12:16:14.370Z"
   },
   {
    "duration": 9,
    "start_time": "2022-04-20T12:16:14.925Z"
   },
   {
    "duration": 22,
    "start_time": "2022-04-20T12:16:14.952Z"
   },
   {
    "duration": 15,
    "start_time": "2022-04-20T12:16:14.978Z"
   },
   {
    "duration": 31,
    "start_time": "2022-04-20T12:16:14.996Z"
   },
   {
    "duration": 1481,
    "start_time": "2022-04-22T11:52:36.719Z"
   },
   {
    "duration": 3,
    "start_time": "2022-04-22T11:52:38.202Z"
   },
   {
    "duration": 518,
    "start_time": "2022-04-22T11:52:38.207Z"
   },
   {
    "duration": 88,
    "start_time": "2022-04-22T11:52:38.727Z"
   },
   {
    "duration": 26,
    "start_time": "2022-04-22T11:52:38.817Z"
   },
   {
    "duration": 22,
    "start_time": "2022-04-22T11:52:38.845Z"
   },
   {
    "duration": 16,
    "start_time": "2022-04-22T11:52:38.869Z"
   },
   {
    "duration": 13,
    "start_time": "2022-04-22T11:52:38.887Z"
   },
   {
    "duration": 14,
    "start_time": "2022-04-22T11:52:38.902Z"
   },
   {
    "duration": 58,
    "start_time": "2022-04-22T11:52:38.940Z"
   },
   {
    "duration": 37,
    "start_time": "2022-04-22T11:52:39.000Z"
   },
   {
    "duration": 14,
    "start_time": "2022-04-22T11:52:39.039Z"
   },
   {
    "duration": 20,
    "start_time": "2022-04-22T11:52:39.055Z"
   },
   {
    "duration": 26,
    "start_time": "2022-04-22T11:52:39.077Z"
   },
   {
    "duration": 232,
    "start_time": "2022-04-22T11:52:39.105Z"
   },
   {
    "duration": 50,
    "start_time": "2022-04-22T11:52:39.339Z"
   },
   {
    "duration": 21,
    "start_time": "2022-04-22T11:52:39.391Z"
   },
   {
    "duration": 30,
    "start_time": "2022-04-22T11:52:39.414Z"
   },
   {
    "duration": 40,
    "start_time": "2022-04-22T11:52:39.446Z"
   },
   {
    "duration": 224,
    "start_time": "2022-04-22T11:52:39.488Z"
   },
   {
    "duration": 32,
    "start_time": "2022-04-22T11:52:39.715Z"
   },
   {
    "duration": 45,
    "start_time": "2022-04-22T11:52:39.750Z"
   },
   {
    "duration": 10,
    "start_time": "2022-04-22T11:52:39.796Z"
   },
   {
    "duration": 65,
    "start_time": "2022-04-22T11:52:39.808Z"
   },
   {
    "duration": 11,
    "start_time": "2022-04-22T11:52:39.876Z"
   },
   {
    "duration": 18,
    "start_time": "2022-04-22T11:52:39.889Z"
   },
   {
    "duration": 195,
    "start_time": "2022-04-22T11:52:39.910Z"
   },
   {
    "duration": 8,
    "start_time": "2022-04-22T11:52:40.111Z"
   },
   {
    "duration": 44,
    "start_time": "2022-04-22T11:52:40.121Z"
   },
   {
    "duration": 25,
    "start_time": "2022-04-22T11:52:40.167Z"
   },
   {
    "duration": 26,
    "start_time": "2022-04-22T11:52:40.194Z"
   },
   {
    "duration": 42,
    "start_time": "2022-04-22T11:52:40.222Z"
   },
   {
    "duration": 33,
    "start_time": "2022-04-22T11:52:40.266Z"
   },
   {
    "duration": 73,
    "start_time": "2022-04-22T11:52:40.301Z"
   },
   {
    "duration": 32,
    "start_time": "2022-04-22T11:52:40.376Z"
   },
   {
    "duration": 48,
    "start_time": "2022-04-22T11:52:40.411Z"
   },
   {
    "duration": 13,
    "start_time": "2022-04-22T11:52:40.461Z"
   },
   {
    "duration": 51,
    "start_time": "2022-04-22T11:52:40.476Z"
   },
   {
    "duration": 21,
    "start_time": "2022-04-22T11:52:40.536Z"
   },
   {
    "duration": 43,
    "start_time": "2022-04-22T11:52:40.559Z"
   },
   {
    "duration": 34,
    "start_time": "2022-04-22T11:52:40.603Z"
   },
   {
    "duration": 4,
    "start_time": "2022-04-22T11:52:40.639Z"
   },
   {
    "duration": 61,
    "start_time": "2022-04-22T11:52:40.645Z"
   },
   {
    "duration": 160,
    "start_time": "2022-04-22T11:52:40.708Z"
   },
   {
    "duration": 6,
    "start_time": "2022-04-22T11:52:40.869Z"
   },
   {
    "duration": 762,
    "start_time": "2022-04-22T11:52:40.877Z"
   },
   {
    "duration": 1318,
    "start_time": "2022-04-22T11:52:41.641Z"
   },
   {
    "duration": 894,
    "start_time": "2022-04-22T11:52:42.961Z"
   },
   {
    "duration": 594,
    "start_time": "2022-04-22T11:52:43.857Z"
   },
   {
    "duration": 44,
    "start_time": "2022-04-22T11:52:44.453Z"
   },
   {
    "duration": 316,
    "start_time": "2022-04-22T11:52:44.498Z"
   },
   {
    "duration": 20,
    "start_time": "2022-04-22T11:52:44.832Z"
   },
   {
    "duration": 18,
    "start_time": "2022-04-22T11:52:44.854Z"
   },
   {
    "duration": 8,
    "start_time": "2022-04-22T11:52:44.874Z"
   },
   {
    "duration": 20,
    "start_time": "2022-04-22T11:52:44.884Z"
   },
   {
    "duration": 180,
    "start_time": "2022-04-22T11:53:40.547Z"
   },
   {
    "duration": 22,
    "start_time": "2022-04-22T11:53:54.050Z"
   },
   {
    "duration": 11,
    "start_time": "2022-04-22T11:54:19.830Z"
   },
   {
    "duration": 239,
    "start_time": "2022-04-22T12:11:21.520Z"
   },
   {
    "duration": 1287,
    "start_time": "2022-04-22T12:21:50.434Z"
   },
   {
    "duration": 14,
    "start_time": "2022-04-22T12:21:51.723Z"
   },
   {
    "duration": 538,
    "start_time": "2022-04-22T12:21:51.739Z"
   },
   {
    "duration": 92,
    "start_time": "2022-04-22T12:21:52.280Z"
   },
   {
    "duration": 14,
    "start_time": "2022-04-22T12:21:52.374Z"
   },
   {
    "duration": 15,
    "start_time": "2022-04-22T12:21:52.390Z"
   },
   {
    "duration": 33,
    "start_time": "2022-04-22T12:21:52.407Z"
   },
   {
    "duration": 13,
    "start_time": "2022-04-22T12:21:52.443Z"
   },
   {
    "duration": 14,
    "start_time": "2022-04-22T12:21:52.459Z"
   },
   {
    "duration": 61,
    "start_time": "2022-04-22T12:21:52.476Z"
   },
   {
    "duration": 31,
    "start_time": "2022-04-22T12:21:52.540Z"
   },
   {
    "duration": 8,
    "start_time": "2022-04-22T12:21:52.574Z"
   },
   {
    "duration": 19,
    "start_time": "2022-04-22T12:21:52.584Z"
   },
   {
    "duration": 36,
    "start_time": "2022-04-22T12:21:52.605Z"
   },
   {
    "duration": 280,
    "start_time": "2022-04-22T12:21:52.643Z"
   },
   {
    "duration": 37,
    "start_time": "2022-04-22T12:21:52.925Z"
   },
   {
    "duration": 20,
    "start_time": "2022-04-22T12:21:52.964Z"
   },
   {
    "duration": 10,
    "start_time": "2022-04-22T12:21:52.986Z"
   },
   {
    "duration": 45,
    "start_time": "2022-04-22T12:21:52.999Z"
   },
   {
    "duration": 215,
    "start_time": "2022-04-22T12:21:53.046Z"
   },
   {
    "duration": 19,
    "start_time": "2022-04-22T12:21:53.263Z"
   },
   {
    "duration": 54,
    "start_time": "2022-04-22T12:21:53.284Z"
   },
   {
    "duration": 11,
    "start_time": "2022-04-22T12:21:53.341Z"
   },
   {
    "duration": 27,
    "start_time": "2022-04-22T12:21:53.354Z"
   },
   {
    "duration": 12,
    "start_time": "2022-04-22T12:21:53.383Z"
   },
   {
    "duration": 11,
    "start_time": "2022-04-22T12:21:53.397Z"
   },
   {
    "duration": 214,
    "start_time": "2022-04-22T12:21:53.441Z"
   },
   {
    "duration": 7,
    "start_time": "2022-04-22T12:21:53.660Z"
   },
   {
    "duration": 14,
    "start_time": "2022-04-22T12:21:53.669Z"
   },
   {
    "duration": 11,
    "start_time": "2022-04-22T12:21:53.685Z"
   },
   {
    "duration": 10,
    "start_time": "2022-04-22T12:21:53.698Z"
   },
   {
    "duration": 17,
    "start_time": "2022-04-22T12:21:53.737Z"
   },
   {
    "duration": 10,
    "start_time": "2022-04-22T12:21:53.756Z"
   },
   {
    "duration": 47,
    "start_time": "2022-04-22T12:21:53.767Z"
   },
   {
    "duration": 51,
    "start_time": "2022-04-22T12:21:53.816Z"
   },
   {
    "duration": 29,
    "start_time": "2022-04-22T12:21:53.868Z"
   },
   {
    "duration": 12,
    "start_time": "2022-04-22T12:21:53.898Z"
   },
   {
    "duration": 78,
    "start_time": "2022-04-22T12:21:53.912Z"
   },
   {
    "duration": 15,
    "start_time": "2022-04-22T12:21:53.991Z"
   },
   {
    "duration": 53,
    "start_time": "2022-04-22T12:21:54.008Z"
   },
   {
    "duration": 14,
    "start_time": "2022-04-22T12:21:54.063Z"
   },
   {
    "duration": 4,
    "start_time": "2022-04-22T12:21:54.079Z"
   },
   {
    "duration": 54,
    "start_time": "2022-04-22T12:21:54.084Z"
   },
   {
    "duration": 158,
    "start_time": "2022-04-22T12:21:54.140Z"
   },
   {
    "duration": 6,
    "start_time": "2022-04-22T12:21:54.300Z"
   },
   {
    "duration": 605,
    "start_time": "2022-04-22T12:21:54.308Z"
   },
   {
    "duration": 564,
    "start_time": "2022-04-22T12:21:54.915Z"
   },
   {
    "duration": 678,
    "start_time": "2022-04-22T12:21:55.481Z"
   },
   {
    "duration": 560,
    "start_time": "2022-04-22T12:21:56.161Z"
   },
   {
    "duration": 43,
    "start_time": "2022-04-22T12:21:56.723Z"
   },
   {
    "duration": 253,
    "start_time": "2022-04-22T12:21:56.768Z"
   },
   {
    "duration": 19,
    "start_time": "2022-04-22T12:21:57.023Z"
   },
   {
    "duration": 23,
    "start_time": "2022-04-22T12:21:57.046Z"
   },
   {
    "duration": 12,
    "start_time": "2022-04-22T12:21:57.071Z"
   },
   {
    "duration": 19,
    "start_time": "2022-04-22T12:21:57.085Z"
   },
   {
    "duration": 1196,
    "start_time": "2022-04-23T08:05:57.901Z"
   },
   {
    "duration": 3,
    "start_time": "2022-04-23T08:05:59.100Z"
   },
   {
    "duration": 377,
    "start_time": "2022-04-23T08:05:59.104Z"
   },
   {
    "duration": 69,
    "start_time": "2022-04-23T08:05:59.483Z"
   },
   {
    "duration": 12,
    "start_time": "2022-04-23T08:05:59.554Z"
   },
   {
    "duration": 8,
    "start_time": "2022-04-23T08:05:59.568Z"
   },
   {
    "duration": 8,
    "start_time": "2022-04-23T08:05:59.578Z"
   },
   {
    "duration": 12,
    "start_time": "2022-04-23T08:05:59.588Z"
   },
   {
    "duration": 17,
    "start_time": "2022-04-23T08:05:59.602Z"
   },
   {
    "duration": 51,
    "start_time": "2022-04-23T08:05:59.623Z"
   },
   {
    "duration": 23,
    "start_time": "2022-04-23T08:05:59.676Z"
   },
   {
    "duration": 6,
    "start_time": "2022-04-23T08:05:59.701Z"
   },
   {
    "duration": 10,
    "start_time": "2022-04-23T08:05:59.709Z"
   },
   {
    "duration": 34,
    "start_time": "2022-04-23T08:05:59.721Z"
   },
   {
    "duration": 169,
    "start_time": "2022-04-23T08:05:59.757Z"
   },
   {
    "duration": 31,
    "start_time": "2022-04-23T08:05:59.928Z"
   },
   {
    "duration": 16,
    "start_time": "2022-04-23T08:05:59.961Z"
   },
   {
    "duration": 8,
    "start_time": "2022-04-23T08:05:59.979Z"
   },
   {
    "duration": 13,
    "start_time": "2022-04-23T08:05:59.989Z"
   },
   {
    "duration": 167,
    "start_time": "2022-04-23T08:06:00.005Z"
   },
   {
    "duration": 17,
    "start_time": "2022-04-23T08:06:00.174Z"
   },
   {
    "duration": 31,
    "start_time": "2022-04-23T08:06:00.192Z"
   },
   {
    "duration": 8,
    "start_time": "2022-04-23T08:06:00.224Z"
   },
   {
    "duration": 25,
    "start_time": "2022-04-23T08:06:00.255Z"
   },
   {
    "duration": 11,
    "start_time": "2022-04-23T08:06:00.281Z"
   },
   {
    "duration": 12,
    "start_time": "2022-04-23T08:06:00.294Z"
   },
   {
    "duration": 160,
    "start_time": "2022-04-23T08:06:00.308Z"
   },
   {
    "duration": 7,
    "start_time": "2022-04-23T08:06:00.472Z"
   },
   {
    "duration": 29,
    "start_time": "2022-04-23T08:06:00.481Z"
   },
   {
    "duration": 34,
    "start_time": "2022-04-23T08:06:00.511Z"
   },
   {
    "duration": 30,
    "start_time": "2022-04-23T08:06:00.547Z"
   },
   {
    "duration": 25,
    "start_time": "2022-04-23T08:06:00.579Z"
   },
   {
    "duration": 20,
    "start_time": "2022-04-23T08:06:00.606Z"
   },
   {
    "duration": 49,
    "start_time": "2022-04-23T08:06:00.628Z"
   },
   {
    "duration": 27,
    "start_time": "2022-04-23T08:06:00.679Z"
   },
   {
    "duration": 26,
    "start_time": "2022-04-23T08:06:00.708Z"
   },
   {
    "duration": 26,
    "start_time": "2022-04-23T08:06:00.735Z"
   },
   {
    "duration": 35,
    "start_time": "2022-04-23T08:06:00.763Z"
   },
   {
    "duration": 12,
    "start_time": "2022-04-23T08:06:00.800Z"
   },
   {
    "duration": 61,
    "start_time": "2022-04-23T08:06:00.814Z"
   },
   {
    "duration": 11,
    "start_time": "2022-04-23T08:06:00.877Z"
   },
   {
    "duration": 30,
    "start_time": "2022-04-23T08:06:00.890Z"
   },
   {
    "duration": 39,
    "start_time": "2022-04-23T08:06:00.922Z"
   },
   {
    "duration": 129,
    "start_time": "2022-04-23T08:06:00.963Z"
   },
   {
    "duration": 6,
    "start_time": "2022-04-23T08:06:01.094Z"
   },
   {
    "duration": 474,
    "start_time": "2022-04-23T08:06:01.101Z"
   },
   {
    "duration": 520,
    "start_time": "2022-04-23T08:06:01.577Z"
   },
   {
    "duration": 499,
    "start_time": "2022-04-23T08:06:02.098Z"
   },
   {
    "duration": 411,
    "start_time": "2022-04-23T08:06:02.598Z"
   },
   {
    "duration": 43,
    "start_time": "2022-04-23T08:06:03.011Z"
   },
   {
    "duration": 235,
    "start_time": "2022-04-23T08:06:03.056Z"
   },
   {
    "duration": 7,
    "start_time": "2022-04-23T08:06:03.294Z"
   },
   {
    "duration": 15,
    "start_time": "2022-04-23T08:06:03.303Z"
   },
   {
    "duration": 7,
    "start_time": "2022-04-23T08:06:03.319Z"
   },
   {
    "duration": 33,
    "start_time": "2022-04-23T08:06:03.328Z"
   },
   {
    "duration": 25,
    "start_time": "2022-04-23T08:11:29.775Z"
   },
   {
    "duration": 5,
    "start_time": "2022-04-23T08:11:38.802Z"
   },
   {
    "duration": 95,
    "start_time": "2022-04-23T08:11:45.994Z"
   },
   {
    "duration": 4,
    "start_time": "2022-04-23T08:11:50.630Z"
   },
   {
    "duration": 203,
    "start_time": "2022-04-23T08:12:00.890Z"
   },
   {
    "duration": 163,
    "start_time": "2022-04-23T08:12:32.641Z"
   },
   {
    "duration": 7,
    "start_time": "2022-04-23T08:16:19.893Z"
   },
   {
    "duration": 10,
    "start_time": "2022-04-23T08:16:55.293Z"
   },
   {
    "duration": 8,
    "start_time": "2022-04-23T08:16:59.357Z"
   },
   {
    "duration": 7,
    "start_time": "2022-04-23T08:17:01.301Z"
   },
   {
    "duration": 1293,
    "start_time": "2022-04-23T08:40:12.732Z"
   },
   {
    "duration": 3,
    "start_time": "2022-04-23T08:40:14.027Z"
   },
   {
    "duration": 585,
    "start_time": "2022-04-23T08:40:14.032Z"
   },
   {
    "duration": 80,
    "start_time": "2022-04-23T08:40:14.619Z"
   },
   {
    "duration": 13,
    "start_time": "2022-04-23T08:40:14.702Z"
   },
   {
    "duration": 12,
    "start_time": "2022-04-23T08:40:14.717Z"
   },
   {
    "duration": 33,
    "start_time": "2022-04-23T08:40:14.731Z"
   },
   {
    "duration": 31,
    "start_time": "2022-04-23T08:40:14.766Z"
   },
   {
    "duration": 19,
    "start_time": "2022-04-23T08:40:14.799Z"
   },
   {
    "duration": 40,
    "start_time": "2022-04-23T08:40:14.822Z"
   },
   {
    "duration": 23,
    "start_time": "2022-04-23T08:40:14.866Z"
   },
   {
    "duration": 6,
    "start_time": "2022-04-23T08:40:14.891Z"
   },
   {
    "duration": 30,
    "start_time": "2022-04-23T08:40:14.898Z"
   },
   {
    "duration": 19,
    "start_time": "2022-04-23T08:40:14.929Z"
   },
   {
    "duration": 190,
    "start_time": "2022-04-23T08:40:14.950Z"
   },
   {
    "duration": 35,
    "start_time": "2022-04-23T08:40:15.142Z"
   },
   {
    "duration": 17,
    "start_time": "2022-04-23T08:40:15.179Z"
   },
   {
    "duration": 9,
    "start_time": "2022-04-23T08:40:15.198Z"
   },
   {
    "duration": 16,
    "start_time": "2022-04-23T08:40:15.208Z"
   },
   {
    "duration": 188,
    "start_time": "2022-04-23T08:40:15.226Z"
   },
   {
    "duration": 25,
    "start_time": "2022-04-23T08:40:15.416Z"
   },
   {
    "duration": 39,
    "start_time": "2022-04-23T08:40:15.455Z"
   },
   {
    "duration": 7,
    "start_time": "2022-04-23T08:40:15.496Z"
   },
   {
    "duration": 26,
    "start_time": "2022-04-23T08:40:15.505Z"
   },
   {
    "duration": 13,
    "start_time": "2022-04-23T08:40:15.554Z"
   },
   {
    "duration": 15,
    "start_time": "2022-04-23T08:40:15.570Z"
   },
   {
    "duration": 152,
    "start_time": "2022-04-23T08:40:15.587Z"
   },
   {
    "duration": 17,
    "start_time": "2022-04-23T08:40:15.743Z"
   },
   {
    "duration": 25,
    "start_time": "2022-04-23T08:40:15.762Z"
   },
   {
    "duration": 13,
    "start_time": "2022-04-23T08:40:15.789Z"
   },
   {
    "duration": 9,
    "start_time": "2022-04-23T08:40:15.804Z"
   },
   {
    "duration": 8,
    "start_time": "2022-04-23T08:40:15.814Z"
   },
   {
    "duration": 13,
    "start_time": "2022-04-23T08:40:15.823Z"
   },
   {
    "duration": 55,
    "start_time": "2022-04-23T08:40:15.838Z"
   },
   {
    "duration": 30,
    "start_time": "2022-04-23T08:40:15.894Z"
   },
   {
    "duration": 50,
    "start_time": "2022-04-23T08:40:15.925Z"
   },
   {
    "duration": 11,
    "start_time": "2022-04-23T08:40:15.977Z"
   },
   {
    "duration": 40,
    "start_time": "2022-04-23T08:40:15.989Z"
   },
   {
    "duration": 42,
    "start_time": "2022-04-23T08:40:16.031Z"
   },
   {
    "duration": 26,
    "start_time": "2022-04-23T08:40:16.075Z"
   },
   {
    "duration": 14,
    "start_time": "2022-04-23T08:40:16.102Z"
   },
   {
    "duration": 12,
    "start_time": "2022-04-23T08:40:16.117Z"
   },
   {
    "duration": 48,
    "start_time": "2022-04-23T08:40:16.131Z"
   },
   {
    "duration": 229,
    "start_time": "2022-04-23T08:40:16.182Z"
   },
   {
    "duration": 9,
    "start_time": "2022-04-23T08:40:16.413Z"
   },
   {
    "duration": 554,
    "start_time": "2022-04-23T08:40:16.424Z"
   },
   {
    "duration": 470,
    "start_time": "2022-04-23T08:40:16.980Z"
   },
   {
    "duration": 560,
    "start_time": "2022-04-23T08:40:17.455Z"
   },
   {
    "duration": 483,
    "start_time": "2022-04-23T08:40:18.017Z"
   },
   {
    "duration": 31,
    "start_time": "2022-04-23T08:40:18.502Z"
   },
   {
    "duration": 300,
    "start_time": "2022-04-23T08:40:18.534Z"
   },
   {
    "duration": 27,
    "start_time": "2022-04-23T08:40:18.836Z"
   },
   {
    "duration": 22,
    "start_time": "2022-04-23T08:40:18.867Z"
   },
   {
    "duration": 8,
    "start_time": "2022-04-23T08:40:18.891Z"
   },
   {
    "duration": 19,
    "start_time": "2022-04-23T08:40:18.901Z"
   }
  ],
  "kernelspec": {
   "display_name": "Python 3 (ipykernel)",
   "language": "python",
   "name": "python3"
  },
  "language_info": {
   "codemirror_mode": {
    "name": "ipython",
    "version": 3
   },
   "file_extension": ".py",
   "mimetype": "text/x-python",
   "name": "python",
   "nbconvert_exporter": "python",
   "pygments_lexer": "ipython3",
   "version": "3.9.5"
  },
  "toc": {
   "base_numbering": 1,
   "nav_menu": {},
   "number_sections": true,
   "sideBar": true,
   "skip_h1_title": true,
   "title_cell": "Table of Contents",
   "title_sidebar": "Contents",
   "toc_cell": false,
   "toc_position": {
    "height": "calc(100% - 180px)",
    "left": "10px",
    "top": "150px",
    "width": "270.391px"
   },
   "toc_section_display": true,
   "toc_window_display": true
  }
 },
 "nbformat": 4,
 "nbformat_minor": 2
}
